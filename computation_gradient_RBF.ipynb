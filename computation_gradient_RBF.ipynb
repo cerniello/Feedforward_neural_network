{
 "cells": [
  {
   "cell_type": "markdown",
   "metadata": {},
   "source": [
    "<center><h4><b><font color='#333333'>Computation of the gradient (RBF)</font></b></h4></center>"
   ]
  },
  {
   "cell_type": "markdown",
   "metadata": {},
   "source": [
    "<center>\n",
    "$\\displaystyle{ f(x) = \\sum_{j = 1}^N \\left[v_j \\phi \\left(||\\vec{x} - \\vec{c}_j ||\\right) \\right] = \\sum_{j = 1}^N v_j \\cdot e^{-\\displaystyle{\\frac{||\\vec{x} - \\vec{c_j}||^2}{\\sigma^2}}} }$\n",
    "<br><br>\n",
    "$\\displaystyle{ \\phi(||\\vec{x} - \\vec{c}||) = e^{-\\displaystyle{\\frac{||\\vec{x} - \\vec{c}||^2}{\\sigma^2}}}}$\n",
    "<br><br>\n",
    "$\\displaystyle{ E(\\omega; \\pi) = \\frac{1}{2P} \\sum_{p = 1}^P \\left[ f(x_p) - y_p \\right]^2 + \\rho \\cdot ||\\omega||^2 } = $\n",
    "<br>\n",
    "$\\displaystyle{ = \\frac{1}{2P} \\sum_{p = 1}^P \\left[ \\sum_{j = 1}^N v_j \\cdot e^{-\\displaystyle{\\frac{||\\vec{x_p} - \\vec{c_j}||^2}{\\sigma^2}}} - y_p \\right]^{\\space 2} + \\rho \\cdot \\left[ \\sum_{j = 1}^N v_j^2 + \\sum_{j = 1}^N \\sum_{i = 1}^n c_{ji}^2 \\right] }$\n",
    "<br>\n",
    "$\\displaystyle{ = \\frac{1}{2P} \\sum_{p = 1}^P \\left[ \\sum_{j = 1}^N v_j \\cdot e^{-\\displaystyle{\\sum_{i=1}^n\\frac{(x_{pi} - c_{ji})^2}{\\sigma^2}}} - y_p \\right]^{\\space 2} + \\rho \\cdot \\left[ \\sum_{j = 1}^N v_j^2 + \\sum_{j = 1}^N \\sum_{i = 1}^n c_{ji}^2 \\right] }$\n",
    "</center>"
   ]
  },
  {
   "cell_type": "markdown",
   "metadata": {},
   "source": [
    "<center>\n",
    "<br>\n",
    "$\\vec{\\nabla E} = \\displaystyle{ \\left [\\frac{\\partial{E}}{\\partial{v_1}} \\space, ... , \\space \\frac{\\partial{E}}{\\partial{v_N}} \\space , \\space \\frac{\\partial{E}}{\\partial{c_{11}}} \\space , ... , \\space \\frac{\\partial{E}}{\\partial{c_{nN}}} \\right]^T }$\n",
    "<br><br>    \n",
    "$\\displaystyle{ \\frac{\\partial E}{\\partial v_{j'}} = \\frac{1}{P} \\sum_{p = 1}^P \\left[ \\sum_{j = 1}^N v_j \\cdot e^{-\\displaystyle{\\frac{||\\vec{x_p} - \\vec{c_j}||^2}{\\sigma^2}}} - y_p \\right] \\cdot e^{-\\displaystyle{\\frac{||\\vec{x_p} - \\vec{c_j'}||^2}{\\sigma^2}}} + 2 \\rho v_{j'}}$\n",
    "<br><br>\n",
    "$\\displaystyle{ \\frac{\\partial E}{\\partial c_{j'i'}} = \\frac{1}{P} \\sum_{p = 1}^P \\left[ \\sum_{j = 1}^N v_j \\cdot e^{-\\displaystyle{\\frac{||\\vec{x_p} - \\vec{c_j}||^2}{\\sigma^2}}} - y_p \\right] \\cdot \\left[ 2 v_{j'} \\space \\frac{x_{pi'} - c_{j'i'}}{\\sigma^2} \\space e^{-\\displaystyle{\\frac{||\\vec{x_p} - \\vec{c_{j'}}||^2}{\\sigma^2}}} \\right] + 2 \\rho c_{j'i'}}$\n",
    "</center>"
   ]
  }
 ],
 "metadata": {
  "kernelspec": {
   "display_name": "Python 3",
   "language": "python",
   "name": "python3"
  },
  "language_info": {
   "codemirror_mode": {
    "name": "ipython",
    "version": 3
   },
   "file_extension": ".py",
   "mimetype": "text/x-python",
   "name": "python",
   "nbconvert_exporter": "python",
   "pygments_lexer": "ipython3",
   "version": "3.7.3"
  }
 },
 "nbformat": 4,
 "nbformat_minor": 2
}
