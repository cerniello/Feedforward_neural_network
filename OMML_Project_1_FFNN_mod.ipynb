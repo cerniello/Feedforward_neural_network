{
 "cells": [
  {
   "cell_type": "markdown",
   "metadata": {},
   "source": [
    "<center><h3><font color='#E95420'>Optimization Methods for Machine Learning</font></h3>\n",
    "<center><h3><font color='#772953'>Homework 1</font></h3></center>\n",
    "<br><br> \n",
    "<center><h4><font color='#333333'>Michele Cernigliaro</font></h4></center>\n",
    "<center><h4><font color='#333333'>Francesco Russo</font></h4></center>\n",
    "<br><br>"
   ]
  },
  {
   "cell_type": "markdown",
   "metadata": {},
   "source": [
    "<center><h4><b><font color='#333333'>Question 1</font></b></h4></center>\n",
    "\n",
    "You must construct a shallow **Feedforward Neural Network** (FNN) (one only hidden layer), either\n",
    "a **MLP** or a **RBF** network, that provides the model $f(x)$. We denote by ***π*** the hyper-parameters of\n",
    "the network to be settled by means of an heuristic procedure and ***ω*** the parameters to be settled\n",
    "by minimizing the regularized training error."
   ]
  },
  {
   "cell_type": "markdown",
   "metadata": {},
   "source": [
    "<center><h4><b><font color='#333333'>Question 1.1)</font></b></h4>\n",
    "___________________________________________________________________________________________________\n",
    "</center>\n",
    "<br><br>\n",
    "\n",
    "We must construct a **MLP** (Multi Layer Perceptron)"
   ]
  },
  {
   "cell_type": "code",
   "execution_count": 1,
   "metadata": {},
   "outputs": [],
   "source": [
    "import pandas as pd\n",
    "import numpy as np"
   ]
  },
  {
   "cell_type": "markdown",
   "metadata": {},
   "source": [
    "<center>\n",
    "$\\displaystyle{ f(x) = \\sum_{j = 1}^N \\left[v_j g \\left(\\sum_{i = 1}^2 w_{ji} \\cdot x_i - b_j \\right) \\right] }$\n",
    "<br><br>\n",
    "\\[\\vec{x_1} = \\begin{bmatrix}\n",
    "x_{11} \\\\ ... \\\\ x_{1P}\n",
    "\\end{bmatrix}\n",
    "\\quad\\quad\n",
    "\\vec{x_2} = \\begin{bmatrix}\n",
    "x_{21} \\\\ ... \\\\ x_{2P}\n",
    "\\end{bmatrix}\n",
    "\\quad\\quad\n",
    "\\vec{y} = \\begin{bmatrix}\n",
    "y_{1} \\\\ ... \\\\ y_{P}\n",
    "\\end{bmatrix}\n",
    "\\quad\\quad\n",
    "\\vec{\\pi} = \\begin{bmatrix}\n",
    "N \\\\ \\sigma \\\\ \\rho\n",
    "\\end{bmatrix}\n",
    "\\quad\\quad\n",
    "\\vec{\\omega} = \\begin{bmatrix}\n",
    "v \\\\ w \\\\ b\n",
    "\\end{bmatrix}\n",
    "\\]\n",
    "<br>\n",
    "$\\displaystyle{ g(t) = tanh(t) = \\frac{e^{2 \\sigma t} - 1}{e^{2 \\sigma t} + 1} }$\n",
    "<br><br>\n",
    "$\\displaystyle{ E(\\omega; \\pi) = \\frac{1}{2P} \\sum_{p = 1}^P \\left[ f(x_p) - y_p \\right]^2 + \\rho \\cdot ||\\omega||^2 }$\n",
    "<img src=\"FFNN.png\">\n",
    "</center>"
   ]
  },
  {
   "cell_type": "code",
   "execution_count": 2,
   "metadata": {},
   "outputs": [
    {
     "data": {
      "text/html": [
       "<div>\n",
       "<style scoped>\n",
       "    .dataframe tbody tr th:only-of-type {\n",
       "        vertical-align: middle;\n",
       "    }\n",
       "\n",
       "    .dataframe tbody tr th {\n",
       "        vertical-align: top;\n",
       "    }\n",
       "\n",
       "    .dataframe thead th {\n",
       "        text-align: right;\n",
       "    }\n",
       "</style>\n",
       "<table border=\"1\" class=\"dataframe\">\n",
       "  <thead>\n",
       "    <tr style=\"text-align: right;\">\n",
       "      <th></th>\n",
       "      <th>x1</th>\n",
       "      <th>x2</th>\n",
       "      <th>y</th>\n",
       "    </tr>\n",
       "  </thead>\n",
       "  <tbody>\n",
       "    <tr>\n",
       "      <th>0</th>\n",
       "      <td>-1.262271</td>\n",
       "      <td>0.746859</td>\n",
       "      <td>0.461002</td>\n",
       "    </tr>\n",
       "    <tr>\n",
       "      <th>1</th>\n",
       "      <td>-0.804355</td>\n",
       "      <td>0.937081</td>\n",
       "      <td>0.617336</td>\n",
       "    </tr>\n",
       "    <tr>\n",
       "      <th>2</th>\n",
       "      <td>-1.805674</td>\n",
       "      <td>0.738389</td>\n",
       "      <td>-0.053984</td>\n",
       "    </tr>\n",
       "    <tr>\n",
       "      <th>3</th>\n",
       "      <td>-0.888805</td>\n",
       "      <td>0.061711</td>\n",
       "      <td>1.943678</td>\n",
       "    </tr>\n",
       "    <tr>\n",
       "      <th>4</th>\n",
       "      <td>-1.667562</td>\n",
       "      <td>-0.534543</td>\n",
       "      <td>2.127070</td>\n",
       "    </tr>\n",
       "  </tbody>\n",
       "</table>\n",
       "</div>"
      ],
      "text/plain": [
       "         x1        x2         y\n",
       "0 -1.262271  0.746859  0.461002\n",
       "1 -0.804355  0.937081  0.617336\n",
       "2 -1.805674  0.738389 -0.053984\n",
       "3 -0.888805  0.061711  1.943678\n",
       "4 -1.667562 -0.534543  2.127070"
      ]
     },
     "execution_count": 2,
     "metadata": {},
     "output_type": "execute_result"
    }
   ],
   "source": [
    "file = pd.ExcelFile('dataPoints.xlsx')\n",
    "df = file.parse('Foglio1')\n",
    "df.head()"
   ]
  },
  {
   "cell_type": "code",
   "execution_count": 3,
   "metadata": {},
   "outputs": [],
   "source": [
    "X = df[['x1', 'x2']].to_numpy()\n",
    "X = np.append(X, -1 * np.ones((X.shape[0], 1)), axis=1)\n",
    "y_true = df[['y']].to_numpy().reshape(1,-1)"
   ]
  },
  {
   "cell_type": "code",
   "execution_count": 4,
   "metadata": {},
   "outputs": [],
   "source": [
    "def g_fun(X):\n",
    "    return np.tanh(X)\n",
    "\n",
    "def fun(X, omega):\n",
    "    # extract param vectors from omega\n",
    "    v = omega[0:N].reshape(1, N)\n",
    "    W = omega[N:3*N].reshape(N, n)\n",
    "    b = omega[3*N:].reshape(N, 1)\n",
    "    \n",
    "    # merge W with b\n",
    "    Wb = np.append(W, b, axis=1)\n",
    "    \n",
    "    return np.dot(v, g_fun(np.dot(Wb, np.transpose(X))))"
   ]
  },
  {
   "cell_type": "code",
   "execution_count": 5,
   "metadata": {},
   "outputs": [],
   "source": [
    "#np.random.seed(123) # seed (for reprudecebility)\n",
    "\n",
    "P = X.shape[0]        # number of observations\n",
    "N = 10                # number of neurons in hidden layer\n",
    "n = X.shape[1] - 1    # number of independent variables\n",
    "sigma = 1\n",
    "rho = 0.0005\n",
    "\n",
    "# parameters initialization\n",
    "W = np.random.random((N,n))\n",
    "b = np.random.random((N,1))\n",
    "v = np.random.random((N,1))\n",
    "\n",
    "#print(v, \"\\n\")\n",
    "#print(W, \"\\n\")\n",
    "#print(b, \"\\n\", '-------------------')\n",
    "\n",
    "# all the parameters\n",
    "omega = np.concatenate((v, W.reshape(N*n,1), b))\n",
    "\n",
    "#print(omega[0:N].reshape(1, N),'\\n')\n",
    "#print(omega[N:3*N].reshape(N, X.shape[1]),'\\n')\n",
    "#print(omega[3*N:].reshape(N, 1))"
   ]
  },
  {
   "cell_type": "code",
   "execution_count": 6,
   "metadata": {},
   "outputs": [],
   "source": [
    "def loss(omega):\n",
    "    y_pred = fun(X, omega)\n",
    "    l = np.sum((y_pred - y_true)**2)/(2 * 300) + rho * np.linalg.norm(omega)**2\n",
    "    return l"
   ]
  },
  {
   "cell_type": "code",
   "execution_count": 7,
   "metadata": {},
   "outputs": [
    {
     "data": {
      "text/plain": [
       "6.037605870646368"
      ]
     },
     "execution_count": 7,
     "metadata": {},
     "output_type": "execute_result"
    }
   ],
   "source": [
    "loss(omega)"
   ]
  },
  {
   "cell_type": "code",
   "execution_count": 8,
   "metadata": {},
   "outputs": [],
   "source": [
    "from scipy.optimize import minimize as minimize"
   ]
  },
  {
   "cell_type": "code",
   "execution_count": 9,
   "metadata": {},
   "outputs": [
    {
     "data": {
      "text/plain": [
       "      fun: 0.06976955622313348\n",
       " hess_inv: array([[ 1.26964095e+02,  6.36587515e+01, -5.04152812e+01, ...,\n",
       "        -1.09001980e+01,  1.30584003e+01,  2.49970447e+00],\n",
       "       [ 6.36587515e+01,  8.99008135e+02,  3.45211410e+00, ...,\n",
       "        -8.42952288e-01, -4.65988472e+01, -1.53845094e+01],\n",
       "       [-5.04152812e+01,  3.45211410e+00,  1.63048978e+02, ...,\n",
       "         8.46767078e+00,  2.27156615e+01,  2.68639027e+01],\n",
       "       ...,\n",
       "       [-1.09001980e+01, -8.42952288e-01,  8.46767078e+00, ...,\n",
       "         2.47791349e+01,  2.56212011e+00, -1.30132341e+00],\n",
       "       [ 1.30584003e+01, -4.65988472e+01,  2.27156615e+01, ...,\n",
       "         2.56212011e+00,  1.58606542e+02,  9.71342023e+00],\n",
       "       [ 2.49970447e+00, -1.53845094e+01,  2.68639027e+01, ...,\n",
       "        -1.30132341e+00,  9.71342023e+00,  5.08782193e+01]])\n",
       "      jac: array([ 7.23730773e-06, -6.09736890e-06,  4.51039523e-06, -8.59610736e-07,\n",
       "       -2.99792737e-06,  7.73090869e-06,  6.17746264e-06,  1.12969428e-06,\n",
       "        4.05125320e-06,  5.10457903e-06,  2.47824937e-06, -6.62170351e-07,\n",
       "        3.35276127e-06, -2.98675150e-06, -5.29922545e-07, -4.22168523e-06,\n",
       "       -4.25148755e-06,  1.04308128e-07,  2.31340528e-06, -5.20609319e-07,\n",
       "        1.00210309e-06,  3.44589353e-08, -2.88803130e-06,  5.96977770e-07,\n",
       "       -1.26007944e-06,  3.32389027e-06, -1.85053796e-06,  1.44448131e-06,\n",
       "        2.71014869e-07, -8.81031156e-07,  9.45292413e-07,  3.58838588e-06,\n",
       "        8.53370875e-06, -4.54485416e-07,  7.49155879e-06, -3.26149166e-06,\n",
       "       -3.98512930e-06, -4.38559800e-06, -5.22751361e-06,  3.29595059e-06])\n",
       "  message: 'Optimization terminated successfully.'\n",
       "     nfev: 14532\n",
       "      nit: 338\n",
       "     njev: 346\n",
       "   status: 0\n",
       "  success: True\n",
       "        x: array([ 2.14067457,  1.34901845,  2.25660943, -1.45429605,  1.3512087 ,\n",
       "       -1.80460788, -1.34863418, -1.9373903 , -1.35083843,  1.76047654,\n",
       "       -0.21633047, -2.60624335, -0.04565675,  0.25101517,  0.49006776,\n",
       "        1.14383338,  1.96865574, -0.16504924, -0.04611526,  0.25265046,\n",
       "        0.36306062, -1.13255412,  0.04593858, -0.25205513,  0.05271357,\n",
       "        2.92733609,  0.04595268, -0.25196033,  2.04117977,  0.0158146 ,\n",
       "        2.52533403, -0.88936964,  1.23279955, -0.86421354, -0.88750924,\n",
       "        0.6663127 ,  0.88858967,  1.02934309,  0.88873084,  0.99569439])"
      ]
     },
     "execution_count": 9,
     "metadata": {},
     "output_type": "execute_result"
    }
   ],
   "source": [
    "q = minimize(loss, omega, method = \"BFGS\", options = {'gtol': 1e-05, 'eps': 1.4901161193847656e-08})\n",
    "q"
   ]
  },
  {
   "cell_type": "code",
   "execution_count": 10,
   "metadata": {},
   "outputs": [
    {
     "data": {
      "text/plain": [
       "array([ 2.14067457,  1.34901845,  2.25660943, -1.45429605,  1.3512087 ,\n",
       "       -1.80460788, -1.34863418, -1.9373903 , -1.35083843,  1.76047654,\n",
       "       -0.21633047, -2.60624335, -0.04565675,  0.25101517,  0.49006776,\n",
       "        1.14383338,  1.96865574, -0.16504924, -0.04611526,  0.25265046,\n",
       "        0.36306062, -1.13255412,  0.04593858, -0.25205513,  0.05271357,\n",
       "        2.92733609,  0.04595268, -0.25196033,  2.04117977,  0.0158146 ,\n",
       "        2.52533403, -0.88936964,  1.23279955, -0.86421354, -0.88750924,\n",
       "        0.6663127 ,  0.88858967,  1.02934309,  0.88873084,  0.99569439])"
      ]
     },
     "execution_count": 10,
     "metadata": {},
     "output_type": "execute_result"
    }
   ],
   "source": [
    "q.x"
   ]
  },
  {
   "cell_type": "code",
   "execution_count": 11,
   "metadata": {},
   "outputs": [],
   "source": [
    "v_0 = omega[0:N].reshape(1, N)\n",
    "W_0 = omega[N:3*N].reshape(N, n)\n",
    "b_0 = omega[3*N:].reshape(N, 1)"
   ]
  },
  {
   "cell_type": "code",
   "execution_count": 12,
   "metadata": {},
   "outputs": [
    {
     "name": "stdout",
     "output_type": "stream",
     "text": [
      "[[0.65518427 0.87931567 0.90577331 0.50491343 0.00847125 0.97413178\n",
      "  0.10466271 0.04304338 0.00190801 0.228636  ]] \n",
      "\n",
      "[[0.02703791 0.31997048]\n",
      " [0.3479972  0.21505721]\n",
      " [0.72984043 0.57219695]\n",
      " [0.1787696  0.53277701]\n",
      " [0.74974063 0.40204775]\n",
      " [0.33905773 0.16086841]\n",
      " [0.97250422 0.53033218]\n",
      " [0.71953231 0.70530451]\n",
      " [0.79810654 0.37480766]\n",
      " [0.91780235 0.27194346]] \n",
      "\n",
      "[[0.5146439 ]\n",
      " [0.75315707]\n",
      " [0.30379646]\n",
      " [0.48756334]\n",
      " [0.42155458]\n",
      " [0.73837601]\n",
      " [0.98611104]\n",
      " [0.78959806]\n",
      " [0.75294506]\n",
      " [0.3685829 ]] \n",
      "\n"
     ]
    }
   ],
   "source": [
    "print(v_0, \"\\n\")\n",
    "print(W_0, \"\\n\")\n",
    "print(b_0, \"\\n\")"
   ]
  },
  {
   "cell_type": "code",
   "execution_count": 13,
   "metadata": {
    "scrolled": true
   },
   "outputs": [
    {
     "name": "stdout",
     "output_type": "stream",
     "text": [
      "[[ 2.14067457  1.34901845  2.25660943 -1.45429605  1.3512087  -1.80460788\n",
      "  -1.34863418 -1.9373903  -1.35083843  1.76047654]] \n",
      "\n",
      "[[-0.21633047 -2.60624335]\n",
      " [-0.04565675  0.25101517]\n",
      " [ 0.49006776  1.14383338]\n",
      " [ 1.96865574 -0.16504924]\n",
      " [-0.04611526  0.25265046]\n",
      " [ 0.36306062 -1.13255412]\n",
      " [ 0.04593858 -0.25205513]\n",
      " [ 0.05271357  2.92733609]\n",
      " [ 0.04595268 -0.25196033]\n",
      " [ 2.04117977  0.0158146 ]] \n",
      "\n",
      "[[ 2.52533403]\n",
      " [-0.88936964]\n",
      " [ 1.23279955]\n",
      " [-0.86421354]\n",
      " [-0.88750924]\n",
      " [ 0.6663127 ]\n",
      " [ 0.88858967]\n",
      " [ 1.02934309]\n",
      " [ 0.88873084]\n",
      " [ 0.99569439]] \n",
      "\n"
     ]
    }
   ],
   "source": [
    "v = q.x[0:N].reshape(1, N)\n",
    "W = q.x[N:3*N].reshape(N, n)\n",
    "b = q.x[3*N:].reshape(N, 1)\n",
    "\n",
    "print(v, \"\\n\")\n",
    "print(W, \"\\n\")\n",
    "print(b, \"\\n\")"
   ]
  },
  {
   "cell_type": "code",
   "execution_count": 14,
   "metadata": {},
   "outputs": [
    {
     "data": {
      "text/plain": [
       "6.037605870646368"
      ]
     },
     "execution_count": 14,
     "metadata": {},
     "output_type": "execute_result"
    }
   ],
   "source": [
    "loss(omega)"
   ]
  },
  {
   "cell_type": "code",
   "execution_count": 15,
   "metadata": {},
   "outputs": [
    {
     "data": {
      "text/plain": [
       "0.06976955622313348"
      ]
     },
     "execution_count": 15,
     "metadata": {},
     "output_type": "execute_result"
    }
   ],
   "source": [
    "loss(q.x)"
   ]
  },
  {
   "cell_type": "code",
   "execution_count": null,
   "metadata": {},
   "outputs": [],
   "source": [
    "import plotly.graph_objects as go\n",
    "import numpy as np\n",
    "\n",
    "x = np.random.uniform(-2, 2, 100000).reshape(-1,1)\n",
    "y = np.random.uniform(-1, 1, 100000).reshape(-1,1)\n",
    "X_points = np.append(x, -1*np.ones((x.shape[0],1)), axis=1)\n",
    "z = fun(np.append(X_points, y, axis=1), q.x)\n",
    "\n",
    "x = x.reshape(-1)\n",
    "y = y.reshape(-1)\n",
    "z = z.reshape(-1)\n",
    "\n",
    "fig = go.Figure(data=[go.Scatter3d(\n",
    "    x=x,\n",
    "    y=y,\n",
    "    z=z,\n",
    "    mode='markers',\n",
    "    marker=dict(\n",
    "        size=2,\n",
    "        color=z,                # set color to an array/list of desired values\n",
    "        colorscale='Viridis',   # choose a colorscale\n",
    "        opacity=0.8\n",
    "    )\n",
    ")])\n",
    "\n",
    "# tight layout\n",
    "fig.update_layout(margin=dict(l=0, r=0, b=0, t=0))\n",
    "fig.show()"
   ]
  },
  {
   "cell_type": "markdown",
   "metadata": {},
   "source": [
    "<center><h4><b><font color='#333333'>Computation of the gradient</font></b></h4></center>"
   ]
  },
  {
   "cell_type": "markdown",
   "metadata": {},
   "source": [
    "<center>\n",
    "$\\displaystyle{ f(x) = \\sum_{j = 1}^N \\left[v_j g \\left(\\sum_{i = 1}^2 w_{ji} \\cdot x_i - b_j \\right) \\right] }$\n",
    "    <br>\n",
    "$\\displaystyle{ E(\\omega; \\pi) = \\frac{1}{2P} \\sum_{p = 1}^P \\left[ f(x_p) - y_p \\right]^2 + \\rho \\cdot ||\\omega||^2 } = $\n",
    "<br>\n",
    "$ = \\displaystyle{\\frac{1}{2P} \\sum_{p = 1}^P \\left[ \\sum_{j = 1}^N \\left[v_j g \\left(\\sum_{i = 1}^2 w_{ji} \\cdot x_{pi} - b_j \\right) \\right] - y_p \\right]^2 + \\rho \\cdot \\left( \\sum_{j = 1}^N v_j^2 + \\sum_{i = 1}^n \\sum_{j = 1}^N w_{ij}^2 + \\sum_{j = 1}^N b_j^2 \\right)}$\n",
    "    <br>\n",
    "$\\displaystyle{ g(t) = tanh(t) = \\frac{e^{2 \\sigma t} - 1}{e^{2 \\sigma t} + 1} }$\n",
    "</center>"
   ]
  },
  {
   "cell_type": "markdown",
   "metadata": {},
   "source": [
    "<center>\n",
    "$\\vec{\\nabla E} = \\displaystyle{ \\left [\\frac{\\partial{E}}{\\partial{v_1}} \\space, ... , \\space \\frac{\\partial{E}}{\\partial{v_N}} \\space , \\space \\frac{\\partial{E}}{\\partial{w_{11}}} \\space , ... , \\space \\frac{\\partial{E}}{\\partial{w_{nN}}} \\space , \\space \\frac{\\partial{E}}{\\partial{b_1}} \\space , ... , \\space \\frac{\\partial{E}}{\\partial{b_N}} \\right]^T }$\n",
    "<br>\n",
    "<br>\n",
    "$\\displaystyle{ \n",
    "\\frac{\\partial{E}}{\\partial{\\space v_{j'}}} = \\frac{1}{P} \\sum_{p = 1}^P \\left[ f(x_p) - y_p \\right] \\cdot g\\left(\\sum_{i=1}^n w_{j'i}x_{pi} - b_{j'} \\right) + 2 v_{j'}\\rho\n",
    "}$\n",
    "<br>\n",
    "<br>\n",
    "$\\displaystyle{ \n",
    "\\frac{\\partial{E}}{\\partial{\\space w_{j'i'}}} = \\frac{1}{P} \\sum_{p = 1}^P \\left[ f(x_p) - y_p \\right] \\cdot \\left[ v_{j'} \\frac{4 \\sigma e^{2\\sigma t}}{(e^{2\\sigma t} + 1)^2} x_{pi'} \\right] + 2 w_{j'i'}\\rho\n",
    "}$\n",
    "<br>\n",
    "<br>\n",
    "$\\displaystyle{ \n",
    "\\frac{\\partial{E}}{\\partial{\\space b_{j'}}} = \\frac{1}{P} \\sum_{p = 1}^P \\left[ f(x_p) - y_p \\right] \\cdot \\left[ - \\space v_{j'} \\frac{4 \\sigma e^{2\\sigma t}}{(e^{2\\sigma t} + 1)^2}\\right] + 2 b_{j'}\\rho\n",
    "}$\n",
    "</center>"
   ]
  },
  {
   "cell_type": "code",
   "execution_count": 16,
   "metadata": {},
   "outputs": [],
   "source": [
    "def fun_grad(omega):\n",
    "    \n",
    "    # pick parameters from omega one\n",
    "    v = omega[0:N].reshape(N,1)\n",
    "    W = omega[N:3*N].reshape(N, n)\n",
    "    b = omega[3*N:].reshape(N, 1)\n",
    "    \n",
    "    \n",
    "    Wb = np.append(W,b, axis=1)\n",
    "    \n",
    "    ### compute partial derivatives in a \"pythonic\" way:\n",
    "    \n",
    "    # for the sake of clearness, let's define some variables\n",
    "    # (MATRIX) dot product between Wb and X\n",
    "    T = np.dot(Wb, np.transpose(X)) # NxP matrix\n",
    "    \n",
    "    # derivative of g()\n",
    "    g_der = 4 * sigma * np.exp(2 * sigma * T) / (np.exp(2 * sigma * T) + 1)**2\n",
    "\n",
    "    dE_dv = 1 / P * np.dot(g_fun(T), np.transpose(fun(X, omega) - y_true)) + 2 * rho * v\n",
    "    dE_db = 1 / P * np.dot(-1 * v * g_der, np.transpose(fun(X, omega) - y_true)) + 2 * rho * b\n",
    "    \n",
    "    # dealing with dE_dW\n",
    "    mat1 = v * g_der * X[:,0]\n",
    "    mat1 = np.dot(mat1, np.transpose(fun(X, omega) - y_true))\n",
    "    mat2 = v * g_der * X[:,1]\n",
    "    mat2 = np.dot(mat2, np.transpose(fun(X, omega) - y_true))\n",
    "\n",
    "    fusion = np.append(mat1, mat2, axis=1)\n",
    "    dE_dW = 1 / P * fusion + 2 * rho * W\n",
    "\n",
    "    omega_gradient = np.concatenate((dE_dv, dE_dW.reshape(N*n,1), dE_db))\n",
    "    return omega_gradient.reshape(-1)"
   ]
  },
  {
   "cell_type": "code",
   "execution_count": 17,
   "metadata": {},
   "outputs": [
    {
     "data": {
      "text/plain": [
       "(40,)"
      ]
     },
     "execution_count": 17,
     "metadata": {},
     "output_type": "execute_result"
    }
   ],
   "source": [
    "fun_grad(omega).shape"
   ]
  },
  {
   "cell_type": "code",
   "execution_count": 18,
   "metadata": {},
   "outputs": [
    {
     "data": {
      "text/plain": [
       "array([ 1.50829709e+00,  2.07267255e+00,  1.36452049e+00,  1.56746125e+00,\n",
       "        1.51474878e+00,  2.04923796e+00,  2.04396512e+00,  1.98556974e+00,\n",
       "        1.90290559e+00,  1.41020441e+00,  6.87733687e-01,  1.79254114e-02,\n",
       "       -1.12536568e-01,  3.45160871e-02,  3.37138783e-02,  5.27285135e-02,\n",
       "        3.08323286e-01, -3.98051814e-02, -5.49370253e-04,  1.11461660e-03,\n",
       "       -9.99508130e-02,  6.43604358e-02, -6.08447622e-02,  3.91769424e-03,\n",
       "       -1.79493437e-02, -5.88411557e-04, -1.52560064e-04,  4.81378740e-04,\n",
       "       -2.79002801e-02,  2.69918642e-02,  1.46327010e+00,  1.27618158e+00,\n",
       "        1.30549856e+00,  1.02703400e+00,  1.18883280e-02,  1.45227027e+00,\n",
       "        9.39072020e-02,  4.80987486e-02,  2.86982643e-03,  2.71165702e-01])"
      ]
     },
     "execution_count": 18,
     "metadata": {},
     "output_type": "execute_result"
    }
   ],
   "source": [
    "fun_grad(omega)"
   ]
  },
  {
   "cell_type": "code",
   "execution_count": 19,
   "metadata": {},
   "outputs": [
    {
     "data": {
      "text/plain": [
       "(40,)"
      ]
     },
     "execution_count": 19,
     "metadata": {},
     "output_type": "execute_result"
    }
   ],
   "source": [
    "omega.reshape(-1).shape"
   ]
  },
  {
   "cell_type": "code",
   "execution_count": 21,
   "metadata": {},
   "outputs": [
    {
     "data": {
      "text/plain": [
       "      fun: 0.06976959406183966\n",
       " hess_inv: array([[ 1.11059602e+02,  2.69568564e+00, -9.56951336e+00, ...,\n",
       "        -1.26020622e+01,  1.77817786e+01,  4.92331524e-02],\n",
       "       [ 2.69568564e+00,  5.22123144e+02,  4.94304543e+01, ...,\n",
       "         1.63594785e+00, -3.33553615e+01, -4.52200530e+00],\n",
       "       [-9.56951336e+00,  4.94304543e+01,  1.60449337e+02, ...,\n",
       "        -1.57649120e-01,  3.86684093e+00,  1.59697233e+01],\n",
       "       ...,\n",
       "       [-1.26020622e+01,  1.63594785e+00, -1.57649120e-01, ...,\n",
       "         2.45523415e+01, -7.95955787e-01,  2.98065731e-01],\n",
       "       [ 1.77817786e+01, -3.33553615e+01,  3.86684093e+00, ...,\n",
       "        -7.95955787e-01,  1.19994472e+02, -4.95915698e+00],\n",
       "       [ 4.92331524e-02, -4.52200530e+00,  1.59697233e+01, ...,\n",
       "         2.98065731e-01, -4.95915698e+00,  3.11810677e+01]])\n",
       "      jac: array([-4.50188530e-06, -1.05881796e-06, -2.00819106e-06,  3.02300982e-06,\n",
       "        3.44672491e-06, -3.81130329e-06,  2.60909620e-06, -2.17078023e-06,\n",
       "        7.74420894e-07,  3.23188138e-06,  3.63525244e-07, -3.42328050e-06,\n",
       "        3.28067178e-06, -4.26180357e-06,  2.79137752e-06, -9.64608735e-07,\n",
       "        1.38891334e-06,  5.69072908e-07,  2.39260377e-07,  2.74363308e-06,\n",
       "       -2.78809668e-06,  5.18829661e-06, -2.21571737e-06,  3.72004494e-06,\n",
       "       -1.78957715e-06,  9.94171654e-07, -1.07352890e-06,  2.65941151e-06,\n",
       "       -1.66266188e-06, -1.78196469e-06, -1.86385857e-06,  2.01004216e-06,\n",
       "       -1.47943082e-06,  9.10182602e-07, -5.00867056e-06,  3.42324676e-06,\n",
       "       -2.39118027e-06,  8.18324259e-07,  1.38381749e-06, -2.85986780e-06])\n",
       "  message: 'Optimization terminated successfully.'\n",
       "     nfev: 317\n",
       "      nit: 310\n",
       "     njev: 317\n",
       "   status: 0\n",
       "  success: True\n",
       "        x: array([ 2.13994268,  1.34678146,  2.25602128, -1.45393698,  1.35475798,\n",
       "       -1.80930651, -1.34465041, -1.93742906, -1.34836428,  1.76096898,\n",
       "       -0.21640668, -2.60673789, -0.04562967,  0.25082032,  0.48999476,\n",
       "        1.14377727,  1.96965315, -0.16484926, -0.04609233,  0.25219589,\n",
       "        0.3626893 , -1.13135842,  0.04578396, -0.25128706,  0.05271101,\n",
       "        2.92723425,  0.04574661, -0.25097686,  2.04009396,  0.01556035,\n",
       "        2.52561961, -0.88725804,  1.23244721, -0.86476353, -0.8921212 ,\n",
       "        0.66578961,  0.88623654,  1.0292203 ,  0.88917617,  0.99522734])"
      ]
     },
     "execution_count": 21,
     "metadata": {},
     "output_type": "execute_result"
    }
   ],
   "source": [
    "from scipy.optimize import minimize\n",
    "q = minimize(loss, omega, jac = fun_grad, method = \"BFGS\", options = {'gtol': 1e-05, 'eps': 1.4901161193847656e-08})\n",
    "q"
   ]
  },
  {
   "cell_type": "code",
   "execution_count": 22,
   "metadata": {},
   "outputs": [
    {
     "data": {
      "text/plain": [
       "6.037605870646368"
      ]
     },
     "execution_count": 22,
     "metadata": {},
     "output_type": "execute_result"
    }
   ],
   "source": [
    "loss(omega)"
   ]
  },
  {
   "cell_type": "code",
   "execution_count": 23,
   "metadata": {},
   "outputs": [
    {
     "data": {
      "text/plain": [
       "0.06976959406183966"
      ]
     },
     "execution_count": 23,
     "metadata": {},
     "output_type": "execute_result"
    }
   ],
   "source": [
    "loss(q.x)"
   ]
  },
  {
   "cell_type": "markdown",
   "metadata": {},
   "source": [
    "<center><h4><b><font color='#333333'>Question 1.2)</font></b></h4>\n",
    "___________________________________________________________________________________________________\n",
    "</center>\n",
    "<br><br>\n",
    "\n",
    "We must now construct a **RBF** (Radial Basis Function) neural network"
   ]
  },
  {
   "cell_type": "markdown",
   "metadata": {},
   "source": [
    "<center>\n",
    "$\\displaystyle{ f(x) = \\sum_{j = 1}^N \\left[v_j \\phi \\left(||\\vec{x} - \\vec{c}_j ||\\right) \\right] }$\n",
    "<br><br>\n",
    "\\[\\vec{x_1} = \\begin{bmatrix}\n",
    "x_{11} \\\\ ... \\\\ x_{1P}\n",
    "\\end{bmatrix}\n",
    "\\quad\\quad\n",
    "\\vec{x_2} = \\begin{bmatrix}\n",
    "x_{21} \\\\ ... \\\\ x_{2P}\n",
    "\\end{bmatrix}\n",
    "\\quad\\quad\n",
    "\\vec{y} = \\begin{bmatrix}\n",
    "y_{1} \\\\ ... \\\\ y_{P}\n",
    "\\end{bmatrix}\n",
    "\\quad\\quad\n",
    "\\vec{\\pi} = \\begin{bmatrix}\n",
    "N \\\\ \\sigma \\\\ \\rho\n",
    "\\end{bmatrix}\n",
    "\\quad\\quad\n",
    "\\vec{\\omega} = \\begin{bmatrix}\n",
    "v \\\\ c\n",
    "\\end{bmatrix}\n",
    "\\]\n",
    "<br>\n",
    "$\\displaystyle{ \\phi(||\\vec{x} - \\vec{c}||) = e^{\\displaystyle{\\frac{||\\vec{x} - \\vec{c}||^2}{\\sigma^2}}}}$\n",
    "<br><br>\n",
    "$\\displaystyle{ E(\\omega; \\pi) = \\frac{1}{2P} \\sum_{p = 1}^P \\left[ f(x_p) - y_p \\right]^2 + \\rho \\cdot ||\\omega||^2 }$\n",
    "<img src=\"RBF.png\">\n",
    "</center>"
   ]
  }
 ],
 "metadata": {
  "kernelspec": {
   "display_name": "Python 3",
   "language": "python",
   "name": "python3"
  },
  "language_info": {
   "codemirror_mode": {
    "name": "ipython",
    "version": 3
   },
   "file_extension": ".py",
   "mimetype": "text/x-python",
   "name": "python",
   "nbconvert_exporter": "python",
   "pygments_lexer": "ipython3",
   "version": "3.7.3"
  }
 },
 "nbformat": 4,
 "nbformat_minor": 2
}
