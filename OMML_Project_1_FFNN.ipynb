{
 "cells": [
  {
   "cell_type": "markdown",
   "metadata": {},
   "source": [
    "<center><h3><font color='#E95420'>Optimization Methods for Machine Learning</font></h3>\n",
    "<center><h3><font color='#772953'>Homework 1</font></h3></center>\n",
    "<br><br> \n",
    "<center><h4><font color='#333333'>Michele Cernigliaro</font></h4></center>\n",
    "<center><h4><font color='#333333'>Francesco Russo</font></h4></center>\n",
    "<br><br>"
   ]
  },
  {
   "cell_type": "markdown",
   "metadata": {},
   "source": [
    "<center><h4><b><font color='#333333'>Question 1</font></b></h4></center>\n",
    "\n",
    "You must construct a shallow **Feedforward Neural Network** (FNN) (one only hidden layer), either\n",
    "a **MLP** or a **RBF** network, that provides the model $f(x)$. We denote by ***π*** the hyper-parameters of\n",
    "the network to be settled by means of an heuristic procedure and ***ω*** the parameters to be settled\n",
    "by minimizing the regularized training error."
   ]
  },
  {
   "cell_type": "markdown",
   "metadata": {},
   "source": [
    "<center><h4><b><font color='#333333'>Question 1.1)</font></b></h4>\n",
    "___________________________________________________________________________________________________\n",
    "</center>\n",
    "<br><br>\n",
    "\n",
    "We must construct a **MLP** (Multi Layer Perceptron)"
   ]
  },
  {
   "cell_type": "code",
   "execution_count": 1,
   "metadata": {},
   "outputs": [],
   "source": [
    "import pandas as pd\n",
    "import numpy as np"
   ]
  },
  {
   "cell_type": "markdown",
   "metadata": {},
   "source": [
    "<center>\n",
    "$\\displaystyle{ f(x) = \\sum_{j = 1}^N \\left[v_j g \\left(\\sum_{i = 1}^2 w_{ji} \\cdot x_i - b \\right) \\right] }$\n",
    "<br><br>\n",
    "\\[\\vec{x_1} = \\begin{bmatrix}\n",
    "x_{11} \\\\ ... \\\\ x_{1P}\n",
    "\\end{bmatrix}\n",
    "\\quad\\quad\n",
    "\\vec{x_2} = \\begin{bmatrix}\n",
    "x_{21} \\\\ ... \\\\ x_{2P}\n",
    "\\end{bmatrix}\n",
    "\\quad\\quad\n",
    "\\vec{y} = \\begin{bmatrix}\n",
    "y_{1} \\\\ ... \\\\ y_{P}\n",
    "\\end{bmatrix}\n",
    "\\quad\\quad\n",
    "\\vec{\\pi} = \\begin{bmatrix}\n",
    "N \\\\ \\sigma \\\\ \\rho\n",
    "\\end{bmatrix}\n",
    "\\quad\\quad\n",
    "\\vec{\\omega} = \\begin{bmatrix}\n",
    "v \\\\ w \\\\ b\n",
    "\\end{bmatrix}\n",
    "\\]\n",
    "<br>\n",
    "$\\displaystyle{ g(t) = tanh(t) = \\frac{e^{2 \\sigma t} - 1}{e^{2 \\sigma t} + 1} }$\n",
    "<br><br>\n",
    "$\\displaystyle{ E(\\omega; \\pi) = \\frac{1}{2P} \\sum_{p = 1}^P \\left[ f(x_p) - y_p \\right]^2 + \\rho \\cdot ||\\omega||^2 }$\n",
    "<img src=\"FFNN.png\">\n",
    "</center>"
   ]
  },
  {
   "cell_type": "code",
   "execution_count": 2,
   "metadata": {},
   "outputs": [
    {
     "data": {
      "text/html": [
       "<div>\n",
       "<style scoped>\n",
       "    .dataframe tbody tr th:only-of-type {\n",
       "        vertical-align: middle;\n",
       "    }\n",
       "\n",
       "    .dataframe tbody tr th {\n",
       "        vertical-align: top;\n",
       "    }\n",
       "\n",
       "    .dataframe thead th {\n",
       "        text-align: right;\n",
       "    }\n",
       "</style>\n",
       "<table border=\"1\" class=\"dataframe\">\n",
       "  <thead>\n",
       "    <tr style=\"text-align: right;\">\n",
       "      <th></th>\n",
       "      <th>x1</th>\n",
       "      <th>x2</th>\n",
       "      <th>y</th>\n",
       "    </tr>\n",
       "  </thead>\n",
       "  <tbody>\n",
       "    <tr>\n",
       "      <td>0</td>\n",
       "      <td>-1.262271</td>\n",
       "      <td>0.746859</td>\n",
       "      <td>0.461002</td>\n",
       "    </tr>\n",
       "    <tr>\n",
       "      <td>1</td>\n",
       "      <td>-0.804355</td>\n",
       "      <td>0.937081</td>\n",
       "      <td>0.617336</td>\n",
       "    </tr>\n",
       "    <tr>\n",
       "      <td>2</td>\n",
       "      <td>-1.805674</td>\n",
       "      <td>0.738389</td>\n",
       "      <td>-0.053984</td>\n",
       "    </tr>\n",
       "    <tr>\n",
       "      <td>3</td>\n",
       "      <td>-0.888805</td>\n",
       "      <td>0.061711</td>\n",
       "      <td>1.943678</td>\n",
       "    </tr>\n",
       "    <tr>\n",
       "      <td>4</td>\n",
       "      <td>-1.667562</td>\n",
       "      <td>-0.534543</td>\n",
       "      <td>2.127070</td>\n",
       "    </tr>\n",
       "  </tbody>\n",
       "</table>\n",
       "</div>"
      ],
      "text/plain": [
       "         x1        x2         y\n",
       "0 -1.262271  0.746859  0.461002\n",
       "1 -0.804355  0.937081  0.617336\n",
       "2 -1.805674  0.738389 -0.053984\n",
       "3 -0.888805  0.061711  1.943678\n",
       "4 -1.667562 -0.534543  2.127070"
      ]
     },
     "execution_count": 2,
     "metadata": {},
     "output_type": "execute_result"
    }
   ],
   "source": [
    "file = pd.ExcelFile('dataPoints.xlsx')\n",
    "df = file.parse('Foglio1')\n",
    "df.head()"
   ]
  },
  {
   "cell_type": "code",
   "execution_count": 3,
   "metadata": {},
   "outputs": [],
   "source": [
    "X = np.array(df[['x1', 'x2']])\n",
    "X = np.append(X, -1 * np.ones((X.shape[0], 1)), axis=1)\n",
    "y_true = np.array(df[['y']]).reshape(1, -1)"
   ]
  },
  {
   "cell_type": "code",
   "execution_count": null,
   "metadata": {},
   "outputs": [],
   "source": []
  },
  {
   "cell_type": "code",
   "execution_count": 4,
   "metadata": {},
   "outputs": [
    {
     "data": {
      "text/plain": [
       "(1, 300)"
      ]
     },
     "execution_count": 4,
     "metadata": {},
     "output_type": "execute_result"
    }
   ],
   "source": [
    "y_true.shape"
   ]
  },
  {
   "cell_type": "code",
   "execution_count": 5,
   "metadata": {},
   "outputs": [],
   "source": [
    "def g_fun(X):\n",
    "    return np.tanh(X)\n",
    "\n",
    "def fun(X, omega):\n",
    "    # extract param vectors from omega\n",
    "    v = omega[0:N].reshape(1, N)\n",
    "    W = omega[N:3*N].reshape(N, n)\n",
    "    b = omega[3*N:].reshape(N, 1)\n",
    "    \n",
    "    # merge W with b\n",
    "    W = np.append(W, b, axis=1)\n",
    "    \n",
    "    return np.dot(v, g_fun(np.dot(W, np.transpose(X))))\n",
    "    "
   ]
  },
  {
   "cell_type": "code",
   "execution_count": 6,
   "metadata": {},
   "outputs": [],
   "source": [
    "#np.random.seed(123) # seed (for reprudecebility)\n",
    "\n",
    "\n",
    "N = 10           # number of neurons in hidden layer\n",
    "n = X.shape[1] - 1   # number of independent variables\n",
    "\n",
    "# parameters initialization\n",
    "W = np.random.random((N,n))\n",
    "b = np.random.random((N,1))\n",
    "v = np.random.random((N,1))\n",
    "\n",
    "#print(v, \"\\n\")\n",
    "#print(W, \"\\n\")\n",
    "#print(b, \"\\n\", '-------------------')\n",
    "\n",
    "# all the parameters\n",
    "omega = np.concatenate((v, W.reshape(N*n,1), b))\n",
    "\n",
    "#print(omega[0:N].reshape(1, N),'\\n')\n",
    "#print(omega[N:3*N].reshape(N, X.shape[1]),'\\n')\n",
    "#print(omega[3*N:].reshape(N, 1))"
   ]
  },
  {
   "cell_type": "code",
   "execution_count": 7,
   "metadata": {},
   "outputs": [
    {
     "data": {
      "text/plain": [
       "(1, 300)"
      ]
     },
     "execution_count": 7,
     "metadata": {},
     "output_type": "execute_result"
    }
   ],
   "source": [
    "fun(X, omega).shape"
   ]
  },
  {
   "cell_type": "code",
   "execution_count": 8,
   "metadata": {},
   "outputs": [],
   "source": [
    "def loss(omega):\n",
    "    y_pred = fun(X, omega)\n",
    "    return (np.sum((y_pred - y_true)**2) + rho * np.linalg.norm(omega)**2) / (2 * len(y_pred))"
   ]
  },
  {
   "cell_type": "code",
   "execution_count": 9,
   "metadata": {},
   "outputs": [
    {
     "data": {
      "text/plain": [
       "0.0005"
      ]
     },
     "execution_count": 9,
     "metadata": {},
     "output_type": "execute_result"
    }
   ],
   "source": [
    "rho = 0.0005\n",
    "rho"
   ]
  },
  {
   "cell_type": "code",
   "execution_count": 10,
   "metadata": {},
   "outputs": [
    {
     "data": {
      "text/plain": [
       "1894.640698053225"
      ]
     },
     "execution_count": 10,
     "metadata": {},
     "output_type": "execute_result"
    }
   ],
   "source": [
    "loss(omega)"
   ]
  },
  {
   "cell_type": "code",
   "execution_count": 11,
   "metadata": {},
   "outputs": [],
   "source": [
    "from scipy.optimize import minimize as minimize"
   ]
  },
  {
   "cell_type": "code",
   "execution_count": 12,
   "metadata": {},
   "outputs": [],
   "source": [
    "q = minimize(loss, omega)"
   ]
  },
  {
   "cell_type": "code",
   "execution_count": 13,
   "metadata": {},
   "outputs": [
    {
     "data": {
      "text/plain": [
       "      fun: 0.12896971935421786\n",
       " hess_inv: array([[ 1.57084529e+02, -1.52905621e+01, -5.42149843e+01, ...,\n",
       "         2.32011938e+00,  7.06151623e+00, -5.84017968e+00],\n",
       "       [-1.52905620e+01,  8.46766061e+02, -3.48256106e+02, ...,\n",
       "        -8.43400353e+00,  6.67678015e+01, -8.93161459e+00],\n",
       "       [-5.42149843e+01, -3.48256106e+02,  7.27216955e+02, ...,\n",
       "         6.48617650e+00,  4.70746525e+01, -3.35253145e+00],\n",
       "       ...,\n",
       "       [ 2.32011938e+00, -8.43400353e+00,  6.48617651e+00, ...,\n",
       "         1.37126565e+00, -2.21269163e+00, -7.08478779e-01],\n",
       "       [ 7.06151623e+00,  6.67678015e+01,  4.70746525e+01, ...,\n",
       "        -2.21269163e+00,  8.96655922e+01, -3.98196709e+00],\n",
       "       [-5.84017969e+00, -8.93161458e+00, -3.35253145e+00, ...,\n",
       "        -7.08478779e-01, -3.98196710e+00,  2.32690319e+01]])\n",
       "      jac: array([-2.05237418e-04, -1.32817775e-04, -2.49741599e-04,  1.20643526e-05,\n",
       "        2.34283507e-04,  2.93368474e-04,  1.64553523e-04, -1.30347908e-04,\n",
       "       -2.44040042e-04, -1.57980248e-04, -3.66840512e-04,  5.32940030e-05,\n",
       "        1.66358799e-03, -5.33301383e-04,  4.61272895e-04, -8.55885446e-05,\n",
       "       -8.05923715e-04,  3.95460054e-04,  1.78515911e-05,  5.49294055e-06,\n",
       "        3.84710729e-05, -8.44318420e-05, -2.39480287e-04, -2.09063292e-05,\n",
       "        2.90568918e-04, -1.49393454e-04, -8.48677009e-05,  8.67992640e-07,\n",
       "       -2.49858946e-04,  3.01083550e-04, -1.95713714e-04,  1.21207163e-03,\n",
       "       -1.30239874e-04, -6.49832189e-04,  7.60331750e-06,  7.67484307e-05,\n",
       "       -1.15491450e-04,  3.84785235e-04,  4.58844006e-05, -3.32221389e-04])\n",
       "  message: 'Desired error not necessarily achieved due to precision loss.'\n",
       "     nfev: 158394\n",
       "      nit: 3523\n",
       "     njev: 3771\n",
       "   status: 2\n",
       "  success: False\n",
       "        x: array([ 4.11161859e+00, -7.90252122e+00, -8.08175635e+00,  3.32989222e+00,\n",
       "       -2.02091519e+00, -2.96864285e+00,  1.73026798e+00, -3.12377527e+00,\n",
       "        3.80831470e+00,  3.07352681e+00, -3.85259258e+00,  1.57779493e-03,\n",
       "       -5.86880280e-01,  2.58988282e-01,  6.22699224e-01, -2.39242489e-01,\n",
       "        6.33914062e-02, -1.00975581e+00,  1.23506608e-02,  4.12984053e+00,\n",
       "       -1.56379923e+00, -3.13232556e-02,  1.05835222e-02,  2.00709148e+00,\n",
       "        1.53998069e+00,  1.83363044e-02,  3.86807553e+00,  3.59925676e-03,\n",
       "        2.94765291e-02,  3.30135387e+00,  7.94877856e+00,  1.53949001e+00,\n",
       "        1.57681471e+00, -6.79577999e-01, -4.37063695e+00, -1.02039282e+00,\n",
       "       -7.20429078e-01, -9.94574951e-01,  7.90481558e+00,  3.47686227e+00])"
      ]
     },
     "execution_count": 13,
     "metadata": {},
     "output_type": "execute_result"
    }
   ],
   "source": [
    "q"
   ]
  },
  {
   "cell_type": "code",
   "execution_count": 14,
   "metadata": {},
   "outputs": [
    {
     "data": {
      "text/plain": [
       "array([ 4.11161859e+00, -7.90252122e+00, -8.08175635e+00,  3.32989222e+00,\n",
       "       -2.02091519e+00, -2.96864285e+00,  1.73026798e+00, -3.12377527e+00,\n",
       "        3.80831470e+00,  3.07352681e+00, -3.85259258e+00,  1.57779493e-03,\n",
       "       -5.86880280e-01,  2.58988282e-01,  6.22699224e-01, -2.39242489e-01,\n",
       "        6.33914062e-02, -1.00975581e+00,  1.23506608e-02,  4.12984053e+00,\n",
       "       -1.56379923e+00, -3.13232556e-02,  1.05835222e-02,  2.00709148e+00,\n",
       "        1.53998069e+00,  1.83363044e-02,  3.86807553e+00,  3.59925676e-03,\n",
       "        2.94765291e-02,  3.30135387e+00,  7.94877856e+00,  1.53949001e+00,\n",
       "        1.57681471e+00, -6.79577999e-01, -4.37063695e+00, -1.02039282e+00,\n",
       "       -7.20429078e-01, -9.94574951e-01,  7.90481558e+00,  3.47686227e+00])"
      ]
     },
     "execution_count": 14,
     "metadata": {},
     "output_type": "execute_result"
    }
   ],
   "source": [
    "q.x"
   ]
  },
  {
   "cell_type": "code",
   "execution_count": 15,
   "metadata": {},
   "outputs": [],
   "source": [
    "v_0 = omega[0:N].reshape(1, N)\n",
    "W_0 = omega[N:3*N].reshape(N, n)\n",
    "b_0 = omega[3*N:].reshape(N, 1)"
   ]
  },
  {
   "cell_type": "code",
   "execution_count": 16,
   "metadata": {},
   "outputs": [
    {
     "name": "stdout",
     "output_type": "stream",
     "text": [
      "[[0.95830569 0.1468328  0.25477247 0.4193662  0.3290161  0.31108297\n",
      "  0.44132009 0.68295453 0.83675943 0.95269807]] \n",
      "\n",
      "[[0.12748621 0.49785367]\n",
      " [0.15992361 0.15793929]\n",
      " [0.76337147 0.22226036]\n",
      " [0.19314136 0.10546582]\n",
      " [0.39953587 0.68575109]\n",
      " [0.1806177  0.74989774]\n",
      " [0.26519609 0.65503411]\n",
      " [0.16244895 0.96200355]\n",
      " [0.73072819 0.6236914 ]\n",
      " [0.84393777 0.74906562]] \n",
      "\n",
      "[[0.45798993]\n",
      " [0.55124592]\n",
      " [0.44222527]\n",
      " [0.38108693]\n",
      " [0.96299483]\n",
      " [0.14950902]\n",
      " [0.25403044]\n",
      " [0.4393232 ]\n",
      " [0.25609044]\n",
      " [0.21405903]] \n",
      "\n"
     ]
    }
   ],
   "source": [
    "print(v_0, \"\\n\")\n",
    "print(W_0, \"\\n\")\n",
    "print(b_0, \"\\n\")"
   ]
  },
  {
   "cell_type": "code",
   "execution_count": 17,
   "metadata": {
    "scrolled": true
   },
   "outputs": [
    {
     "name": "stdout",
     "output_type": "stream",
     "text": [
      "[[ 4.11161859 -7.90252122 -8.08175635  3.32989222 -2.02091519 -2.96864285\n",
      "   1.73026798 -3.12377527  3.8083147   3.07352681]] \n",
      "\n",
      "[[-3.85259258e+00  1.57779493e-03]\n",
      " [-5.86880280e-01  2.58988282e-01]\n",
      " [ 6.22699224e-01 -2.39242489e-01]\n",
      " [ 6.33914062e-02 -1.00975581e+00]\n",
      " [ 1.23506608e-02  4.12984053e+00]\n",
      " [-1.56379923e+00 -3.13232556e-02]\n",
      " [ 1.05835222e-02  2.00709148e+00]\n",
      " [ 1.53998069e+00  1.83363044e-02]\n",
      " [ 3.86807553e+00  3.59925676e-03]\n",
      " [ 2.94765291e-02  3.30135387e+00]] \n",
      "\n",
      "[[ 7.94877856]\n",
      " [ 1.53949001]\n",
      " [ 1.57681471]\n",
      " [-0.679578  ]\n",
      " [-4.37063695]\n",
      " [-1.02039282]\n",
      " [-0.72042908]\n",
      " [-0.99457495]\n",
      " [ 7.90481558]\n",
      " [ 3.47686227]] \n",
      "\n"
     ]
    }
   ],
   "source": [
    "v = q.x[0:N].reshape(1, N)\n",
    "W = q.x[N:3*N].reshape(N, n)\n",
    "b = q.x[3*N:].reshape(N, 1)\n",
    "\n",
    "print(v, \"\\n\")\n",
    "print(W, \"\\n\")\n",
    "print(b, \"\\n\")"
   ]
  },
  {
   "cell_type": "code",
   "execution_count": 18,
   "metadata": {},
   "outputs": [
    {
     "data": {
      "text/plain": [
       "1894.640698053225"
      ]
     },
     "execution_count": 18,
     "metadata": {},
     "output_type": "execute_result"
    }
   ],
   "source": [
    "loss(omega)"
   ]
  },
  {
   "cell_type": "code",
   "execution_count": 19,
   "metadata": {},
   "outputs": [
    {
     "data": {
      "text/plain": [
       "0.12896971935421786"
      ]
     },
     "execution_count": 19,
     "metadata": {},
     "output_type": "execute_result"
    }
   ],
   "source": [
    "loss(q.x)"
   ]
  },
  {
   "cell_type": "code",
   "execution_count": 20,
   "metadata": {},
   "outputs": [
    {
     "data": {
      "text/plain": [
       "0.12896971935421786"
      ]
     },
     "execution_count": 20,
     "metadata": {},
     "output_type": "execute_result"
    }
   ],
   "source": [
    "loss(q.x)"
   ]
  },
  {
   "cell_type": "code",
   "execution_count": 30,
   "metadata": {},
   "outputs": [],
   "source": [
    "import matplotlib.pyplot as plt\n",
    "from mpl_toolkits.mplot3d import Axes3D\n",
    "\n",
    "def saddle(X):\n",
    "    x = X[0]\n",
    "    y = X[1]\n",
    "    return x**2-y**2\n",
    "\n",
    "def plotting(funzione, title='Plotting of the function'): #if you do not provide a title, 'Plotting...' will be used\n",
    "    #create the object\n",
    "    fig = plt.figure()\n",
    "    ax = plt.axes(projection='3d')\n",
    "    #create the grid\n",
    "    x = np.linspace(-2, 2, 50).reshape(-1, 1) #create 50 points between [-5,5] evenly spaced  \n",
    "    y = np.linspace(-1, 1, 50).reshape(-1, 1)\n",
    "    X = np.append(x,y, axis=1)\n",
    "    \n",
    "    X = np.append(X, -1*np.ones((X.shape[0],1)), axis=1)\n",
    "    \n",
    "    Z = funzione(X, q.x) #evaluate the function (note that X,Y,Z are matrix)\n",
    "\n",
    "\n",
    "    ax.plot_surface(x, y, Z, rstride=1, cstride=1,cmap='viridis', edgecolor='none')\n",
    "\n",
    "    ax.set_xlabel('x')\n",
    "    ax.set_ylabel('y')\n",
    "    ax.set_zlabel('z')\n",
    "    ax.set_title(title)\n",
    "    plt.show()\n",
    "\n",
    "    return"
   ]
  },
  {
   "cell_type": "code",
   "execution_count": 31,
   "metadata": {},
   "outputs": [
    {
     "data": {
      "image/png": "[encoded data removed]",
      "text/plain": [
       "<Figure size 432x288 with 1 Axes>"
      ]
     },
     "metadata": {
      "needs_background": "light"
     },
     "output_type": "display_data"
    }
   ],
   "source": [
    "plotting(fun)"
   ]
  },
  {
   "cell_type": "markdown",
   "metadata": {},
   "source": [
    "<center><h4><b><font color='#333333'>Question 1.2)</font></b></h4>\n",
    "___________________________________________________________________________________________________\n",
    "</center>\n",
    "<br><br>\n",
    "\n",
    "We must now construct a **RBF** (Radial Basis Function) neural network"
   ]
  },
  {
   "cell_type": "markdown",
   "metadata": {},
   "source": [
    "<center>\n",
    "$\\displaystyle{ f(x) = \\sum_{j = 1}^N \\left[v_j \\phi \\left(||\\vec{x} - \\vec{c}_j ||\\right) \\right] }$\n",
    "<br><br>\n",
    "\\[\\vec{x_1} = \\begin{bmatrix}\n",
    "x_{11} \\\\ ... \\\\ x_{1P}\n",
    "\\end{bmatrix}\n",
    "\\quad\\quad\n",
    "\\vec{x_2} = \\begin{bmatrix}\n",
    "x_{21} \\\\ ... \\\\ x_{2P}\n",
    "\\end{bmatrix}\n",
    "\\quad\\quad\n",
    "\\vec{y} = \\begin{bmatrix}\n",
    "y_{1} \\\\ ... \\\\ y_{P}\n",
    "\\end{bmatrix}\n",
    "\\quad\\quad\n",
    "\\vec{\\pi} = \\begin{bmatrix}\n",
    "N \\\\ \\sigma \\\\ \\rho\n",
    "\\end{bmatrix}\n",
    "\\quad\\quad\n",
    "\\vec{\\omega} = \\begin{bmatrix}\n",
    "v \\\\ c\n",
    "\\end{bmatrix}\n",
    "\\]\n",
    "<br>\n",
    "$\\displaystyle{ \\phi(||\\vec{x} - \\vec{c}||) = e^{\\displaystyle{\\frac{||\\vec{x} - \\vec{c}||^2}{\\sigma^2}}}}$\n",
    "<br><br>\n",
    "$\\displaystyle{ E(\\omega; \\pi) = \\frac{1}{2P} \\sum_{p = 1}^P \\left[ f(x_p) - y_p \\right]^2 + \\rho \\cdot ||\\omega||^2 }$\n",
    "<img src=\"RBF.png\">\n",
    "</center>"
   ]
  },
  {
   "cell_type": "code",
   "execution_count": null,
   "metadata": {},
   "outputs": [],
   "source": []
  },
  {
   "cell_type": "code",
   "execution_count": null,
   "metadata": {},
   "outputs": [],
   "source": []
  }
 ],
 "metadata": {
  "kernelspec": {
   "display_name": "Python 3",
   "language": "python",
   "name": "python3"
  },
  "language_info": {
   "codemirror_mode": {
    "name": "ipython",
    "version": 3
   },
   "file_extension": ".py",
   "mimetype": "text/x-python",
   "name": "python",
   "nbconvert_exporter": "python",
   "pygments_lexer": "ipython3",
   "version": "3.7.3"
  }
 },
 "nbformat": 4,
 "nbformat_minor": 2
}
