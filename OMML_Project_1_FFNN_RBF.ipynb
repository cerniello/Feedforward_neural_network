{
 "cells": [
  {
   "cell_type": "code",
   "execution_count": 1,
   "metadata": {},
   "outputs": [],
   "source": [
    "import pandas as pd\n",
    "import numpy as np"
   ]
  },
  {
   "cell_type": "code",
   "execution_count": 844,
   "metadata": {},
   "outputs": [
    {
     "data": {
      "text/html": [
       "<div>\n",
       "<style scoped>\n",
       "    .dataframe tbody tr th:only-of-type {\n",
       "        vertical-align: middle;\n",
       "    }\n",
       "\n",
       "    .dataframe tbody tr th {\n",
       "        vertical-align: top;\n",
       "    }\n",
       "\n",
       "    .dataframe thead th {\n",
       "        text-align: right;\n",
       "    }\n",
       "</style>\n",
       "<table border=\"1\" class=\"dataframe\">\n",
       "  <thead>\n",
       "    <tr style=\"text-align: right;\">\n",
       "      <th></th>\n",
       "      <th>x1</th>\n",
       "      <th>x2</th>\n",
       "      <th>y</th>\n",
       "    </tr>\n",
       "  </thead>\n",
       "  <tbody>\n",
       "    <tr>\n",
       "      <td>0</td>\n",
       "      <td>-1.262271</td>\n",
       "      <td>0.746859</td>\n",
       "      <td>0.461002</td>\n",
       "    </tr>\n",
       "    <tr>\n",
       "      <td>1</td>\n",
       "      <td>-0.804355</td>\n",
       "      <td>0.937081</td>\n",
       "      <td>0.617336</td>\n",
       "    </tr>\n",
       "    <tr>\n",
       "      <td>2</td>\n",
       "      <td>-1.805674</td>\n",
       "      <td>0.738389</td>\n",
       "      <td>-0.053984</td>\n",
       "    </tr>\n",
       "    <tr>\n",
       "      <td>3</td>\n",
       "      <td>-0.888805</td>\n",
       "      <td>0.061711</td>\n",
       "      <td>1.943678</td>\n",
       "    </tr>\n",
       "    <tr>\n",
       "      <td>4</td>\n",
       "      <td>-1.667562</td>\n",
       "      <td>-0.534543</td>\n",
       "      <td>2.127070</td>\n",
       "    </tr>\n",
       "  </tbody>\n",
       "</table>\n",
       "</div>"
      ],
      "text/plain": [
       "         x1        x2         y\n",
       "0 -1.262271  0.746859  0.461002\n",
       "1 -0.804355  0.937081  0.617336\n",
       "2 -1.805674  0.738389 -0.053984\n",
       "3 -0.888805  0.061711  1.943678\n",
       "4 -1.667562 -0.534543  2.127070"
      ]
     },
     "execution_count": 844,
     "metadata": {},
     "output_type": "execute_result"
    }
   ],
   "source": [
    "file = pd.ExcelFile('dataPoints.xlsx')\n",
    "df = file.parse('Foglio1')\n",
    "df.head()"
   ]
  },
  {
   "cell_type": "code",
   "execution_count": 845,
   "metadata": {},
   "outputs": [],
   "source": [
    "from sklearn.model_selection import train_test_split\n",
    "\n",
    "# split in target and test set\n",
    "def split_dataset(X, y):\n",
    "    X_target, X_test, y_target, y_test = train_test_split(X, y_true.reshape(-1,1), test_size=0.15)\n",
    "    X_train, X_validation, y_train, y_validation = train_test_split(X_target, y_target, test_size=0.17647)\n",
    "    \n",
    "    y_train = y_train.reshape(1,-1)\n",
    "    y_validation = y_validation.reshape(1,-1)\n",
    "    y_test = y_test.reshape(1,-1)\n",
    "    \n",
    "    return X_train, X_validation, X_test, y_train, y_validation, y_test"
   ]
  },
  {
   "cell_type": "code",
   "execution_count": 846,
   "metadata": {},
   "outputs": [],
   "source": [
    "X = df[['x1', 'x2']].to_numpy()\n",
    "y_true = df[['y']].to_numpy().reshape(1,-1)\n",
    "\n",
    "#X_train, X_validation, X_test, y_train, y_validation, y_test = split_dataset(X, y_true)"
   ]
  },
  {
   "cell_type": "code",
   "execution_count": 847,
   "metadata": {},
   "outputs": [],
   "source": [
    "def fun_RBF(X, omega):\n",
    "    \n",
    "    v = omega[0:N].reshape(N, 1)\n",
    "    c = omega[N: ].reshape(N, n)\n",
    "    \n",
    "    mat = (c-X)*(c-X)\n",
    "    col = mat[:,0] + mat[:,1]\n",
    "    col = np.exp(-col/(sigma**2))\n",
    "\n",
    "    return np.dot(col, v)"
   ]
  },
  {
   "cell_type": "code",
   "execution_count": null,
   "metadata": {},
   "outputs": [],
   "source": []
  },
  {
   "cell_type": "code",
   "execution_count": 848,
   "metadata": {},
   "outputs": [],
   "source": [
    "N = 5\n",
    "n = X.shape[1]\n",
    "omega = np.random.randn(N + N*n)\n",
    "\n",
    "sigma = 1\n",
    "rho = 0.00001"
   ]
  },
  {
   "cell_type": "code",
   "execution_count": 7,
   "metadata": {},
   "outputs": [],
   "source": [
    "#np.apply_along_axis(fun_RBF, 1, X, omega)"
   ]
  },
  {
   "cell_type": "code",
   "execution_count": 8,
   "metadata": {},
   "outputs": [],
   "source": [
    "def loss(omega, X, y_true):\n",
    "    y_pred = np.apply_along_axis(fun_RBF, 1, X, omega).reshape(1,-1)\n",
    "    l = np.sum((y_pred - y_true)**2)/(2 * X.shape[0]) + rho * np.linalg.norm(omega)**2\n",
    "    return l"
   ]
  },
  {
   "cell_type": "code",
   "execution_count": 9,
   "metadata": {},
   "outputs": [
    {
     "data": {
      "text/plain": [
       "1.2406605432529185"
      ]
     },
     "execution_count": 9,
     "metadata": {},
     "output_type": "execute_result"
    }
   ],
   "source": [
    "loss(omega, X, y_true)"
   ]
  },
  {
   "cell_type": "code",
   "execution_count": 10,
   "metadata": {},
   "outputs": [],
   "source": [
    "from scipy.optimize import minimize\n",
    "from time import time \n",
    "\n",
    "t1 = time()\n",
    "res = minimize(loss, omega, args=(X, y_true))\n",
    "t1 = time()-t1"
   ]
  },
  {
   "cell_type": "code",
   "execution_count": 11,
   "metadata": {},
   "outputs": [
    {
     "data": {
      "text/plain": [
       "21.395835876464844"
      ]
     },
     "execution_count": 11,
     "metadata": {},
     "output_type": "execute_result"
    }
   ],
   "source": [
    "t1"
   ]
  },
  {
   "cell_type": "code",
   "execution_count": 12,
   "metadata": {},
   "outputs": [
    {
     "data": {
      "text/plain": [
       "      fun: 0.11492077557158395\n",
       " hess_inv: array([[ 5.36618860e+03, -3.16951294e+01,  1.27470290e+01,\n",
       "        -5.32237026e+03,  8.82198984e+02,  1.72177524e+02,\n",
       "        -7.28343839e+01,  9.78941263e+00, -1.23041771e+01,\n",
       "        -5.36404310e+00,  1.43282488e-01, -1.63682673e+02,\n",
       "         4.30240903e+01, -2.39581005e+01, -2.36845959e+01],\n",
       "       [-3.16951294e+01,  6.25066011e+01, -3.85678985e+01,\n",
       "         3.89386283e+01,  7.24910901e+01, -2.29591609e+00,\n",
       "         4.35238465e+00, -3.56893294e+01, -6.28602049e+00,\n",
       "         1.20104395e+01, -5.45686612e+00,  6.86311608e-01,\n",
       "         2.73195334e+00, -1.45193950e+00, -1.42546341e+00],\n",
       "       [ 1.27470290e+01, -3.85678985e+01,  4.24533296e+01,\n",
       "        -1.75358741e+01, -2.10944293e+01,  1.23616478e+00,\n",
       "        -3.74654208e+00,  3.58176879e+01, -2.25119014e+00,\n",
       "        -8.57388882e+00,  5.56646702e+00, -3.06309686e-01,\n",
       "        -3.79798102e+00, -1.11992872e-01,  2.67294285e+00],\n",
       "       [-5.32237026e+03,  3.89386283e+01, -1.75358741e+01,\n",
       "         5.30382289e+03, -7.44862348e+02, -1.78048870e+02,\n",
       "         7.35544408e+01, -1.66284156e+01,  7.61818181e+00,\n",
       "         7.70829801e+00,  8.14739256e-01,  1.56777676e+02,\n",
       "        -4.19297425e+01,  1.76841991e+01,  2.02174973e+01],\n",
       "       [ 8.82198984e+02,  7.24910901e+01, -2.10944293e+01,\n",
       "        -7.44862348e+02,  1.65351162e+04,  1.25089690e+01,\n",
       "        -3.97879759e+01, -1.54038545e+01, -6.17502673e+00,\n",
       "         1.80264650e+01,  1.30660481e+00, -6.85946428e+01,\n",
       "        -2.32738554e+01, -4.79903629e+02,  4.21060323e+01],\n",
       "       [ 1.72177524e+02, -2.29591609e+00,  1.23616478e+00,\n",
       "        -1.78048870e+02,  1.25089690e+01,  9.68607435e+00,\n",
       "        -7.77189306e-01,  4.81386606e-01,  4.85882404e-01,\n",
       "        -1.21846456e+00, -9.32138471e-01, -2.13353119e+00,\n",
       "         2.55319153e+00,  7.18987897e-01,  2.17843992e-01],\n",
       "       [-7.28343839e+01,  4.35238465e+00, -3.74654208e+00,\n",
       "         7.35544408e+01, -3.97879759e+01, -7.77189306e-01,\n",
       "         1.18212778e+01, -5.31673171e+00,  5.23723724e+00,\n",
       "         5.24879919e-01, -7.73925932e-01,  4.14241980e+00,\n",
       "         7.26711367e+00,  2.53038196e+00, -3.28846338e+00],\n",
       "       [ 9.78941263e+00, -3.56893294e+01,  3.58176879e+01,\n",
       "        -1.66284156e+01, -1.54038545e+01,  4.81386606e-01,\n",
       "        -5.31673171e+00,  4.83068285e+01,  4.90813139e+00,\n",
       "        -9.08421365e+00,  4.47796045e+00, -1.74733782e+00,\n",
       "        -6.75998456e+00, -1.30807149e+00,  4.94573248e+00],\n",
       "       [-1.23041771e+01, -6.28602049e+00, -2.25119014e+00,\n",
       "         7.61818181e+00, -6.17502673e+00,  4.85882404e-01,\n",
       "         5.23723724e+00,  4.90813139e+00,  3.60396633e+01,\n",
       "         3.30537685e+00,  2.02980347e+00, -6.56357268e-01,\n",
       "         1.08825494e+00, -3.17486027e-01, -1.10125717e+00],\n",
       "       [-5.36404310e+00,  1.20104395e+01, -8.57388882e+00,\n",
       "         7.70829801e+00,  1.80264650e+01, -1.21846456e+00,\n",
       "         5.24879919e-01, -9.08421365e+00,  3.30537685e+00,\n",
       "         4.56312086e+00, -4.70751324e-01, -4.31273912e-01,\n",
       "         3.19218772e-01, -4.65177576e-01, -7.32515699e-01],\n",
       "       [ 1.43282488e-01, -5.45686612e+00,  5.56646702e+00,\n",
       "         8.14739256e-01,  1.30660481e+00, -9.32138471e-01,\n",
       "        -7.73925932e-01,  4.47796045e+00,  2.02980347e+00,\n",
       "        -4.70751324e-01,  2.03710695e+00, -7.70248544e-01,\n",
       "        -8.25513424e-01, -3.57717157e-01,  1.20026965e-01],\n",
       "       [-1.63682673e+02,  6.86311608e-01, -3.06309686e-01,\n",
       "         1.56777676e+02, -6.85946428e+01, -2.13353119e+00,\n",
       "         4.14241980e+00, -1.74733782e+00, -6.56357268e-01,\n",
       "        -4.31273912e-01, -7.70248544e-01,  7.93141288e+00,\n",
       "         3.78966153e-01,  3.13625475e+00,  1.25089821e+00],\n",
       "       [ 4.30240903e+01,  2.73195334e+00, -3.79798102e+00,\n",
       "        -4.19297425e+01, -2.32738554e+01,  2.55319153e+00,\n",
       "         7.26711367e+00, -6.75998456e+00,  1.08825494e+00,\n",
       "         3.19218772e-01, -8.25513424e-01,  3.78966153e-01,\n",
       "         6.86835666e+00,  2.00597617e+00, -3.62360458e+00],\n",
       "       [-2.39581005e+01, -1.45193950e+00, -1.11992872e-01,\n",
       "         1.76841991e+01, -4.79903629e+02,  7.18987897e-01,\n",
       "         2.53038196e+00, -1.30807149e+00, -3.17486027e-01,\n",
       "        -4.65177576e-01, -3.57717157e-01,  3.13625475e+00,\n",
       "         2.00597617e+00,  1.52964808e+01, -2.47573483e+00],\n",
       "       [-2.36845959e+01, -1.42546341e+00,  2.67294285e+00,\n",
       "         2.02174973e+01,  4.21060323e+01,  2.17843992e-01,\n",
       "        -3.28846338e+00,  4.94573248e+00, -1.10125717e+00,\n",
       "        -7.32515699e-01,  1.20026965e-01,  1.25089821e+00,\n",
       "        -3.62360458e+00, -2.47573483e+00,  8.79556230e+00]])\n",
       "      jac: array([-2.23517418e-08, -2.32830644e-08,  4.65661287e-07,  1.75088644e-07,\n",
       "        2.79396772e-08,  2.16346234e-06, -9.66712832e-07, -3.53902578e-08,\n",
       "       -3.91155481e-08,  1.18650496e-06, -1.01979822e-06, -3.71877104e-06,\n",
       "        1.65682286e-06,  1.57207251e-06,  8.07456672e-07])\n",
       "  message: 'Optimization terminated successfully.'\n",
       "     nfev: 3553\n",
       "      nit: 187\n",
       "     njev: 209\n",
       "   status: 0\n",
       "  success: True\n",
       "        x: array([-4.25380349, -1.06805493,  3.32728148,  5.58699438, 14.17964677,\n",
       "       -0.53302887, -0.57769886,  0.21137448,  0.96235763,  1.40475871,\n",
       "        0.50766065, -0.83840918, -0.48238599, -3.19255663, -0.74786984])"
      ]
     },
     "execution_count": 12,
     "metadata": {},
     "output_type": "execute_result"
    }
   ],
   "source": [
    "res"
   ]
  },
  {
   "cell_type": "markdown",
   "metadata": {},
   "source": [
    "# VECTORIZE IT"
   ]
  },
  {
   "cell_type": "markdown",
   "metadata": {},
   "source": [
    "## Let's see the SIMPLE case (1 obs) and how we've done in our fun_RBF:\n",
    "- 1 observation: X = [1,3]\n",
    "- N = 2"
   ]
  },
  {
   "cell_type": "code",
   "execution_count": 851,
   "metadata": {},
   "outputs": [
    {
     "name": "stdout",
     "output_type": "stream",
     "text": [
      "(1, 2)\n"
     ]
    },
    {
     "data": {
      "text/plain": [
       "array([[1, 5]])"
      ]
     },
     "execution_count": 851,
     "metadata": {},
     "output_type": "execute_result"
    }
   ],
   "source": [
    "N = 2\n",
    "\n",
    "#X = np.array([1,3,1,3,1,3]).reshape(3,2)\n",
    "X = np.array([1,5]).reshape(1,2)\n",
    "omega = np.array([1, 2, 3, 2, 4, 1 ])\n",
    "omega\n",
    "#X = X.reshape(1,3,2)\n",
    "print(X.shape)\n",
    "X"
   ]
  },
  {
   "cell_type": "code",
   "execution_count": 852,
   "metadata": {},
   "outputs": [
    {
     "data": {
      "text/plain": [
       "array([[3, 2],\n",
       "       [4, 1]])"
      ]
     },
     "execution_count": 852,
     "metadata": {},
     "output_type": "execute_result"
    }
   ],
   "source": [
    "\n",
    "v = omega[0:N].reshape(N, 1)\n",
    "c = omega[N: ].reshape(N, n)\n",
    "c"
   ]
  },
  {
   "cell_type": "code",
   "execution_count": 853,
   "metadata": {},
   "outputs": [
    {
     "data": {
      "text/plain": [
       "array([[ 2, -3],\n",
       "       [ 3, -4]])"
      ]
     },
     "execution_count": 853,
     "metadata": {},
     "output_type": "execute_result"
    }
   ],
   "source": [
    "# 3-1, 2-3\n",
    "# 4-1, 1-3\n",
    "(c-X)"
   ]
  },
  {
   "cell_type": "code",
   "execution_count": 854,
   "metadata": {},
   "outputs": [
    {
     "data": {
      "text/plain": [
       "array([[ 4,  9],\n",
       "       [ 9, 16]])"
      ]
     },
     "execution_count": 854,
     "metadata": {},
     "output_type": "execute_result"
    }
   ],
   "source": [
    "mat = (c-X)*(c-X)\n",
    "mat"
   ]
  },
  {
   "cell_type": "code",
   "execution_count": 855,
   "metadata": {},
   "outputs": [
    {
     "data": {
      "text/plain": [
       "array([4, 9])"
      ]
     },
     "execution_count": 855,
     "metadata": {},
     "output_type": "execute_result"
    }
   ],
   "source": [
    "mat[:,0]"
   ]
  },
  {
   "cell_type": "code",
   "execution_count": 856,
   "metadata": {},
   "outputs": [
    {
     "data": {
      "text/plain": [
       "array([13, 25])"
      ]
     },
     "execution_count": 856,
     "metadata": {},
     "output_type": "execute_result"
    }
   ],
   "source": [
    "col = mat[:,0] + mat[:,1]\n",
    "col"
   ]
  },
  {
   "cell_type": "code",
   "execution_count": 857,
   "metadata": {},
   "outputs": [
    {
     "data": {
      "text/plain": [
       "array([2.26032941e-06, 1.38879439e-11])"
      ]
     },
     "execution_count": 857,
     "metadata": {},
     "output_type": "execute_result"
    }
   ],
   "source": [
    "np.exp(-col)"
   ]
  },
  {
   "cell_type": "code",
   "execution_count": 858,
   "metadata": {},
   "outputs": [
    {
     "data": {
      "text/plain": [
       "array([2.26032941e-06, 1.38879439e-11])"
      ]
     },
     "execution_count": 858,
     "metadata": {},
     "output_type": "execute_result"
    }
   ],
   "source": [
    "col = np.exp(-col/(sigma**2))\n",
    "col"
   ]
  },
  {
   "cell_type": "code",
   "execution_count": 859,
   "metadata": {},
   "outputs": [
    {
     "data": {
      "text/plain": [
       "array([2.26035718e-06])"
      ]
     },
     "execution_count": 859,
     "metadata": {},
     "output_type": "execute_result"
    }
   ],
   "source": [
    "np.dot(col,v)"
   ]
  },
  {
   "cell_type": "code",
   "execution_count": 860,
   "metadata": {},
   "outputs": [
    {
     "data": {
      "text/plain": [
       "array([2.26035718e-06])"
      ]
     },
     "execution_count": 860,
     "metadata": {},
     "output_type": "execute_result"
    }
   ],
   "source": [
    "fun_RBF(X, omega)"
   ]
  },
  {
   "cell_type": "markdown",
   "metadata": {},
   "source": [
    "#### ok. that's the result. Let's try to vectorize it\n",
    "- suppose three observations: \n",
    "X = \n",
    "    \n",
    "    [[1, 2],\n",
    "\n",
    "    [1, 4],\n",
    "    \n",
    "    [1, 5]]"
   ]
  },
  {
   "cell_type": "code",
   "execution_count": 924,
   "metadata": {},
   "outputs": [
    {
     "name": "stdout",
     "output_type": "stream",
     "text": [
      "(3, 2)\n"
     ]
    },
    {
     "data": {
      "text/plain": [
       "array([[1, 3],\n",
       "       [1, 4],\n",
       "       [1, 5]])"
      ]
     },
     "execution_count": 924,
     "metadata": {},
     "output_type": "execute_result"
    }
   ],
   "source": [
    "N = 2\n",
    "\n",
    "X = np.array([1,3,1,4,1,5]).reshape(3,2)\n",
    "#X = np.array([1,3]).reshape(1,2)\n",
    "omega = np.array([1, 2, 3, 2, 4, 1 ])\n",
    "omega\n",
    "#X = X.reshape(1,3,2)\n",
    "print(X.shape)\n",
    "X"
   ]
  },
  {
   "cell_type": "code",
   "execution_count": 925,
   "metadata": {},
   "outputs": [
    {
     "data": {
      "text/plain": [
       "(3, 2)"
      ]
     },
     "execution_count": 925,
     "metadata": {},
     "output_type": "execute_result"
    }
   ],
   "source": [
    "X.shape"
   ]
  },
  {
   "cell_type": "code",
   "execution_count": 926,
   "metadata": {},
   "outputs": [
    {
     "data": {
      "text/plain": [
       "array([[3, 2],\n",
       "       [4, 1]])"
      ]
     },
     "execution_count": 926,
     "metadata": {},
     "output_type": "execute_result"
    }
   ],
   "source": [
    "v = omega[0:N].reshape(N, 1)\n",
    "c = omega[N: ].reshape(N, n)\n",
    "c"
   ]
  },
  {
   "cell_type": "code",
   "execution_count": 927,
   "metadata": {},
   "outputs": [],
   "source": [
    "## let's concatenate all the matrices (c and x) and then \"slice\" them in one entire vector "
   ]
  },
  {
   "cell_type": "code",
   "execution_count": null,
   "metadata": {},
   "outputs": [],
   "source": []
  },
  {
   "cell_type": "code",
   "execution_count": 933,
   "metadata": {},
   "outputs": [
    {
     "name": "stdout",
     "output_type": "stream",
     "text": [
      "(12,)\n"
     ]
    },
    {
     "data": {
      "text/plain": [
       "array([3, 2, 4, 1, 3, 2, 4, 1, 3, 2, 4, 1])"
      ]
     },
     "execution_count": 933,
     "metadata": {},
     "output_type": "execute_result"
    }
   ],
   "source": [
    "c_array = np.tile(c.reshape(-1),X.shape[0])\n",
    "print(c_array.shape)\n",
    "c_array\n",
    "\n"
   ]
  },
  {
   "cell_type": "code",
   "execution_count": 934,
   "metadata": {},
   "outputs": [
    {
     "name": "stdout",
     "output_type": "stream",
     "text": [
      "(12,)\n"
     ]
    },
    {
     "data": {
      "text/plain": [
       "array([1, 3, 1, 3, 1, 4, 1, 4, 1, 5, 1, 5])"
      ]
     },
     "execution_count": 934,
     "metadata": {},
     "output_type": "execute_result"
    }
   ],
   "source": [
    "X_array = np.tile(X,N).reshape(-1)\n",
    "print(X_array.shape)\n",
    "X_array"
   ]
  },
  {
   "cell_type": "code",
   "execution_count": 935,
   "metadata": {},
   "outputs": [],
   "source": [
    "# now:\n",
    "# let's subtract the values of c_array and X_array\n",
    "# let's obtain 1 tensor of P(=3) NX2 matrices (matrix for each observation)\n",
    "# let's power the result in order compute later the norm "
   ]
  },
  {
   "cell_type": "code",
   "execution_count": 936,
   "metadata": {},
   "outputs": [
    {
     "name": "stdout",
     "output_type": "stream",
     "text": [
      "[[ 2 -1]\n",
      " [ 3 -2]]\n",
      "\n",
      "\n",
      "[[ 2 -2]\n",
      " [ 3 -3]]\n",
      "\n",
      "\n",
      "[[ 2 -3]\n",
      " [ 3 -4]]\n"
     ]
    }
   ],
   "source": [
    "print(c-np.array([1,3]).reshape(1,2))\n",
    "print('\\n')\n",
    "print(c-np.array([1,4]).reshape(1,2))\n",
    "print('\\n')\n",
    "print((c-np.array([1,5]).reshape(1,2)))"
   ]
  },
  {
   "cell_type": "code",
   "execution_count": 937,
   "metadata": {},
   "outputs": [
    {
     "data": {
      "text/plain": [
       "array([[[ 2, -1],\n",
       "        [ 3, -2]],\n",
       "\n",
       "       [[ 2, -2],\n",
       "        [ 3, -3]],\n",
       "\n",
       "       [[ 2, -3],\n",
       "        [ 3, -4]]])"
      ]
     },
     "execution_count": 937,
     "metadata": {},
     "output_type": "execute_result"
    }
   ],
   "source": [
    "(c_array-X_array).reshape(X.shape[0],N,2)"
   ]
  },
  {
   "cell_type": "code",
   "execution_count": 938,
   "metadata": {},
   "outputs": [
    {
     "name": "stdout",
     "output_type": "stream",
     "text": [
      "[[4 1]\n",
      " [9 4]]\n",
      "\n",
      "\n",
      "[[4 4]\n",
      " [9 9]]\n",
      "\n",
      "\n",
      "[[ 4  9]\n",
      " [ 9 16]]\n"
     ]
    }
   ],
   "source": [
    "print((c-np.array([1,3]).reshape(1,2))*(c-np.array([1,3]).reshape(1,2)))\n",
    "print('\\n')\n",
    "print((c-np.array([1,4]).reshape(1,2))*(c-np.array([1,4]).reshape(1,2)))\n",
    "print('\\n')\n",
    "print((c-np.array([1,5]).reshape(1,2))*(c-np.array([1,5]).reshape(1,2)))"
   ]
  },
  {
   "cell_type": "code",
   "execution_count": 939,
   "metadata": {},
   "outputs": [
    {
     "data": {
      "text/plain": [
       "array([[[ 4,  1],\n",
       "        [ 9,  4]],\n",
       "\n",
       "       [[ 4,  4],\n",
       "        [ 9,  9]],\n",
       "\n",
       "       [[ 4,  9],\n",
       "        [ 9, 16]]])"
      ]
     },
     "execution_count": 939,
     "metadata": {},
     "output_type": "execute_result"
    }
   ],
   "source": [
    "mat = ((c_array-X_array).reshape(X.shape[0],N,2))**2\n",
    "mat"
   ]
  },
  {
   "cell_type": "code",
   "execution_count": 940,
   "metadata": {},
   "outputs": [
    {
     "data": {
      "text/plain": [
       "array([[ 5, 13],\n",
       "       [ 8, 18],\n",
       "       [13, 25]])"
      ]
     },
     "execution_count": 940,
     "metadata": {},
     "output_type": "execute_result"
    }
   ],
   "source": [
    "# sum the values of each matrix\n",
    "col = mat[:,:,0] + mat[:,:,1]\n",
    "col"
   ]
  },
  {
   "cell_type": "code",
   "execution_count": 941,
   "metadata": {},
   "outputs": [
    {
     "data": {
      "text/plain": [
       "array([[6.73794700e-03, 2.26032941e-06],\n",
       "       [3.35462628e-04, 1.52299797e-08],\n",
       "       [2.26032941e-06, 1.38879439e-11]])"
      ]
     },
     "execution_count": 941,
     "metadata": {},
     "output_type": "execute_result"
    }
   ],
   "source": [
    "col = np.exp(-col/(sigma**2))\n",
    "col"
   ]
  },
  {
   "cell_type": "code",
   "execution_count": 942,
   "metadata": {},
   "outputs": [
    {
     "data": {
      "text/plain": [
       "array([[6.74246766e-03],\n",
       "       [3.35493088e-04],\n",
       "       [2.26035718e-06]])"
      ]
     },
     "execution_count": 942,
     "metadata": {},
     "output_type": "execute_result"
    }
   ],
   "source": [
    "np.dot(col, v)"
   ]
  },
  {
   "cell_type": "code",
   "execution_count": 943,
   "metadata": {},
   "outputs": [
    {
     "data": {
      "text/plain": [
       "array([[6.74246766e-03],\n",
       "       [3.35493088e-04],\n",
       "       [2.26035718e-06]])"
      ]
     },
     "execution_count": 943,
     "metadata": {},
     "output_type": "execute_result"
    }
   ],
   "source": [
    "# which is the right result\n",
    "np.apply_along_axis(fun_RBF, 1, X, omega)"
   ]
  },
  {
   "cell_type": "markdown",
   "metadata": {},
   "source": [
    "#### implementing now the function"
   ]
  },
  {
   "cell_type": "code",
   "execution_count": 948,
   "metadata": {},
   "outputs": [],
   "source": [
    "def fun_RBF_new(X, omega):\n",
    "    \n",
    "    v = omega[0:N].reshape(N, 1)\n",
    "    c = omega[N: ].reshape(N, n)\n",
    "\n",
    "    c_array = np.tile(c.reshape(-1), X.shape[0])\n",
    "    X_array = np.tile(X, N).reshape(-1)\n",
    "\n",
    "    mat = ((c_array-X_array).reshape(X.shape[0],N,2))**2\n",
    "\n",
    "    col = mat[:,:,0] + mat[:,:,1]\n",
    "    col = np.exp(-col/(sigma**2))\n",
    "\n",
    "\n",
    "    return np.dot(col,v)"
   ]
  },
  {
   "cell_type": "code",
   "execution_count": 949,
   "metadata": {},
   "outputs": [],
   "source": [
    "N = 5\n",
    "X = np.array([1,2,3,4,5,6]).reshape(3,2)\n",
    "n = X.shape[1]\n",
    "omega = np.random.randn(N + N*n)"
   ]
  },
  {
   "cell_type": "code",
   "execution_count": 950,
   "metadata": {},
   "outputs": [
    {
     "data": {
      "text/plain": [
       "array([[-4.25492949e-01],\n",
       "       [-5.92901153e-04],\n",
       "       [-1.76185177e-13]])"
      ]
     },
     "execution_count": 950,
     "metadata": {},
     "output_type": "execute_result"
    }
   ],
   "source": [
    "np.apply_along_axis(fun_RBF, 1, X, omega)"
   ]
  },
  {
   "cell_type": "code",
   "execution_count": 951,
   "metadata": {},
   "outputs": [
    {
     "data": {
      "text/plain": [
       "array([[-4.25492949e-01],\n",
       "       [-5.92901153e-04],\n",
       "       [-1.76185177e-13]])"
      ]
     },
     "execution_count": 951,
     "metadata": {},
     "output_type": "execute_result"
    }
   ],
   "source": [
    "fun_RBF_new(X,omega)"
   ]
  },
  {
   "cell_type": "markdown",
   "metadata": {},
   "source": [
    "# ok, now try to minimize using the real dataset"
   ]
  },
  {
   "cell_type": "code",
   "execution_count": 952,
   "metadata": {},
   "outputs": [],
   "source": [
    "X = df[['x1', 'x2']].to_numpy()\n",
    "y_true = df[['y']].to_numpy().reshape(1,-1)\n",
    "\n",
    "#X_train, X_validation, X_test, y_train, y_validation, y_test = split_dataset(X, y_true)"
   ]
  },
  {
   "cell_type": "code",
   "execution_count": 953,
   "metadata": {},
   "outputs": [],
   "source": [
    "N = 10\n",
    "n = X.shape[1]\n",
    "omega = np.random.randn(N + N*n)\n",
    "\n",
    "sigma = 1\n",
    "rho = 0.00001"
   ]
  },
  {
   "cell_type": "code",
   "execution_count": 954,
   "metadata": {},
   "outputs": [],
   "source": [
    "def loss(omega, X, y_true):\n",
    "    y_pred = fun_RBF_new(X,omega).reshape(1,-1)\n",
    "    l = np.sum((y_pred - y_true)**2)/(2 * X.shape[0]) + rho * np.linalg.norm(omega)**2\n",
    "    return l"
   ]
  },
  {
   "cell_type": "code",
   "execution_count": 955,
   "metadata": {},
   "outputs": [
    {
     "data": {
      "text/plain": [
       "3.541853904724121"
      ]
     },
     "execution_count": 955,
     "metadata": {},
     "output_type": "execute_result"
    }
   ],
   "source": [
    "t1 = time()\n",
    "res = minimize(loss, omega, args=(X, y_true))\n",
    "t1 = time()-t1\n",
    "t1"
   ]
  },
  {
   "cell_type": "code",
   "execution_count": 956,
   "metadata": {},
   "outputs": [
    {
     "data": {
      "text/plain": [
       "      fun: 0.03618465925406189\n",
       " hess_inv: array([[ 9.86135911e+03, -1.86421605e+03,  4.67627887e+03,\n",
       "         5.02335600e+02,  4.08317331e+01,  1.79287617e+03,\n",
       "         2.27364990e+03, -2.85825880e+03,  3.08494692e+03,\n",
       "        -2.31612053e+03, -1.78878991e+02,  3.76045925e+01,\n",
       "         2.48915416e+02,  5.38320130e+01, -7.52854249e+01,\n",
       "        -2.06273764e+02,  2.10475658e+01, -2.13421689e+02,\n",
       "        -1.73359580e+02, -8.67917529e+01,  9.13117406e+01,\n",
       "        -5.33414854e+01,  7.08433268e+00, -1.72413952e+02,\n",
       "         1.01440387e+02, -9.75405538e+01,  4.32826122e+01,\n",
       "         4.66715459e+01, -2.91752145e+02, -9.33339112e+01],\n",
       "       [-1.86421605e+03,  1.07949093e+04,  1.40456948e+03,\n",
       "        -9.87994552e+02,  6.85861622e+02,  2.58241634e+02,\n",
       "        -1.39097366e+02,  1.39228431e+03, -2.50886108e+03,\n",
       "        -8.20249722e+02,  7.90597241e+01, -1.60472893e+01,\n",
       "        -9.18311101e+01,  4.83076907e+02,  1.33566182e+01,\n",
       "        -7.01893049e+01,  4.11276122e+01,  1.44339884e+02,\n",
       "        -8.28291878e+01,  1.18503486e+00,  1.31211455e+01,\n",
       "         1.66446069e+01,  3.89334203e+01,  2.23096837e+02,\n",
       "        -3.22480230e+01,  7.88194469e+01, -1.54075179e+01,\n",
       "         6.57304514e+01,  6.37909984e+01, -3.54244153e+01],\n",
       "       [ 4.67627887e+03,  1.40456948e+03,  7.14452929e+03,\n",
       "        -4.94110282e+02, -3.12740005e+01,  3.66002504e+03,\n",
       "        -9.82897883e+02,  2.02126402e+03, -2.99931556e+03,\n",
       "        -9.92775916e+02, -1.01783833e+02, -1.51422517e+01,\n",
       "        -9.25358980e+01, -7.81746565e+01,  1.29659634e+01,\n",
       "        -3.12083570e+02,  3.69574233e+01,  1.48161002e+02,\n",
       "        -1.20542785e+02, -6.49228352e+01,  1.22021531e+02,\n",
       "         3.45181921e+01,  9.90304402e+01,  1.71185807e+02,\n",
       "        -2.70798788e+01,  8.49669849e+01,  6.24226461e+00,\n",
       "         1.04055093e+01, -1.39220522e+02, -6.57148791e+01],\n",
       "       [ 5.02335600e+02, -9.87994552e+02, -4.94110282e+02,\n",
       "         7.48769212e+03, -1.36707867e+02,  1.56601498e+03,\n",
       "        -3.22805944e+03, -3.02792612e+03, -1.55117080e+03,\n",
       "         1.00867267e+02,  6.73455117e-01, -1.82506029e+01,\n",
       "         1.96606580e+02,  2.42075315e+01, -3.27140666e+01,\n",
       "         4.77325323e+00, -1.33094081e+02, -7.89090935e+01,\n",
       "         2.30986205e+01, -4.70653303e+01,  8.51193394e+01,\n",
       "        -8.54082986e+01,  8.56710419e+01, -3.44769273e+02,\n",
       "         5.24297241e+01,  2.83992022e+02,  5.35895185e+01,\n",
       "         6.71835256e+01, -2.05100110e+01, -3.93849659e+01],\n",
       "       [ 4.08317331e+01,  6.85861622e+02, -3.12740005e+01,\n",
       "        -1.36707867e+02,  3.27965955e+03, -1.18972949e+03,\n",
       "        -1.15801367e+02,  3.53440259e+02, -2.17354990e+02,\n",
       "        -2.78824622e+03, -2.33733284e+01, -4.96221639e+01,\n",
       "        -1.90453590e+01,  2.01554336e+00,  1.30297393e+01,\n",
       "        -1.52295173e+01,  3.90256814e+00,  2.43990894e+01,\n",
       "        -2.58863111e+02,  3.81270554e+01, -4.05527110e+01,\n",
       "        -3.49801664e+00,  1.87034153e+01,  4.32224606e+01,\n",
       "         3.09262507e+00,  1.00233282e+01,  6.88472032e+00,\n",
       "        -9.51610767e+00,  3.24262971e+02, -9.44650194e+01],\n",
       "       [ 1.79287617e+03,  2.58241634e+02,  3.66002504e+03,\n",
       "         1.56601498e+03, -1.18972949e+03,  4.99100469e+03,\n",
       "        -2.81640587e+03,  5.66415115e+02,  1.56680258e+02,\n",
       "         2.23274975e+03, -1.74209121e+02, -5.98648028e+01,\n",
       "        -1.01996899e+02, -1.66649379e+02,  1.88898016e+01,\n",
       "        -1.62658953e+02, -1.76496208e+01,  1.44584806e+02,\n",
       "         8.08869430e+01, -4.93508482e+01,  1.68017288e+02,\n",
       "         2.70455510e+01,  9.81670058e+01,  5.85314795e+01,\n",
       "        -4.53828886e+01,  3.88452836e+01, -3.18381351e+01,\n",
       "        -2.41355477e+01, -3.45107454e+01,  1.45637997e+01],\n",
       "       [ 2.27364990e+03, -1.39097366e+02, -9.82897883e+02,\n",
       "        -3.22805944e+03, -1.15801367e+02, -2.81640587e+03,\n",
       "         5.54526017e+03, -5.14510192e+02,  2.43662251e+03,\n",
       "         3.09727921e+00, -7.38534371e+01,  2.29889556e+01,\n",
       "         2.25302832e+02,  3.51461668e+02, -3.94680786e+01,\n",
       "         4.64979728e+01,  5.98825416e+01, -2.65907351e+02,\n",
       "         4.77553210e+00,  1.11488752e+01, -8.58670441e+01,\n",
       "        -2.56454306e+01, -1.62386262e+02, -1.28423356e+02,\n",
       "         8.30257527e+01, -9.38997277e+01,  5.59807416e+01,\n",
       "        -1.27759599e+02, -5.20853233e+01,  1.83941682e+01],\n",
       "       [-2.85825880e+03,  1.39228431e+03,  2.02126402e+03,\n",
       "        -3.02792612e+03,  3.53440259e+02,  5.66415115e+02,\n",
       "        -5.14510192e+02,  5.27750707e+03, -1.29926354e+03,\n",
       "         6.42849812e+01,  6.42688740e+01, -1.47399932e+01,\n",
       "        -1.61147323e+02, -1.03438986e+01,  5.03428731e+01,\n",
       "        -8.23336323e+01,  4.60028578e+01,  2.49435047e+02,\n",
       "        -1.44241197e+01,  2.25754092e+01,  2.31703712e+00,\n",
       "         4.79257737e+01,  2.72386984e+01,  2.05634491e+02,\n",
       "        -9.19735177e+01,  2.04651751e+01, -1.57496348e+01,\n",
       "        -2.81895752e+02,  9.38833117e+01,  1.22329981e+01],\n",
       "       [ 3.08494692e+03, -2.50886108e+03, -2.99931556e+03,\n",
       "        -1.55117080e+03, -2.17354990e+02,  1.56680258e+02,\n",
       "         2.43662251e+03, -1.29926354e+03,  1.33184030e+04,\n",
       "        -2.63275854e+02, -8.05178142e+01,  4.05181803e+01,\n",
       "         2.32610686e+02,  7.47579242e+01, -7.80170436e+01,\n",
       "         1.34474609e+02,  2.44246125e+01, -1.78495129e+02,\n",
       "        -8.97273903e+00, -8.09885531e+00,  3.30282677e+01,\n",
       "        -5.39237627e+01, -6.12766503e+01, -2.29550482e+02,\n",
       "         5.52482155e+01, -3.52030421e+02, -6.34712337e+00,\n",
       "        -4.74719615e+02, -8.78603928e+01,  1.05693919e+01],\n",
       "       [-2.31612053e+03, -8.20249722e+02, -9.92775916e+02,\n",
       "         1.00867267e+02, -2.78824622e+03,  2.23274975e+03,\n",
       "         3.09727921e+00,  6.42849812e+01, -2.63275854e+02,\n",
       "         6.01871801e+03, -2.04683605e+02, -7.14515879e+01,\n",
       "        -1.25689615e+00,  5.93776697e+01,  3.60192489e+01,\n",
       "         5.09547374e+01, -2.65101854e+01, -1.11129391e+01,\n",
       "         3.66341356e+02,  9.37807281e+00,  6.78029405e+01,\n",
       "         1.02740548e+01, -7.19820994e+01, -9.54202340e+01,\n",
       "        -3.18863609e+01, -6.29830359e+00, -2.66850984e+01,\n",
       "         2.03284674e+00,  4.52152449e+01,  1.54060974e+02],\n",
       "       [-1.78878991e+02,  7.90597241e+01, -1.01783833e+02,\n",
       "         6.73455117e-01, -2.33733284e+01, -1.74209121e+02,\n",
       "        -7.38534371e+01,  6.42688740e+01, -8.05178142e+01,\n",
       "        -2.04683605e+02,  2.79380546e+01,  7.28837155e+00,\n",
       "        -7.22664236e+00, -4.71679977e+00, -4.39168917e-01,\n",
       "         4.48697337e+00, -2.47155116e-01,  5.97383533e+00,\n",
       "        -1.23725628e+00, -1.15347589e+00, -6.66908800e+00,\n",
       "         9.47837442e-01,  2.33369871e+00,  8.09030440e+00,\n",
       "        -2.48873944e+00,  4.14544569e+00, -1.13082080e+00,\n",
       "        -1.47460936e+00, -1.85251284e+01, -3.56021637e+00],\n",
       "       [ 3.76045925e+01, -1.60472893e+01, -1.51422517e+01,\n",
       "        -1.82506029e+01, -4.96221639e+01, -5.98648028e+01,\n",
       "         2.29889556e+01, -1.47399932e+01,  4.05181803e+01,\n",
       "        -7.14515879e+01,  7.28837155e+00,  1.60840530e+01,\n",
       "         1.27062767e-01, -4.35708708e-01, -8.60324052e+00,\n",
       "         5.92789726e+00,  6.72234184e-01, -1.92476388e+00,\n",
       "         1.59620926e+00,  3.15490272e+00, -1.89506757e+00,\n",
       "        -2.92843066e-01, -1.15146568e+00,  1.00865456e-01,\n",
       "         1.85510509e+00, -1.69812246e+00,  8.96290127e-01,\n",
       "        -5.52448183e-01, -1.41315979e+01,  8.56663416e+00],\n",
       "       [ 2.48915416e+02, -9.18311101e+01, -9.25358980e+01,\n",
       "         1.96606580e+02, -1.90453590e+01, -1.01996899e+02,\n",
       "         2.25302832e+02, -1.61147323e+02,  2.32610686e+02,\n",
       "        -1.25689615e+00, -7.22664236e+00,  1.27062767e-01,\n",
       "         5.08273192e+01,  4.01578264e+01, -4.18143162e+00,\n",
       "         2.71712116e+00, -3.84901078e+00, -1.93081671e+01,\n",
       "        -8.28354280e-01, -4.13171958e+00,  3.72032025e+00,\n",
       "        -1.55300316e+01, -2.14857707e+00, -4.62773728e+01,\n",
       "         7.86299740e+00, -4.62540235e+00,  5.32641405e+00,\n",
       "        -8.67329091e+00, -5.61698956e+00, -2.45943317e+00],\n",
       "       [ 5.38320130e+01,  4.83076907e+02, -7.81746565e+01,\n",
       "         2.42075315e+01,  2.01554336e+00, -1.66649379e+02,\n",
       "         3.51461668e+02, -1.03438986e+01,  7.47579242e+01,\n",
       "         5.93776697e+01, -4.71679977e+00, -4.35708708e-01,\n",
       "         4.01578264e+01,  8.87237353e+01, -3.97385591e+00,\n",
       "         2.97967322e+00, -3.02074692e+00, -1.30419133e+01,\n",
       "         6.52674066e+00, -5.94160896e-01, -2.32160986e+00,\n",
       "        -1.02576149e+01, -1.33695442e+01, -4.41873383e+01,\n",
       "         5.93525838e+00, -4.95382096e+00,  7.00925376e+00,\n",
       "        -7.65705746e+00,  2.87252478e+00,  7.58826885e-01],\n",
       "       [-7.52854249e+01,  1.33566182e+01,  1.29659634e+01,\n",
       "        -3.27140666e+01,  1.30297393e+01,  1.88898016e+01,\n",
       "        -3.94680786e+01,  5.03428731e+01, -7.80170436e+01,\n",
       "         3.60192489e+01, -4.39168917e-01, -8.60324052e+00,\n",
       "        -4.18143162e+00, -3.97385591e+00,  2.69105070e+01,\n",
       "        -3.58751277e+00, -2.70048521e-01,  3.86896859e+00,\n",
       "         5.97081070e-01,  3.74574804e+00,  1.10632040e-01,\n",
       "         4.87250168e-01,  1.88630974e-01,  4.49671693e+00,\n",
       "        -1.53309831e+00, -9.71117701e-01,  3.55620865e+00,\n",
       "         7.37650552e-01,  7.13071417e+00, -2.44895698e-01],\n",
       "       [-2.06273764e+02, -7.01893049e+01, -3.12083570e+02,\n",
       "         4.77325323e+00, -1.52295173e+01, -1.62658953e+02,\n",
       "         4.64979728e+01, -8.23336323e+01,  1.34474609e+02,\n",
       "         5.09547374e+01,  4.48697337e+00,  5.92789726e+00,\n",
       "         2.71712116e+00,  2.97967322e+00, -3.58751277e+00,\n",
       "         1.72701298e+01, -1.45276092e+00, -6.49525545e+00,\n",
       "         7.26325982e+00,  5.29423135e+00, -5.67964811e+00,\n",
       "        -1.09068182e+00, -5.47119300e+00, -6.86861606e+00,\n",
       "         1.62854331e+00, -4.56905260e+00,  4.09631137e-01,\n",
       "        -4.91640184e-01,  4.24376131e+00,  7.11414626e+00],\n",
       "       [ 2.10475658e+01,  4.11276122e+01,  3.69574233e+01,\n",
       "        -1.33094081e+02,  3.90256814e+00, -1.76496208e+01,\n",
       "         5.98825416e+01,  4.60028578e+01,  2.44246125e+01,\n",
       "        -2.65101854e+01, -2.47155116e-01,  6.72234184e-01,\n",
       "        -3.84901078e+00, -3.02074692e+00, -2.70048521e-01,\n",
       "        -1.45276092e+00,  4.84812113e+00,  1.25296312e+00,\n",
       "        -4.13492315e+00,  3.36588955e-01, -5.81416530e-01,\n",
       "         3.10814312e+00,  1.53877547e+00,  1.00713398e+01,\n",
       "         1.77130934e+00, -3.58753279e+00,  1.80082771e+00,\n",
       "        -7.14105720e-01, -1.11544697e+00, -1.45387436e-02],\n",
       "       [-2.13421689e+02,  1.44339884e+02,  1.48161002e+02,\n",
       "        -7.89090935e+01,  2.43990894e+01,  1.44584806e+02,\n",
       "        -2.65907351e+02,  2.49435047e+02, -1.78495129e+02,\n",
       "        -1.11129391e+01,  5.97383533e+00, -1.92476388e+00,\n",
       "        -1.93081671e+01, -1.30419133e+01,  3.86896859e+00,\n",
       "        -6.49525545e+00,  1.25296312e+00,  2.81411356e+01,\n",
       "        -2.85200456e+00, -4.15916064e-01,  3.63167482e+00,\n",
       "         4.21312530e+00,  9.81746955e+00,  1.90857027e+01,\n",
       "        -9.08269519e+00, -4.77070907e+00, -5.66733282e+00,\n",
       "         5.11182138e+00,  5.94948293e+00, -1.40018310e+00],\n",
       "       [-1.73359580e+02, -8.28291878e+01, -1.20542785e+02,\n",
       "         2.30986205e+01, -2.58863111e+02,  8.08869430e+01,\n",
       "         4.77553210e+00, -1.44241197e+01, -8.97273903e+00,\n",
       "         3.66341356e+02, -1.23725628e+00,  1.59620926e+00,\n",
       "        -8.28354280e-01,  6.52674066e+00,  5.97081070e-01,\n",
       "         7.26325982e+00, -4.13492315e+00, -2.85200456e+00,\n",
       "         3.40521180e+01,  8.83301803e-01,  1.44099320e+00,\n",
       "         5.67136801e-02, -9.38548165e+00, -1.08143896e+01,\n",
       "        -3.78366512e+00, -9.25034421e-02, -3.68532277e+00,\n",
       "        -6.49787861e-01, -1.20630157e+01,  1.24091120e+01],\n",
       "       [-8.67917529e+01,  1.18503486e+00, -6.49228352e+01,\n",
       "        -4.70653303e+01,  3.81270554e+01, -4.93508482e+01,\n",
       "         1.11488752e+01,  2.25754092e+01, -8.09885531e+00,\n",
       "         9.37807281e+00, -1.15347589e+00,  3.15490272e+00,\n",
       "        -4.13171958e+00, -5.94160896e-01,  3.74574804e+00,\n",
       "         5.29423135e+00,  3.36588955e-01, -4.15916064e-01,\n",
       "         8.83301803e-01,  8.36856360e+00, -2.15754958e+00,\n",
       "         4.98122271e-01, -3.59104764e+00,  2.42894107e+00,\n",
       "         1.62788088e+00, -1.28341574e+00,  3.17359070e+00,\n",
       "        -8.46529691e-01,  8.74880894e+00,  7.82115894e+00],\n",
       "       [ 9.13117406e+01,  1.31211455e+01,  1.22021531e+02,\n",
       "         8.51193394e+01, -4.05527110e+01,  1.68017288e+02,\n",
       "        -8.58670441e+01,  2.31703712e+00,  3.30282677e+01,\n",
       "         6.78029405e+01, -6.66908800e+00, -1.89506757e+00,\n",
       "         3.72032025e+00, -2.32160986e+00,  1.10632040e-01,\n",
       "        -5.67964811e+00, -5.81416530e-01,  3.63167482e+00,\n",
       "         1.44099320e+00, -2.15754958e+00,  8.63291805e+00,\n",
       "        -4.00651616e+00,  4.74300442e+00, -2.51287445e+00,\n",
       "        -2.93064951e-01,  8.17288824e-01, -2.71851912e-01,\n",
       "        -1.59206298e+00, -1.82744178e+00,  1.37499084e-01],\n",
       "       [-5.33414854e+01,  1.66446069e+01,  3.45181921e+01,\n",
       "        -8.54082986e+01, -3.49801664e+00,  2.70455510e+01,\n",
       "        -2.56454306e+01,  4.79257737e+01, -5.39237627e+01,\n",
       "         1.02740548e+01,  9.47837442e-01, -2.92843066e-01,\n",
       "        -1.55300316e+01, -1.02576149e+01,  4.87250168e-01,\n",
       "        -1.09068182e+00,  3.10814312e+00,  4.21312530e+00,\n",
       "         5.67136801e-02,  4.98122271e-01, -4.00651616e+00,\n",
       "         1.61612412e+01,  6.56220483e-01,  1.42100606e+01,\n",
       "        -5.56749944e-01,  1.00660692e+00,  4.15122844e-01,\n",
       "         1.71408615e+00,  8.77991585e-01,  3.55752981e-01],\n",
       "       [ 7.08433268e+00,  3.89334203e+01,  9.90304402e+01,\n",
       "         8.56710419e+01,  1.87034153e+01,  9.81670058e+01,\n",
       "        -1.62386262e+02,  2.72386984e+01, -6.12766503e+01,\n",
       "        -7.19820994e+01,  2.33369871e+00, -1.15146568e+00,\n",
       "        -2.14857707e+00, -1.33695442e+01,  1.88630974e-01,\n",
       "        -5.47119300e+00,  1.53877547e+00,  9.81746955e+00,\n",
       "        -9.38548165e+00, -3.59104764e+00,  4.74300442e+00,\n",
       "         6.56220483e-01,  1.20398356e+01,  8.32216472e+00,\n",
       "        -8.32050319e-01,  2.56669383e+00, -8.32596327e-01,\n",
       "         3.79061096e+00, -1.60098419e+00, -4.76329490e+00],\n",
       "       [-1.72413952e+02,  2.23096837e+02,  1.71185807e+02,\n",
       "        -3.44769273e+02,  4.32224606e+01,  5.85314795e+01,\n",
       "        -1.28423356e+02,  2.05634491e+02, -2.29550482e+02,\n",
       "        -9.54202340e+01,  8.09030440e+00,  1.00865456e-01,\n",
       "        -4.62773728e+01, -4.41873383e+01,  4.49671693e+00,\n",
       "        -6.86861606e+00,  1.00713398e+01,  1.90857027e+01,\n",
       "        -1.08143896e+01,  2.42894107e+00, -2.51287445e+00,\n",
       "         1.42100606e+01,  8.32216472e+00,  6.29690519e+01,\n",
       "        -7.31914768e+00,  5.83813719e+00, -6.53568444e+00,\n",
       "         6.29531147e+00,  2.23868235e+00, -1.07356086e+00],\n",
       "       [ 1.01440387e+02, -3.22480230e+01, -2.70798788e+01,\n",
       "         5.24297241e+01,  3.09262507e+00, -4.53828886e+01,\n",
       "         8.30257527e+01, -9.19735177e+01,  5.52482155e+01,\n",
       "        -3.18863609e+01, -2.48873944e+00,  1.85510509e+00,\n",
       "         7.86299740e+00,  5.93525838e+00, -1.53309831e+00,\n",
       "         1.62854331e+00,  1.77130934e+00, -9.08269519e+00,\n",
       "        -3.78366512e+00,  1.62788088e+00, -2.93064951e-01,\n",
       "        -5.56749944e-01, -8.32050319e-01, -7.31914768e+00,\n",
       "         9.04019305e+00,  1.10862477e+00,  1.06392194e+01,\n",
       "        -1.00690574e-01, -2.57884688e+00,  1.33340495e+00],\n",
       "       [-9.75405538e+01,  7.88194469e+01,  8.49669849e+01,\n",
       "         2.83992022e+02,  1.00233282e+01,  3.88452836e+01,\n",
       "        -9.38997277e+01,  2.04651751e+01, -3.52030421e+02,\n",
       "        -6.29830359e+00,  4.14544569e+00, -1.69812246e+00,\n",
       "        -4.62540235e+00, -4.95382096e+00, -9.71117701e-01,\n",
       "        -4.56905260e+00, -3.58753279e+00, -4.77070907e+00,\n",
       "        -9.25034421e-02, -1.28341574e+00,  8.17288824e-01,\n",
       "         1.00660692e+00,  2.56669383e+00,  5.83813719e+00,\n",
       "         1.10862477e+00,  4.05104345e+01,  4.06856122e+00,\n",
       "        -1.13559157e+01,  1.64324524e+00, -2.21609328e+00],\n",
       "       [ 4.32826122e+01, -1.54075179e+01,  6.24226461e+00,\n",
       "         5.35895185e+01,  6.88472032e+00, -3.18381351e+01,\n",
       "         5.59807416e+01, -1.57496348e+01, -6.34712337e+00,\n",
       "        -2.66850984e+01, -1.13082080e+00,  8.96290127e-01,\n",
       "         5.32641405e+00,  7.00925376e+00,  3.55620865e+00,\n",
       "         4.09631137e-01,  1.80082771e+00, -5.66733282e+00,\n",
       "        -3.68532277e+00,  3.17359070e+00, -2.71851912e-01,\n",
       "         4.15122844e-01, -8.32596327e-01, -6.53568444e+00,\n",
       "         1.06392194e+01,  4.06856122e+00,  1.89010811e+01,\n",
       "        -4.20512688e+00, -6.38782042e-01,  2.01237582e+00],\n",
       "       [ 4.66715459e+01,  6.57304514e+01,  1.04055093e+01,\n",
       "         6.71835256e+01, -9.51610767e+00, -2.41355477e+01,\n",
       "        -1.27759599e+02, -2.81895752e+02, -4.74719615e+02,\n",
       "         2.03284674e+00, -1.47460936e+00, -5.52448183e-01,\n",
       "        -8.67329091e+00, -7.65705746e+00,  7.37650552e-01,\n",
       "        -4.91640184e-01, -7.14105720e-01,  5.11182138e+00,\n",
       "        -6.49787861e-01, -8.46529691e-01, -1.59206298e+00,\n",
       "         1.71408615e+00,  3.79061096e+00,  6.29531147e+00,\n",
       "        -1.00690574e-01, -1.13559157e+01, -4.20512688e+00,\n",
       "         6.30643331e+01, -1.38771398e+00, -8.99125522e-01],\n",
       "       [-2.91752145e+02,  6.37909984e+01, -1.39220522e+02,\n",
       "        -2.05100110e+01,  3.24262971e+02, -3.45107454e+01,\n",
       "        -5.20853233e+01,  9.38833117e+01, -8.78603928e+01,\n",
       "         4.52152449e+01, -1.85251284e+01, -1.41315979e+01,\n",
       "        -5.61698956e+00,  2.87252478e+00,  7.13071417e+00,\n",
       "         4.24376131e+00, -1.11544697e+00,  5.94948293e+00,\n",
       "        -1.20630157e+01,  8.74880894e+00, -1.82744178e+00,\n",
       "         8.77991585e-01, -1.60098419e+00,  2.23868235e+00,\n",
       "        -2.57884688e+00,  1.64324524e+00, -6.38782042e-01,\n",
       "        -1.38771398e+00,  6.26020562e+01, -1.73100572e+00],\n",
       "       [-9.33339112e+01, -3.54244153e+01, -6.57148791e+01,\n",
       "        -3.93849659e+01, -9.44650194e+01,  1.45637997e+01,\n",
       "         1.83941682e+01,  1.22329981e+01,  1.05693919e+01,\n",
       "         1.54060974e+02, -3.56021637e+00,  8.56663416e+00,\n",
       "        -2.45943317e+00,  7.58826885e-01, -2.44895698e-01,\n",
       "         7.11414626e+00, -1.45387436e-02, -1.40018310e+00,\n",
       "         1.24091120e+01,  7.82115894e+00,  1.37499084e-01,\n",
       "         3.55752981e-01, -4.76329490e+00, -1.07356086e+00,\n",
       "         1.33340495e+00, -2.21609328e+00,  2.01237582e+00,\n",
       "        -8.99125522e-01, -1.73100572e+00,  1.56172959e+01]])\n",
       "      jac: array([ 9.82545316e-07,  3.82307917e-07, -5.46686351e-07,  5.26662916e-07,\n",
       "       -3.75322998e-07, -9.56933945e-07, -1.59256160e-07,  6.92438334e-07,\n",
       "       -9.77888703e-09,  3.52505594e-07, -3.67639586e-06,  1.35041773e-08,\n",
       "       -2.10991129e-06, -4.11318615e-06,  4.28408384e-08, -3.89292836e-07,\n",
       "        3.79607081e-06,  5.53764403e-06,  1.55065209e-06, -6.44940883e-07,\n",
       "       -8.86619091e-07,  9.45292413e-08, -1.09942630e-06, -1.32853165e-06,\n",
       "       -1.74622983e-06, -2.00234354e-07,  8.88016075e-07, -6.84056431e-07,\n",
       "        2.09920108e-06, -3.33413482e-07])\n",
       "  message: 'Optimization terminated successfully.'\n",
       "     nfev: 20384\n",
       "      nit: 600\n",
       "     njev: 637\n",
       "   status: 0\n",
       "  success: True\n",
       "        x: array([ 1.37847613e+01,  9.24793162e+00,  9.87274623e+00,  8.52178573e+00,\n",
       "        4.83822925e+00,  1.18977143e+01, -6.93917964e+00, -7.25276800e+00,\n",
       "        1.02868472e+01, -5.40153595e+00, -2.94625646e+00,  7.28886297e-02,\n",
       "        6.30356125e-01,  1.90570678e+00, -1.71656338e+00, -2.07938055e+00,\n",
       "        5.66759873e-01,  2.86499129e-03, -1.20987014e+00,  1.42463225e-01,\n",
       "        3.06791968e+00,  8.34520852e-01,  2.72930206e-01,  5.87392609e-01,\n",
       "        4.11204551e-01, -8.27815921e-01,  4.84965682e-01, -1.87989997e+00,\n",
       "       -1.91507381e+00,  2.99757450e-01])"
      ]
     },
     "execution_count": 956,
     "metadata": {},
     "output_type": "execute_result"
    }
   ],
   "source": [
    "res"
   ]
  },
  {
   "cell_type": "code",
   "execution_count": null,
   "metadata": {},
   "outputs": [],
   "source": []
  }
 ],
 "metadata": {
  "kernelspec": {
   "display_name": "Python 3",
   "language": "python",
   "name": "python3"
  },
  "language_info": {
   "codemirror_mode": {
    "name": "ipython",
    "version": 3
   },
   "file_extension": ".py",
   "mimetype": "text/x-python",
   "name": "python",
   "nbconvert_exporter": "python",
   "pygments_lexer": "ipython3",
   "version": "3.7.3"
  }
 },
 "nbformat": 4,
 "nbformat_minor": 2
}
