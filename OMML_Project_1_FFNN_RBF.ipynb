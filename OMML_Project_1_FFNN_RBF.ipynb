{
 "cells": [
  {
   "cell_type": "code",
   "execution_count": 1,
   "metadata": {},
   "outputs": [],
   "source": [
    "import pandas as pd\n",
    "import numpy as np"
   ]
  },
  {
   "cell_type": "code",
   "execution_count": 844,
   "metadata": {},
   "outputs": [
    {
     "data": {
      "text/html": [
       "<div>\n",
       "<style scoped>\n",
       "    .dataframe tbody tr th:only-of-type {\n",
       "        vertical-align: middle;\n",
       "    }\n",
       "\n",
       "    .dataframe tbody tr th {\n",
       "        vertical-align: top;\n",
       "    }\n",
       "\n",
       "    .dataframe thead th {\n",
       "        text-align: right;\n",
       "    }\n",
       "</style>\n",
       "<table border=\"1\" class=\"dataframe\">\n",
       "  <thead>\n",
       "    <tr style=\"text-align: right;\">\n",
       "      <th></th>\n",
       "      <th>x1</th>\n",
       "      <th>x2</th>\n",
       "      <th>y</th>\n",
       "    </tr>\n",
       "  </thead>\n",
       "  <tbody>\n",
       "    <tr>\n",
       "      <td>0</td>\n",
       "      <td>-1.262271</td>\n",
       "      <td>0.746859</td>\n",
       "      <td>0.461002</td>\n",
       "    </tr>\n",
       "    <tr>\n",
       "      <td>1</td>\n",
       "      <td>-0.804355</td>\n",
       "      <td>0.937081</td>\n",
       "      <td>0.617336</td>\n",
       "    </tr>\n",
       "    <tr>\n",
       "      <td>2</td>\n",
       "      <td>-1.805674</td>\n",
       "      <td>0.738389</td>\n",
       "      <td>-0.053984</td>\n",
       "    </tr>\n",
       "    <tr>\n",
       "      <td>3</td>\n",
       "      <td>-0.888805</td>\n",
       "      <td>0.061711</td>\n",
       "      <td>1.943678</td>\n",
       "    </tr>\n",
       "    <tr>\n",
       "      <td>4</td>\n",
       "      <td>-1.667562</td>\n",
       "      <td>-0.534543</td>\n",
       "      <td>2.127070</td>\n",
       "    </tr>\n",
       "  </tbody>\n",
       "</table>\n",
       "</div>"
      ],
      "text/plain": [
       "         x1        x2         y\n",
       "0 -1.262271  0.746859  0.461002\n",
       "1 -0.804355  0.937081  0.617336\n",
       "2 -1.805674  0.738389 -0.053984\n",
       "3 -0.888805  0.061711  1.943678\n",
       "4 -1.667562 -0.534543  2.127070"
      ]
     },
     "execution_count": 844,
     "metadata": {},
     "output_type": "execute_result"
    }
   ],
   "source": [
    "file = pd.ExcelFile('dataPoints.xlsx')\n",
    "df = file.parse('Foglio1')\n",
    "df.head()"
   ]
  },
  {
   "cell_type": "code",
   "execution_count": 845,
   "metadata": {},
   "outputs": [],
   "source": [
    "from sklearn.model_selection import train_test_split\n",
    "\n",
    "# split in target and test set\n",
    "def split_dataset(X, y):\n",
    "    X_target, X_test, y_target, y_test = train_test_split(X, y_true.reshape(-1,1), test_size=0.15)\n",
    "    X_train, X_validation, y_train, y_validation = train_test_split(X_target, y_target, test_size=0.17647)\n",
    "    \n",
    "    y_train = y_train.reshape(1,-1)\n",
    "    y_validation = y_validation.reshape(1,-1)\n",
    "    y_test = y_test.reshape(1,-1)\n",
    "    \n",
    "    return X_train, X_validation, X_test, y_train, y_validation, y_test"
   ]
  },
  {
   "cell_type": "code",
   "execution_count": 846,
   "metadata": {},
   "outputs": [],
   "source": [
    "X = df[['x1', 'x2']].to_numpy()\n",
    "y_true = df[['y']].to_numpy().reshape(1,-1)\n",
    "\n",
    "#X_train, X_validation, X_test, y_train, y_validation, y_test = split_dataset(X, y_true)"
   ]
  },
  {
   "cell_type": "code",
   "execution_count": 847,
   "metadata": {},
   "outputs": [],
   "source": [
    "def fun_RBF(X, omega):\n",
    "    \n",
    "    v = omega[0:N].reshape(N, 1)\n",
    "    c = omega[N: ].reshape(N, n)\n",
    "    \n",
    "    mat = (c-X)*(c-X)\n",
    "    col = mat[:,0] + mat[:,1]\n",
    "    col = np.exp(-col/(sigma**2))\n",
    "\n",
    "    return np.dot(col, v)"
   ]
  },
  {
   "cell_type": "code",
   "execution_count": null,
   "metadata": {},
   "outputs": [],
   "source": []
  },
  {
   "cell_type": "code",
   "execution_count": 848,
   "metadata": {},
   "outputs": [],
   "source": [
    "N = 5\n",
    "n = X.shape[1]\n",
    "omega = np.random.randn(N + N*n)\n",
    "\n",
    "sigma = 1\n",
    "rho = 0.00001"
   ]
  },
  {
   "cell_type": "code",
   "execution_count": 7,
   "metadata": {},
   "outputs": [],
   "source": [
    "#np.apply_along_axis(fun_RBF, 1, X, omega)"
   ]
  },
  {
   "cell_type": "code",
   "execution_count": 8,
   "metadata": {},
   "outputs": [],
   "source": [
    "def loss(omega, X, y_true):\n",
    "    y_pred = np.apply_along_axis(fun_RBF, 1, X, omega).reshape(1,-1)\n",
    "    l = np.sum((y_pred - y_true)**2)/(2 * X.shape[0]) + rho * np.linalg.norm(omega)**2\n",
    "    return l"
   ]
  },
  {
   "cell_type": "code",
   "execution_count": 9,
   "metadata": {},
   "outputs": [
    {
     "data": {
      "text/plain": [
       "1.2406605432529185"
      ]
     },
     "execution_count": 9,
     "metadata": {},
     "output_type": "execute_result"
    }
   ],
   "source": [
    "loss(omega, X, y_true)"
   ]
  },
  {
   "cell_type": "code",
   "execution_count": 10,
   "metadata": {},
   "outputs": [],
   "source": [
    "from scipy.optimize import minimize\n",
    "from time import time \n",
    "\n",
    "t1 = time()\n",
    "res = minimize(loss, omega, args=(X, y_true))\n",
    "t1 = time()-t1"
   ]
  },
  {
   "cell_type": "code",
   "execution_count": 11,
   "metadata": {},
   "outputs": [
    {
     "data": {
      "text/plain": [
       "21.395835876464844"
      ]
     },
     "execution_count": 11,
     "metadata": {},
     "output_type": "execute_result"
    }
   ],
   "source": [
    "t1"
   ]
  },
  {
   "cell_type": "code",
   "execution_count": 12,
   "metadata": {},
   "outputs": [
    {
     "data": {
      "text/plain": [
       "      fun: 0.11492077557158395\n",
       " hess_inv: array([[ 5.36618860e+03, -3.16951294e+01,  1.27470290e+01,\n",
       "        -5.32237026e+03,  8.82198984e+02,  1.72177524e+02,\n",
       "        -7.28343839e+01,  9.78941263e+00, -1.23041771e+01,\n",
       "        -5.36404310e+00,  1.43282488e-01, -1.63682673e+02,\n",
       "         4.30240903e+01, -2.39581005e+01, -2.36845959e+01],\n",
       "       [-3.16951294e+01,  6.25066011e+01, -3.85678985e+01,\n",
       "         3.89386283e+01,  7.24910901e+01, -2.29591609e+00,\n",
       "         4.35238465e+00, -3.56893294e+01, -6.28602049e+00,\n",
       "         1.20104395e+01, -5.45686612e+00,  6.86311608e-01,\n",
       "         2.73195334e+00, -1.45193950e+00, -1.42546341e+00],\n",
       "       [ 1.27470290e+01, -3.85678985e+01,  4.24533296e+01,\n",
       "        -1.75358741e+01, -2.10944293e+01,  1.23616478e+00,\n",
       "        -3.74654208e+00,  3.58176879e+01, -2.25119014e+00,\n",
       "        -8.57388882e+00,  5.56646702e+00, -3.06309686e-01,\n",
       "        -3.79798102e+00, -1.11992872e-01,  2.67294285e+00],\n",
       "       [-5.32237026e+03,  3.89386283e+01, -1.75358741e+01,\n",
       "         5.30382289e+03, -7.44862348e+02, -1.78048870e+02,\n",
       "         7.35544408e+01, -1.66284156e+01,  7.61818181e+00,\n",
       "         7.70829801e+00,  8.14739256e-01,  1.56777676e+02,\n",
       "        -4.19297425e+01,  1.76841991e+01,  2.02174973e+01],\n",
       "       [ 8.82198984e+02,  7.24910901e+01, -2.10944293e+01,\n",
       "        -7.44862348e+02,  1.65351162e+04,  1.25089690e+01,\n",
       "        -3.97879759e+01, -1.54038545e+01, -6.17502673e+00,\n",
       "         1.80264650e+01,  1.30660481e+00, -6.85946428e+01,\n",
       "        -2.32738554e+01, -4.79903629e+02,  4.21060323e+01],\n",
       "       [ 1.72177524e+02, -2.29591609e+00,  1.23616478e+00,\n",
       "        -1.78048870e+02,  1.25089690e+01,  9.68607435e+00,\n",
       "        -7.77189306e-01,  4.81386606e-01,  4.85882404e-01,\n",
       "        -1.21846456e+00, -9.32138471e-01, -2.13353119e+00,\n",
       "         2.55319153e+00,  7.18987897e-01,  2.17843992e-01],\n",
       "       [-7.28343839e+01,  4.35238465e+00, -3.74654208e+00,\n",
       "         7.35544408e+01, -3.97879759e+01, -7.77189306e-01,\n",
       "         1.18212778e+01, -5.31673171e+00,  5.23723724e+00,\n",
       "         5.24879919e-01, -7.73925932e-01,  4.14241980e+00,\n",
       "         7.26711367e+00,  2.53038196e+00, -3.28846338e+00],\n",
       "       [ 9.78941263e+00, -3.56893294e+01,  3.58176879e+01,\n",
       "        -1.66284156e+01, -1.54038545e+01,  4.81386606e-01,\n",
       "        -5.31673171e+00,  4.83068285e+01,  4.90813139e+00,\n",
       "        -9.08421365e+00,  4.47796045e+00, -1.74733782e+00,\n",
       "        -6.75998456e+00, -1.30807149e+00,  4.94573248e+00],\n",
       "       [-1.23041771e+01, -6.28602049e+00, -2.25119014e+00,\n",
       "         7.61818181e+00, -6.17502673e+00,  4.85882404e-01,\n",
       "         5.23723724e+00,  4.90813139e+00,  3.60396633e+01,\n",
       "         3.30537685e+00,  2.02980347e+00, -6.56357268e-01,\n",
       "         1.08825494e+00, -3.17486027e-01, -1.10125717e+00],\n",
       "       [-5.36404310e+00,  1.20104395e+01, -8.57388882e+00,\n",
       "         7.70829801e+00,  1.80264650e+01, -1.21846456e+00,\n",
       "         5.24879919e-01, -9.08421365e+00,  3.30537685e+00,\n",
       "         4.56312086e+00, -4.70751324e-01, -4.31273912e-01,\n",
       "         3.19218772e-01, -4.65177576e-01, -7.32515699e-01],\n",
       "       [ 1.43282488e-01, -5.45686612e+00,  5.56646702e+00,\n",
       "         8.14739256e-01,  1.30660481e+00, -9.32138471e-01,\n",
       "        -7.73925932e-01,  4.47796045e+00,  2.02980347e+00,\n",
       "        -4.70751324e-01,  2.03710695e+00, -7.70248544e-01,\n",
       "        -8.25513424e-01, -3.57717157e-01,  1.20026965e-01],\n",
       "       [-1.63682673e+02,  6.86311608e-01, -3.06309686e-01,\n",
       "         1.56777676e+02, -6.85946428e+01, -2.13353119e+00,\n",
       "         4.14241980e+00, -1.74733782e+00, -6.56357268e-01,\n",
       "        -4.31273912e-01, -7.70248544e-01,  7.93141288e+00,\n",
       "         3.78966153e-01,  3.13625475e+00,  1.25089821e+00],\n",
       "       [ 4.30240903e+01,  2.73195334e+00, -3.79798102e+00,\n",
       "        -4.19297425e+01, -2.32738554e+01,  2.55319153e+00,\n",
       "         7.26711367e+00, -6.75998456e+00,  1.08825494e+00,\n",
       "         3.19218772e-01, -8.25513424e-01,  3.78966153e-01,\n",
       "         6.86835666e+00,  2.00597617e+00, -3.62360458e+00],\n",
       "       [-2.39581005e+01, -1.45193950e+00, -1.11992872e-01,\n",
       "         1.76841991e+01, -4.79903629e+02,  7.18987897e-01,\n",
       "         2.53038196e+00, -1.30807149e+00, -3.17486027e-01,\n",
       "        -4.65177576e-01, -3.57717157e-01,  3.13625475e+00,\n",
       "         2.00597617e+00,  1.52964808e+01, -2.47573483e+00],\n",
       "       [-2.36845959e+01, -1.42546341e+00,  2.67294285e+00,\n",
       "         2.02174973e+01,  4.21060323e+01,  2.17843992e-01,\n",
       "        -3.28846338e+00,  4.94573248e+00, -1.10125717e+00,\n",
       "        -7.32515699e-01,  1.20026965e-01,  1.25089821e+00,\n",
       "        -3.62360458e+00, -2.47573483e+00,  8.79556230e+00]])\n",
       "      jac: array([-2.23517418e-08, -2.32830644e-08,  4.65661287e-07,  1.75088644e-07,\n",
       "        2.79396772e-08,  2.16346234e-06, -9.66712832e-07, -3.53902578e-08,\n",
       "       -3.91155481e-08,  1.18650496e-06, -1.01979822e-06, -3.71877104e-06,\n",
       "        1.65682286e-06,  1.57207251e-06,  8.07456672e-07])\n",
       "  message: 'Optimization terminated successfully.'\n",
       "     nfev: 3553\n",
       "      nit: 187\n",
       "     njev: 209\n",
       "   status: 0\n",
       "  success: True\n",
       "        x: array([-4.25380349, -1.06805493,  3.32728148,  5.58699438, 14.17964677,\n",
       "       -0.53302887, -0.57769886,  0.21137448,  0.96235763,  1.40475871,\n",
       "        0.50766065, -0.83840918, -0.48238599, -3.19255663, -0.74786984])"
      ]
     },
     "execution_count": 12,
     "metadata": {},
     "output_type": "execute_result"
    }
   ],
   "source": [
    "res"
   ]
  },
  {
   "cell_type": "markdown",
   "metadata": {},
   "source": [
    "# VECTORIZE IT"
   ]
  },
  {
   "cell_type": "markdown",
   "metadata": {},
   "source": [
    "## Let's see the SIMPLE case (1 obs) and how we've done in our fun_RBF:\n",
    "- 1 observation: X = [1,3]\n",
    "- N = 2"
   ]
  },
  {
   "cell_type": "code",
   "execution_count": 851,
   "metadata": {},
   "outputs": [
    {
     "name": "stdout",
     "output_type": "stream",
     "text": [
      "(1, 2)\n"
     ]
    },
    {
     "data": {
      "text/plain": [
       "array([[1, 5]])"
      ]
     },
     "execution_count": 851,
     "metadata": {},
     "output_type": "execute_result"
    }
   ],
   "source": [
    "N = 2\n",
    "\n",
    "#X = np.array([1,3,1,3,1,3]).reshape(3,2)\n",
    "X = np.array([1,5]).reshape(1,2)\n",
    "omega = np.array([1, 2, 3, 2, 4, 1 ])\n",
    "omega\n",
    "#X = X.reshape(1,3,2)\n",
    "print(X.shape)\n",
    "X"
   ]
  },
  {
   "cell_type": "code",
   "execution_count": 852,
   "metadata": {},
   "outputs": [
    {
     "data": {
      "text/plain": [
       "array([[3, 2],\n",
       "       [4, 1]])"
      ]
     },
     "execution_count": 852,
     "metadata": {},
     "output_type": "execute_result"
    }
   ],
   "source": [
    "\n",
    "v = omega[0:N].reshape(N, 1)\n",
    "c = omega[N: ].reshape(N, n)\n",
    "c"
   ]
  },
  {
   "cell_type": "code",
   "execution_count": 853,
   "metadata": {},
   "outputs": [
    {
     "data": {
      "text/plain": [
       "array([[ 2, -3],\n",
       "       [ 3, -4]])"
      ]
     },
     "execution_count": 853,
     "metadata": {},
     "output_type": "execute_result"
    }
   ],
   "source": [
    "# 3-1, 2-3\n",
    "# 4-1, 1-3\n",
    "(c-X)"
   ]
  },
  {
   "cell_type": "code",
   "execution_count": 854,
   "metadata": {},
   "outputs": [
    {
     "data": {
      "text/plain": [
       "array([[ 4,  9],\n",
       "       [ 9, 16]])"
      ]
     },
     "execution_count": 854,
     "metadata": {},
     "output_type": "execute_result"
    }
   ],
   "source": [
    "mat = (c-X)*(c-X)\n",
    "mat"
   ]
  },
  {
   "cell_type": "code",
   "execution_count": 855,
   "metadata": {},
   "outputs": [
    {
     "data": {
      "text/plain": [
       "array([4, 9])"
      ]
     },
     "execution_count": 855,
     "metadata": {},
     "output_type": "execute_result"
    }
   ],
   "source": [
    "mat[:,0]"
   ]
  },
  {
   "cell_type": "code",
   "execution_count": 856,
   "metadata": {},
   "outputs": [
    {
     "data": {
      "text/plain": [
       "array([13, 25])"
      ]
     },
     "execution_count": 856,
     "metadata": {},
     "output_type": "execute_result"
    }
   ],
   "source": [
    "col = mat[:,0] + mat[:,1]\n",
    "col"
   ]
  },
  {
   "cell_type": "code",
   "execution_count": 857,
   "metadata": {},
   "outputs": [
    {
     "data": {
      "text/plain": [
       "array([2.26032941e-06, 1.38879439e-11])"
      ]
     },
     "execution_count": 857,
     "metadata": {},
     "output_type": "execute_result"
    }
   ],
   "source": [
    "np.exp(-col)"
   ]
  },
  {
   "cell_type": "code",
   "execution_count": 858,
   "metadata": {},
   "outputs": [
    {
     "data": {
      "text/plain": [
       "array([2.26032941e-06, 1.38879439e-11])"
      ]
     },
     "execution_count": 858,
     "metadata": {},
     "output_type": "execute_result"
    }
   ],
   "source": [
    "col = np.exp(-col/(sigma**2))\n",
    "col"
   ]
  },
  {
   "cell_type": "code",
   "execution_count": 859,
   "metadata": {},
   "outputs": [
    {
     "data": {
      "text/plain": [
       "array([2.26035718e-06])"
      ]
     },
     "execution_count": 859,
     "metadata": {},
     "output_type": "execute_result"
    }
   ],
   "source": [
    "np.dot(col,v)"
   ]
  },
  {
   "cell_type": "code",
   "execution_count": 860,
   "metadata": {},
   "outputs": [
    {
     "data": {
      "text/plain": [
       "array([2.26035718e-06])"
      ]
     },
     "execution_count": 860,
     "metadata": {},
     "output_type": "execute_result"
    }
   ],
   "source": [
    "fun_RBF(X, omega)"
   ]
  },
  {
   "cell_type": "markdown",
   "metadata": {},
   "source": [
    "#### ok. that's the result. Let's try to vectorize it\n",
    "- suppose three observations: \n",
    "X = \n",
    "    \n",
    "    [[1, 2],\n",
    "\n",
    "    [1, 4],\n",
    "    \n",
    "    [1, 5]]"
   ]
  },
  {
   "cell_type": "code",
   "execution_count": 861,
   "metadata": {},
   "outputs": [
    {
     "name": "stdout",
     "output_type": "stream",
     "text": [
      "(3, 2)\n"
     ]
    },
    {
     "data": {
      "text/plain": [
       "array([[1, 3],\n",
       "       [1, 4],\n",
       "       [1, 5]])"
      ]
     },
     "execution_count": 861,
     "metadata": {},
     "output_type": "execute_result"
    }
   ],
   "source": [
    "N = 2\n",
    "\n",
    "X = np.array([1,3,1,4,1,5]).reshape(3,2)\n",
    "#X = np.array([1,3]).reshape(1,2)\n",
    "omega = np.array([1, 2, 3, 2, 4, 1 ])\n",
    "omega\n",
    "#X = X.reshape(1,3,2)\n",
    "print(X.shape)\n",
    "X"
   ]
  },
  {
   "cell_type": "code",
   "execution_count": 862,
   "metadata": {},
   "outputs": [
    {
     "data": {
      "text/plain": [
       "(3, 2)"
      ]
     },
     "execution_count": 862,
     "metadata": {},
     "output_type": "execute_result"
    }
   ],
   "source": [
    "X.shape"
   ]
  },
  {
   "cell_type": "code",
   "execution_count": 863,
   "metadata": {},
   "outputs": [
    {
     "data": {
      "text/plain": [
       "array([[3, 2],\n",
       "       [4, 1]])"
      ]
     },
     "execution_count": 863,
     "metadata": {},
     "output_type": "execute_result"
    }
   ],
   "source": [
    "v = omega[0:N].reshape(N, 1)\n",
    "c = omega[N: ].reshape(N, n)\n",
    "c"
   ]
  },
  {
   "cell_type": "code",
   "execution_count": 864,
   "metadata": {},
   "outputs": [],
   "source": [
    "## let's concatenate all the matrices (c and x) and then \"slice\" them in one entire vector "
   ]
  },
  {
   "cell_type": "code",
   "execution_count": 865,
   "metadata": {},
   "outputs": [
    {
     "name": "stdout",
     "output_type": "stream",
     "text": [
      "(12,)\n"
     ]
    },
    {
     "data": {
      "text/plain": [
       "array([3, 2, 4, 1, 3, 2, 4, 1, 3, 2, 4, 1])"
      ]
     },
     "execution_count": 865,
     "metadata": {},
     "output_type": "execute_result"
    }
   ],
   "source": [
    "c_array = np.concatenate([c for _ in range(X.shape[0])]).reshape(-1)\n",
    "print(c_array.shape)\n",
    "c_array\n",
    "\n"
   ]
  },
  {
   "cell_type": "code",
   "execution_count": 866,
   "metadata": {},
   "outputs": [
    {
     "data": {
      "text/plain": [
       "array([1, 3, 1, 3, 1, 4, 1, 4, 1, 5, 1, 5])"
      ]
     },
     "execution_count": 866,
     "metadata": {},
     "output_type": "execute_result"
    }
   ],
   "source": [
    "X_array = np.tile(X,N).reshape(-1)\n",
    "X_array"
   ]
  },
  {
   "cell_type": "code",
   "execution_count": 870,
   "metadata": {},
   "outputs": [],
   "source": [
    "# now:\n",
    "# let's subtract the values of c_array and X_array\n",
    "# let's obtain 1 tensor of P(=3) NX2 matrices (matrix for each observation)\n",
    "# let's power the result in order compute later the norm "
   ]
  },
  {
   "cell_type": "code",
   "execution_count": 871,
   "metadata": {},
   "outputs": [
    {
     "name": "stdout",
     "output_type": "stream",
     "text": [
      "[[ 2 -1]\n",
      " [ 3 -2]]\n",
      "\n",
      "\n",
      "[[ 2 -2]\n",
      " [ 3 -3]]\n",
      "\n",
      "\n",
      "[[ 2 -3]\n",
      " [ 3 -4]]\n"
     ]
    }
   ],
   "source": [
    "print(c-np.array([1,3]).reshape(1,2))\n",
    "print('\\n')\n",
    "print(c-np.array([1,4]).reshape(1,2))\n",
    "print('\\n')\n",
    "print((c-np.array([1,5]).reshape(1,2)))"
   ]
  },
  {
   "cell_type": "code",
   "execution_count": 872,
   "metadata": {},
   "outputs": [
    {
     "data": {
      "text/plain": [
       "array([[[ 2, -1],\n",
       "        [ 3, -2]],\n",
       "\n",
       "       [[ 2, -2],\n",
       "        [ 3, -3]],\n",
       "\n",
       "       [[ 2, -3],\n",
       "        [ 3, -4]]])"
      ]
     },
     "execution_count": 872,
     "metadata": {},
     "output_type": "execute_result"
    }
   ],
   "source": [
    "(c_array-X_array).reshape(X.shape[0],N,2)"
   ]
  },
  {
   "cell_type": "code",
   "execution_count": 873,
   "metadata": {},
   "outputs": [
    {
     "name": "stdout",
     "output_type": "stream",
     "text": [
      "[[4 1]\n",
      " [9 4]]\n",
      "\n",
      "\n",
      "[[4 4]\n",
      " [9 9]]\n",
      "\n",
      "\n",
      "[[ 4  9]\n",
      " [ 9 16]]\n"
     ]
    }
   ],
   "source": [
    "print((c-np.array([1,3]).reshape(1,2))*(c-np.array([1,3]).reshape(1,2)))\n",
    "print('\\n')\n",
    "print((c-np.array([1,4]).reshape(1,2))*(c-np.array([1,4]).reshape(1,2)))\n",
    "print('\\n')\n",
    "print((c-np.array([1,5]).reshape(1,2))*(c-np.array([1,5]).reshape(1,2)))"
   ]
  },
  {
   "cell_type": "code",
   "execution_count": 880,
   "metadata": {},
   "outputs": [
    {
     "data": {
      "text/plain": [
       "array([[[ 4,  1],\n",
       "        [ 9,  4]],\n",
       "\n",
       "       [[ 4,  4],\n",
       "        [ 9,  9]],\n",
       "\n",
       "       [[ 4,  9],\n",
       "        [ 9, 16]]])"
      ]
     },
     "execution_count": 880,
     "metadata": {},
     "output_type": "execute_result"
    }
   ],
   "source": [
    "mat = ((c_array-X_array).reshape(X.shape[0],N,2))**2\n",
    "mat"
   ]
  },
  {
   "cell_type": "code",
   "execution_count": 881,
   "metadata": {},
   "outputs": [
    {
     "data": {
      "text/plain": [
       "array([[ 5, 13],\n",
       "       [ 8, 18],\n",
       "       [13, 25]])"
      ]
     },
     "execution_count": 881,
     "metadata": {},
     "output_type": "execute_result"
    }
   ],
   "source": [
    "# sum the values of each matrix\n",
    "col = mat[:,:,0] + mat[:,:,1]\n",
    "col"
   ]
  },
  {
   "cell_type": "code",
   "execution_count": 882,
   "metadata": {},
   "outputs": [
    {
     "data": {
      "text/plain": [
       "array([[6.73794700e-03, 2.26032941e-06],\n",
       "       [3.35462628e-04, 1.52299797e-08],\n",
       "       [2.26032941e-06, 1.38879439e-11]])"
      ]
     },
     "execution_count": 882,
     "metadata": {},
     "output_type": "execute_result"
    }
   ],
   "source": [
    "col = np.exp(-col/(sigma**2))\n",
    "col"
   ]
  },
  {
   "cell_type": "code",
   "execution_count": 883,
   "metadata": {},
   "outputs": [
    {
     "data": {
      "text/plain": [
       "array([[6.74246766e-03],\n",
       "       [3.35493088e-04],\n",
       "       [2.26035718e-06]])"
      ]
     },
     "execution_count": 883,
     "metadata": {},
     "output_type": "execute_result"
    }
   ],
   "source": [
    "np.dot(col, v)"
   ]
  },
  {
   "cell_type": "code",
   "execution_count": 884,
   "metadata": {},
   "outputs": [
    {
     "data": {
      "text/plain": [
       "array([[6.74246766e-03],\n",
       "       [3.35493088e-04],\n",
       "       [2.26035718e-06]])"
      ]
     },
     "execution_count": 884,
     "metadata": {},
     "output_type": "execute_result"
    }
   ],
   "source": [
    "# which is the right result\n",
    "np.apply_along_axis(fun_RBF, 1, X, omega)"
   ]
  },
  {
   "cell_type": "markdown",
   "metadata": {},
   "source": [
    "#### implementing now the function"
   ]
  },
  {
   "cell_type": "code",
   "execution_count": 885,
   "metadata": {},
   "outputs": [],
   "source": [
    "def fun_RBF_new(X, omega):\n",
    "    \n",
    "    v = omega[0:N].reshape(N, 1)\n",
    "    c = omega[N: ].reshape(N, n)\n",
    "\n",
    "    c_array = np.concatenate([c for _ in range(X.shape[0])]).reshape(-1)\n",
    "    X_array = np.tile(X, N).reshape(-1)\n",
    "\n",
    "    mat = ((c_array-X_array).reshape(X.shape[0],N,2))**2\n",
    "\n",
    "    col = mat[:,:,0] + mat[:,:,1]\n",
    "    col = np.exp(-col/(sigma**2))\n",
    "\n",
    "\n",
    "    return np.dot(col,v)"
   ]
  },
  {
   "cell_type": "code",
   "execution_count": 886,
   "metadata": {},
   "outputs": [],
   "source": [
    "N = 5\n",
    "X = np.array([1,2,3,4,5,6]).reshape(3,2)\n",
    "n = X.shape[1]\n",
    "omega = np.random.randn(N + N*n)"
   ]
  },
  {
   "cell_type": "code",
   "execution_count": 887,
   "metadata": {},
   "outputs": [
    {
     "data": {
      "text/plain": [
       "array([[-2.55452476e-01],\n",
       "       [-1.99922235e-06],\n",
       "       [-1.76150041e-18]])"
      ]
     },
     "execution_count": 887,
     "metadata": {},
     "output_type": "execute_result"
    }
   ],
   "source": [
    "np.apply_along_axis(fun_RBF, 1, X, omega)"
   ]
  },
  {
   "cell_type": "code",
   "execution_count": 888,
   "metadata": {},
   "outputs": [
    {
     "data": {
      "text/plain": [
       "array([[-2.55452476e-01],\n",
       "       [-1.99922235e-06],\n",
       "       [-1.76150041e-18]])"
      ]
     },
     "execution_count": 888,
     "metadata": {},
     "output_type": "execute_result"
    }
   ],
   "source": [
    "fun_RBF_new(X,omega)"
   ]
  },
  {
   "cell_type": "markdown",
   "metadata": {},
   "source": [
    "# ok, now try to minimize using the real dataset"
   ]
  },
  {
   "cell_type": "code",
   "execution_count": 895,
   "metadata": {},
   "outputs": [],
   "source": [
    "X = df[['x1', 'x2']].to_numpy()\n",
    "y_true = df[['y']].to_numpy().reshape(1,-1)\n",
    "\n",
    "#X_train, X_validation, X_test, y_train, y_validation, y_test = split_dataset(X, y_true)"
   ]
  },
  {
   "cell_type": "code",
   "execution_count": 903,
   "metadata": {},
   "outputs": [],
   "source": [
    "N = 10\n",
    "n = X.shape[1]\n",
    "omega = np.random.randn(N + N*n)\n",
    "\n",
    "sigma = 1\n",
    "rho = 0.00001"
   ]
  },
  {
   "cell_type": "code",
   "execution_count": 904,
   "metadata": {},
   "outputs": [],
   "source": [
    "def loss(omega, X, y_true):\n",
    "    y_pred = fun_RBF_new(X,omega).reshape(1,-1)\n",
    "    l = np.sum((y_pred - y_true)**2)/(2 * X.shape[0]) + rho * np.linalg.norm(omega)**2\n",
    "    return l"
   ]
  },
  {
   "cell_type": "code",
   "execution_count": 905,
   "metadata": {},
   "outputs": [
    {
     "data": {
      "text/plain": [
       "4.746801853179932"
      ]
     },
     "execution_count": 905,
     "metadata": {},
     "output_type": "execute_result"
    }
   ],
   "source": [
    "t1 = time()\n",
    "res = minimize(loss, omega, args=(X, y_true))\n",
    "t1 = time()-t1\n",
    "t1"
   ]
  },
  {
   "cell_type": "code",
   "execution_count": 906,
   "metadata": {},
   "outputs": [
    {
     "data": {
      "text/plain": [
       "      fun: 0.05663797072823392\n",
       " hess_inv: array([[ 3.80617553e+03, -5.45070481e+02, -5.72641172e+02,\n",
       "        -1.26623361e+03, -2.37226190e+02, -1.80102721e+02,\n",
       "         3.99386507e+03, -7.35532265e+02, -1.07572836e+03,\n",
       "        -1.09085488e+03,  6.47681870e+01, -1.09416310e+02,\n",
       "        -6.79595857e+01, -6.53598020e+01, -2.66140634e+01,\n",
       "         5.45780606e+01, -8.26176518e+01,  2.97739420e+02,\n",
       "         1.61287565e+02, -1.72982256e+02, -1.44830111e+01,\n",
       "        -2.88268193e+01, -1.08622251e+02, -2.25484612e+01,\n",
       "        -3.55123586e+01, -4.10794123e+00, -1.47827377e+02,\n",
       "         2.09243901e+02,  1.99406290e+02, -9.62731086e-01],\n",
       "       [-5.45070481e+02,  4.84262448e+03,  1.60586844e+03,\n",
       "        -3.75050608e+02, -2.31504613e+03, -3.38039028e+03,\n",
       "        -6.05519273e+02,  1.03165069e+03, -2.50015586e+01,\n",
       "         1.49515417e+03, -1.30469818e+02, -1.17791598e+02,\n",
       "        -4.25337870e+01,  1.14590374e+02,  7.00631919e+01,\n",
       "         5.44047804e+00, -1.38118084e+02,  6.58148291e+01,\n",
       "         4.44427074e+02, -1.51942487e+02,  2.16982598e+02,\n",
       "         7.20732364e+01, -1.15106881e+01,  1.66139310e+01,\n",
       "         6.28932872e+01,  2.90687971e+01, -5.91334972e+01,\n",
       "         4.92445052e+01, -1.89383216e+02, -1.35811813e+01],\n",
       "       [-5.72641172e+02,  1.60586844e+03,  1.99812300e+04,\n",
       "        -1.79817093e+03, -3.56411774e+03, -4.80805113e+02,\n",
       "         3.06542053e+03,  4.16325018e+02, -3.83948125e+02,\n",
       "        -2.29750845e+03, -1.78510131e+02, -1.72959054e+02,\n",
       "         8.30508740e+01,  7.45282244e+01,  1.01016435e+02,\n",
       "        -3.95785763e+02, -3.45677352e+02, -1.03670316e+02,\n",
       "         1.29288702e+03, -5.91967778e+02,  5.69438606e+01,\n",
       "         8.72658272e+01, -1.21007034e+02, -8.03830594e+00,\n",
       "         4.04007412e+01, -2.09007300e+01, -1.95089993e+02,\n",
       "        -2.85590195e+02, -7.08901965e+02,  1.70336136e+02],\n",
       "       [-1.26623361e+03, -3.75050608e+02, -1.79817093e+03,\n",
       "         2.22761930e+03, -2.30363651e+03,  3.49821671e+02,\n",
       "        -1.62726020e+03,  1.91426599e+03,  1.17236295e+03,\n",
       "         5.81039105e+02,  5.10860153e-01,  1.08001657e+02,\n",
       "         5.19288482e+00,  2.58238505e+01,  2.30014534e+01,\n",
       "        -1.12556480e+02,  5.76502311e+01,  1.16653279e+01,\n",
       "         3.89418023e+02, -4.59818886e+01, -2.13586809e+01,\n",
       "         1.44188200e+01,  6.03128883e+01, -2.37853152e+01,\n",
       "         6.92346079e+01, -3.17084751e+00,  8.28888993e+01,\n",
       "         1.18493657e+02,  2.07522794e+02, -3.66876648e+01],\n",
       "       [-2.37226190e+02, -2.31504613e+03, -3.56411774e+03,\n",
       "        -2.30363651e+03,  2.89075464e+04,  8.12078662e+02,\n",
       "        -6.62939668e+03, -3.26756838e+01,  1.43375385e+03,\n",
       "        -3.74244021e+03,  1.90705397e+02,  1.02108078e+02,\n",
       "        -6.74990344e+01, -1.84233919e+02, -8.08854543e+02,\n",
       "        -1.06266264e+02,  3.28516859e+02, -3.06363094e+02,\n",
       "        -3.05828990e+03,  4.93388198e+01, -4.95896390e+01,\n",
       "        -1.37130828e+02,  1.87790455e+02,  1.23145766e+02,\n",
       "        -1.56102370e+01,  1.29860161e+01,  1.52782239e+02,\n",
       "        -3.45425993e+02, -1.50902175e+03,  1.79826874e+02],\n",
       "       [-1.80102721e+02, -3.38039028e+03, -4.80805113e+02,\n",
       "         3.49821671e+02,  8.12078662e+02,  3.47468015e+03,\n",
       "         7.14401784e+02, -3.49376589e+02, -1.90414281e+02,\n",
       "        -5.74881831e+02,  1.46574249e+01, -1.25482103e+01,\n",
       "         1.75318534e+02,  2.05740599e-01,  2.14512435e+01,\n",
       "        -9.71587082e+00,  5.33282477e+01, -2.33377628e+01,\n",
       "         8.19360133e+00, -4.76431279e+01, -1.73906105e+02,\n",
       "        -9.29496864e+00, -1.87281874e+01,  8.72195812e+00,\n",
       "        -1.96624640e+01, -2.32132834e+01, -1.04138985e+01,\n",
       "         2.49381780e+01,  1.14829740e+02,  3.14737950e+01],\n",
       "       [ 3.99386507e+03, -6.05519273e+02,  3.06542053e+03,\n",
       "        -1.62726020e+03, -6.62939668e+03,  7.14401784e+02,\n",
       "         7.45106275e+03,  1.17569782e+03, -2.59333254e+03,\n",
       "        -1.25622260e+03, -1.32233747e+01, -2.22148084e+02,\n",
       "         4.82240709e+01,  3.28391691e+00,  1.53154863e+02,\n",
       "         1.40248779e+02, -3.43636411e+02,  3.51585038e+02,\n",
       "         8.26440640e+02, -1.75520991e+02, -3.20325140e+01,\n",
       "         2.66058508e+01, -2.28011836e+02, -1.89981177e+01,\n",
       "         4.77657109e+01, -1.56863684e+01, -1.29693140e+02,\n",
       "         1.61800360e+02,  1.96599243e+02,  5.89352821e+01],\n",
       "       [-7.35532265e+02,  1.03165069e+03,  4.16325018e+02,\n",
       "         1.91426599e+03, -3.26756838e+01, -3.49376589e+02,\n",
       "         1.17569782e+03,  1.47102837e+04, -1.17803930e+03,\n",
       "         7.58126551e+01, -3.56379828e+01, -6.41546092e+00,\n",
       "         3.93659281e+01,  7.96515550e+01, -1.38197810e+01,\n",
       "        -2.86718317e+01, -2.77564217e+01, -1.97623757e+01,\n",
       "         2.80680747e+02, -5.01486845e+01,  8.37785456e+01,\n",
       "         7.94106447e+01, -4.15726214e+01,  1.65810422e+01,\n",
       "         5.70762710e+02,  7.69662350e+00,  1.15953810e+01,\n",
       "         5.31758208e+01, -3.72383528e+01,  2.96574029e+00],\n",
       "       [-1.07572836e+03, -2.50015586e+01, -3.83948125e+02,\n",
       "         1.17236295e+03,  1.43375385e+03, -1.90414281e+02,\n",
       "        -2.59333254e+03, -1.17803930e+03,  1.61694803e+03,\n",
       "         3.33036658e+02,  1.24443549e+01,  9.60003240e+01,\n",
       "        -3.30379378e+01, -6.84165033e+00, -7.84149873e+01,\n",
       "        -1.67694342e+02,  2.11400015e+01, -1.33809071e+01,\n",
       "         4.58689768e+00, -8.01736885e+01, -4.28019829e+00,\n",
       "        -1.17976144e+01,  8.35203075e+01, -7.07777098e+00,\n",
       "        -4.94975720e+01,  2.77434456e+00,  1.30323140e+02,\n",
       "         2.91342512e+01, -8.26546672e+01, -1.85201505e+01],\n",
       "       [-1.09085488e+03,  1.49515417e+03, -2.29750845e+03,\n",
       "         5.81039105e+02, -3.74244021e+03, -5.74881831e+02,\n",
       "        -1.25622260e+03,  7.58126551e+01,  3.33036658e+02,\n",
       "         1.91742632e+04, -9.28303739e+01, -3.21324063e+01,\n",
       "         2.97968674e+01,  6.75040980e+01,  4.49812861e+02,\n",
       "         6.69776505e+01,  3.42954250e+01,  1.12078731e+02,\n",
       "         8.23885984e+02, -2.73759580e+02,  3.75356517e+01,\n",
       "         1.84221655e+01,  2.17882045e+01,  4.18344538e+01,\n",
       "        -1.91285890e+00,  2.51253036e+01, -1.13724837e+01,\n",
       "        -5.17999576e+01,  7.95389473e+02, -9.19144495e+02],\n",
       "       [ 6.47681870e+01, -1.30469818e+02, -1.78510131e+02,\n",
       "         5.10860153e-01,  1.90705397e+02,  1.46574249e+01,\n",
       "        -1.32233747e+01, -3.56379828e+01,  1.24443549e+01,\n",
       "        -9.28303739e+01,  1.14501983e+01,  9.49357740e+00,\n",
       "        -8.39663453e+00, -8.73327230e+00, -1.07208701e+01,\n",
       "        -4.56896365e-01,  8.78931691e+00, -1.09669237e+00,\n",
       "        -5.59049061e+01,  2.54649394e+01, -3.45682073e+00,\n",
       "        -5.27851891e+00,  2.89796373e+00, -7.40735626e-01,\n",
       "        -2.57634079e+00,  3.40581956e-01,  1.05249076e+01,\n",
       "        -4.65715389e+00,  2.40690626e+00, -4.92092490e-01],\n",
       "       [-1.09416310e+02, -1.17791598e+02, -1.72959054e+02,\n",
       "         1.08001657e+02,  1.02108078e+02, -1.25482103e+01,\n",
       "        -2.22148084e+02, -6.41546092e+00,  9.60003240e+01,\n",
       "        -3.21324063e+01,  9.49357740e+00,  2.19463013e+01,\n",
       "        -1.18367014e+01, -7.07603694e+00, -6.21078058e+00,\n",
       "        -1.60735071e+00,  1.32965989e+01, -1.40043115e+01,\n",
       "        -3.88500791e+01,  2.51233231e+01, -3.38372940e+00,\n",
       "        -4.16953959e+00,  9.33382682e+00, -2.78198594e+00,\n",
       "        -1.53315225e+00, -5.01341484e-01,  1.61859361e+01,\n",
       "        -1.15612581e+01,  6.13617140e+00, -2.73314931e+00],\n",
       "       [-6.79595857e+01, -4.25337870e+01,  8.30508740e+01,\n",
       "         5.19288482e+00, -6.74990344e+01,  1.75318534e+02,\n",
       "         4.82240709e+01,  3.93659281e+01, -3.30379378e+01,\n",
       "         2.97968674e+01, -8.39663453e+00, -1.18367014e+01,\n",
       "         2.01759269e+01,  9.19139236e+00,  6.52599064e+00,\n",
       "        -2.80940694e-01, -6.19714923e+00,  1.63173634e+00,\n",
       "         3.32816732e+01, -1.70102676e+01, -4.07095145e+00,\n",
       "         4.85499034e+00, -3.30932726e+00,  2.70497332e+00,\n",
       "         2.82513911e+00, -2.18101592e-01, -5.47316023e+00,\n",
       "         5.73911879e+00, -3.09212212e+00,  3.19522843e+00],\n",
       "       [-6.53598020e+01,  1.14590374e+02,  7.45282244e+01,\n",
       "         2.58238505e+01, -1.84233919e+02,  2.05740599e-01,\n",
       "         3.28391691e+00,  7.96515550e+01, -6.84165033e+00,\n",
       "         6.75040980e+01, -8.73327230e+00, -7.07603694e+00,\n",
       "         9.19139236e+00,  1.15019491e+01,  9.20590305e+00,\n",
       "         1.09128191e+00, -8.08638769e+00,  5.73173897e+00,\n",
       "         5.27317556e+01, -1.89070731e+01,  3.36377235e+00,\n",
       "         7.05803024e+00, -1.80353330e+00,  5.91771832e-01,\n",
       "         4.75739805e+00, -6.24736605e-01, -3.58071909e+00,\n",
       "         8.20420241e+00, -1.86082757e-01,  9.52977485e-01],\n",
       "       [-2.66140634e+01,  7.00631919e+01,  1.01016435e+02,\n",
       "         2.30014534e+01, -8.08854543e+02,  2.14512435e+01,\n",
       "         1.53154863e+02, -1.38197810e+01, -7.84149873e+01,\n",
       "         4.49812861e+02, -1.07208701e+01, -6.21078058e+00,\n",
       "         6.52599064e+00,  9.20590305e+00,  8.69552999e+01,\n",
       "         1.73328287e+01, -2.22264939e+01,  1.29461569e+01,\n",
       "         2.03139712e+02, -7.20923857e+01, -9.93520518e-01,\n",
       "         4.89538966e+00, -3.79212191e+00, -6.28022784e+00,\n",
       "        -7.85407291e-01,  1.45708538e-01,  3.36653869e+00,\n",
       "         1.89602083e+00,  1.79428445e+02, -1.73222258e+01],\n",
       "       [ 5.45780606e+01,  5.44047804e+00, -3.95785763e+02,\n",
       "        -1.12556480e+02, -1.06266264e+02, -9.71587082e+00,\n",
       "         1.40248779e+02, -2.86718317e+01, -1.67694342e+02,\n",
       "         6.69776505e+01, -4.56896365e-01, -1.60735071e+00,\n",
       "        -2.80940694e-01,  1.09128191e+00,  1.73328287e+01,\n",
       "         4.86362645e+01, -1.19310927e+01,  1.69023903e+00,\n",
       "         2.26385067e+01, -6.30015749e+00,  6.26339682e-01,\n",
       "         1.40949242e+00, -4.00166583e+00, -9.90949331e-01,\n",
       "        -6.10751601e-01, -6.43329856e-01, -3.76432346e+00,\n",
       "        -9.90871329e+00,  2.09994978e+01, -2.74730742e+00],\n",
       "       [-8.26176518e+01, -1.38118084e+02, -3.45677352e+02,\n",
       "         5.76502311e+01,  3.28516859e+02,  5.33282477e+01,\n",
       "        -3.43636411e+02, -2.77564217e+01,  2.11400015e+01,\n",
       "         3.42954250e+01,  8.78931691e+00,  1.32965989e+01,\n",
       "        -6.19714923e+00, -8.08638769e+00, -2.22264939e+01,\n",
       "        -1.19310927e+01,  4.59780650e+02, -1.38300833e+02,\n",
       "        -1.38757846e+02,  8.06153479e+01, -5.34372616e+00,\n",
       "        -8.13929217e+00,  1.35329086e+01, -1.05644024e+00,\n",
       "        -2.77536333e+00,  8.06968864e-01, -4.13265716e+02,\n",
       "         1.09458310e+02,  1.03665088e+00, -8.73880095e+00],\n",
       "       [ 2.97739420e+02,  6.58148291e+01, -1.03670316e+02,\n",
       "         1.16653279e+01, -3.06363094e+02, -2.33377628e+01,\n",
       "         3.51585038e+02, -1.97623757e+01, -1.33809071e+01,\n",
       "         1.12078731e+02, -1.09669237e+00, -1.40043115e+01,\n",
       "         1.63173634e+00,  5.73173897e+00,  1.29461569e+01,\n",
       "         1.69023903e+00, -1.38300833e+02,  1.25746122e+02,\n",
       "         1.17996462e+02, -6.75163596e+01,  1.40191292e+00,\n",
       "         4.06567390e+00, -9.99262574e+00, -3.70541222e+00,\n",
       "        -9.72978271e-02, -5.37055159e-01,  1.05536483e+02,\n",
       "        -3.54468896e+01,  3.93773349e+01, -8.27443250e+00],\n",
       "       [ 1.61287565e+02,  4.44427074e+02,  1.29288702e+03,\n",
       "         3.89418023e+02, -3.05828990e+03,  8.19360133e+00,\n",
       "         8.26440640e+02,  2.80680747e+02,  4.58689768e+00,\n",
       "         8.23885984e+02, -5.59049061e+01, -3.88500791e+01,\n",
       "         3.32816732e+01,  5.27317556e+01,  2.03139712e+02,\n",
       "         2.26385067e+01, -1.38757846e+02,  1.17996462e+02,\n",
       "         1.02317351e+03, -4.28219239e+02,  5.46972933e+00,\n",
       "         4.02569398e+01, -2.29088214e+01, -2.94438092e+01,\n",
       "         1.54112380e+01, -6.23999006e+00, -4.51260029e+01,\n",
       "         9.44626561e+01,  3.71899972e+02, -3.55376504e+01],\n",
       "       [-1.72982256e+02, -1.51942487e+02, -5.91967778e+02,\n",
       "        -4.59818886e+01,  4.93388198e+01, -4.76431279e+01,\n",
       "        -1.75520991e+02, -5.01486845e+01, -8.01736885e+01,\n",
       "        -2.73759580e+02,  2.54649394e+01,  2.51233231e+01,\n",
       "        -1.70102676e+01, -1.89070731e+01, -7.20923857e+01,\n",
       "        -6.30015749e+00,  8.06153479e+01, -6.75163596e+01,\n",
       "        -4.28219239e+02,  2.77458336e+02, -6.96062482e-01,\n",
       "        -1.41762672e+01,  6.43814951e+00,  8.52326722e+00,\n",
       "        -3.81432046e+00,  2.54650582e+00,  1.88505055e+01,\n",
       "        -3.55127685e+01, -1.29502529e+02,  7.92412166e+00],\n",
       "       [-1.44830111e+01,  2.16982598e+02,  5.69438606e+01,\n",
       "        -2.13586809e+01, -4.95896390e+01, -1.73906105e+02,\n",
       "        -3.20325140e+01,  8.37785456e+01, -4.28019829e+00,\n",
       "         3.75356517e+01, -3.45682073e+00, -3.38372940e+00,\n",
       "        -4.07095145e+00,  3.36377235e+00, -9.93520518e-01,\n",
       "         6.26339682e-01, -5.34372616e+00,  1.40191292e+00,\n",
       "         5.46972933e+00, -6.96062482e-01,  1.16576020e+01,\n",
       "         2.75039680e+00,  2.17744120e-01,  7.30152467e-01,\n",
       "         4.59467400e+00,  2.44525904e+00, -1.13172919e+00,\n",
       "        -2.52418262e-01, -1.13503319e+01, -5.91299273e-01],\n",
       "       [-2.88268193e+01,  7.20732364e+01,  8.72658272e+01,\n",
       "         1.44188200e+01, -1.37130828e+02, -9.29496864e+00,\n",
       "         2.66058508e+01,  7.94106447e+01, -1.17976144e+01,\n",
       "         1.84221655e+01, -5.27851891e+00, -4.16953959e+00,\n",
       "         4.85499034e+00,  7.05803024e+00,  4.89538966e+00,\n",
       "         1.40949242e+00, -8.13929217e+00,  4.06567390e+00,\n",
       "         4.02569398e+01, -1.41762672e+01,  2.75039680e+00,\n",
       "         5.53219944e+00, -1.60685911e+00, -3.44833294e-01,\n",
       "         4.55001476e+00, -9.25354094e-01, -3.05712878e+00,\n",
       "         4.08360064e+00,  1.13658727e+00,  5.71509501e-01],\n",
       "       [-1.08622251e+02, -1.15106881e+01, -1.21007034e+02,\n",
       "         6.03128883e+01,  1.87790455e+02, -1.87281874e+01,\n",
       "        -2.28011836e+02, -4.15726214e+01,  8.35203075e+01,\n",
       "         2.17882045e+01,  2.89796373e+00,  9.33382682e+00,\n",
       "        -3.30932726e+00, -1.80353330e+00, -3.79212191e+00,\n",
       "        -4.00166583e+00,  1.35329086e+01, -9.99262574e+00,\n",
       "        -2.29088214e+01,  6.43814951e+00,  2.17744120e-01,\n",
       "        -1.60685911e+00,  1.10046649e+01, -5.48792917e+00,\n",
       "        -1.94751640e+00,  5.29823422e-01,  3.67687195e+00,\n",
       "        -5.28043757e+00,  1.58663317e+01, -1.28777352e+01],\n",
       "       [-2.25484612e+01,  1.66139310e+01, -8.03830594e+00,\n",
       "        -2.37853152e+01,  1.23145766e+02,  8.72195812e+00,\n",
       "        -1.89981177e+01,  1.65810422e+01, -7.07777098e+00,\n",
       "         4.18344538e+01, -7.40735626e-01, -2.78198594e+00,\n",
       "         2.70497332e+00,  5.91771832e-01, -6.28022784e+00,\n",
       "        -9.90949331e-01, -1.05644024e+00, -3.70541222e+00,\n",
       "        -2.94438092e+01,  8.52326722e+00,  7.30152467e-01,\n",
       "        -3.44833294e-01, -5.48792917e+00,  1.55494870e+01,\n",
       "         6.22889132e-01,  1.04625850e+00,  4.00300566e+00,\n",
       "        -2.47526448e+00, -4.24631169e+01,  1.84721689e+01],\n",
       "       [-3.55123586e+01,  6.28932872e+01,  4.04007412e+01,\n",
       "         6.92346079e+01, -1.56102370e+01, -1.96624640e+01,\n",
       "         4.77657109e+01,  5.70762710e+02, -4.94975720e+01,\n",
       "        -1.91285890e+00, -2.57634079e+00, -1.53315225e+00,\n",
       "         2.82513911e+00,  4.75739805e+00, -7.85407291e-01,\n",
       "        -6.10751601e-01, -2.77536333e+00, -9.72978271e-02,\n",
       "         1.54112380e+01, -3.81432046e+00,  4.59467400e+00,\n",
       "         4.55001476e+00, -1.94751640e+00,  6.22889132e-01,\n",
       "         2.45597572e+01, -2.70218901e+00, -7.23852348e-01,\n",
       "         2.02366220e+00, -4.38108777e+00,  6.91711060e-01],\n",
       "       [-4.10794123e+00,  2.90687971e+01, -2.09007300e+01,\n",
       "        -3.17084751e+00,  1.29860161e+01, -2.32132834e+01,\n",
       "        -1.56863684e+01,  7.69662350e+00,  2.77434456e+00,\n",
       "         2.51253036e+01,  3.40581956e-01, -5.01341484e-01,\n",
       "        -2.18101592e-01, -6.24736605e-01,  1.45708538e-01,\n",
       "        -6.43329856e-01,  8.06968864e-01, -5.37055159e-01,\n",
       "        -6.23999006e+00,  2.54650582e+00,  2.44525904e+00,\n",
       "        -9.25354094e-01,  5.29823422e-01,  1.04625850e+00,\n",
       "        -2.70218901e+00,  1.12393934e+01,  1.34269795e+00,\n",
       "        -3.78721251e-01,  2.18307045e-01, -6.95243551e-01],\n",
       "       [-1.47827377e+02, -5.91334972e+01, -1.95089993e+02,\n",
       "         8.28888993e+01,  1.52782239e+02, -1.04138985e+01,\n",
       "        -1.29693140e+02,  1.15953810e+01,  1.30323140e+02,\n",
       "        -1.13724837e+01,  1.05249076e+01,  1.61859361e+01,\n",
       "        -5.47316023e+00, -3.58071909e+00,  3.36653869e+00,\n",
       "        -3.76432346e+00, -4.13265716e+02,  1.05536483e+02,\n",
       "        -4.51260029e+01,  1.88505055e+01, -1.13172919e+00,\n",
       "        -3.05712878e+00,  3.67687195e+00,  4.00300566e+00,\n",
       "        -7.23852348e-01,  1.34269795e+00,  4.52672887e+02,\n",
       "        -1.28443640e+02, -1.49000373e+01,  6.51454382e+00],\n",
       "       [ 2.09243901e+02,  4.92445052e+01, -2.85590195e+02,\n",
       "         1.18493657e+02, -3.45425993e+02,  2.49381780e+01,\n",
       "         1.61800360e+02,  5.31758208e+01,  2.91342512e+01,\n",
       "        -5.17999576e+01, -4.65715389e+00, -1.15612581e+01,\n",
       "         5.73911879e+00,  8.20420241e+00,  1.89602083e+00,\n",
       "        -9.90871329e+00,  1.09458310e+02, -3.54468896e+01,\n",
       "         9.44626561e+01, -3.55127685e+01, -2.52418262e-01,\n",
       "         4.08360064e+00, -5.28043757e+00, -2.47526448e+00,\n",
       "         2.02366220e+00, -3.78721251e-01, -1.28443640e+02,\n",
       "         1.27737488e+02,  2.68078433e+01,  3.35967904e+00],\n",
       "       [ 1.99406290e+02, -1.89383216e+02, -7.08901965e+02,\n",
       "         2.07522794e+02, -1.50902175e+03,  1.14829740e+02,\n",
       "         1.96599243e+02, -3.72383528e+01, -8.26546672e+01,\n",
       "         7.95389473e+02,  2.40690626e+00,  6.13617140e+00,\n",
       "        -3.09212212e+00, -1.86082757e-01,  1.79428445e+02,\n",
       "         2.09994978e+01,  1.03665088e+00,  3.93773349e+01,\n",
       "         3.71899972e+02, -1.29502529e+02, -1.13503319e+01,\n",
       "         1.13658727e+00,  1.58663317e+01, -4.24631169e+01,\n",
       "        -4.38108777e+00,  2.18307045e-01, -1.49000373e+01,\n",
       "         2.68078433e+01,  7.63466312e+02, -1.25639470e+02],\n",
       "       [-9.62731086e-01, -1.35811813e+01,  1.70336136e+02,\n",
       "        -3.66876648e+01,  1.79826874e+02,  3.14737950e+01,\n",
       "         5.89352821e+01,  2.96574029e+00, -1.85201505e+01,\n",
       "        -9.19144495e+02, -4.92092490e-01, -2.73314931e+00,\n",
       "         3.19522843e+00,  9.52977485e-01, -1.73222258e+01,\n",
       "        -2.74730742e+00, -8.73880095e+00, -8.27443250e+00,\n",
       "        -3.55376504e+01,  7.92412166e+00, -5.91299273e-01,\n",
       "         5.71509501e-01, -1.28777352e+01,  1.84721689e+01,\n",
       "         6.91711060e-01, -6.95243551e-01,  6.51454382e+00,\n",
       "         3.35967904e+00, -1.25639470e+02,  9.49852357e+01]])\n",
       "      jac: array([-6.25383109e-06,  3.29222530e-07, -8.20029527e-07,  1.87195837e-06,\n",
       "        1.69035047e-06, -1.90362334e-06,  6.61006197e-06, -9.44361091e-07,\n",
       "        1.82772055e-06,  5.07570803e-08,  2.59699300e-06,  5.45149669e-06,\n",
       "       -2.74227932e-06, -6.40284270e-07,  4.25614417e-07, -7.18049705e-06,\n",
       "       -1.21211633e-06, -6.65895641e-08,  8.72649252e-07,  6.10016286e-07,\n",
       "        2.10711733e-06, -3.81888822e-06, -2.67894939e-06, -8.98726285e-07,\n",
       "       -8.50297511e-07, -8.94535333e-07, -3.14181671e-06,  2.01165676e-07,\n",
       "        2.05915421e-06, -4.34461981e-07])\n",
       "  message: 'Optimization terminated successfully.'\n",
       "     nfev: 17440\n",
       "      nit: 527\n",
       "     njev: 545\n",
       "   status: 0\n",
       "  success: True\n",
       "        x: array([ 6.28458518, -5.98604524, 10.9531639 , -3.79798223,  5.60514708,\n",
       "        5.38658203, 12.509515  , 11.64799083, -3.80015153,  6.71675666,\n",
       "       -0.54921565, -0.32642354,  0.14589417,  0.26263395, -0.66360847,\n",
       "       -1.93442992, -0.35822828, -1.0210349 ,  0.44350247, -2.2298113 ,\n",
       "        0.65810735,  0.2652698 , -3.21665971, -0.43692553,  3.01197207,\n",
       "        0.96178955, -0.36034503, -1.02045822, -2.10501987, -2.15973168])"
      ]
     },
     "execution_count": 906,
     "metadata": {},
     "output_type": "execute_result"
    }
   ],
   "source": [
    "res"
   ]
  },
  {
   "cell_type": "code",
   "execution_count": null,
   "metadata": {},
   "outputs": [],
   "source": []
  }
 ],
 "metadata": {
  "kernelspec": {
   "display_name": "Python 3",
   "language": "python",
   "name": "python3"
  },
  "language_info": {
   "codemirror_mode": {
    "name": "ipython",
    "version": 3
   },
   "file_extension": ".py",
   "mimetype": "text/x-python",
   "name": "python",
   "nbconvert_exporter": "python",
   "pygments_lexer": "ipython3",
   "version": "3.7.3"
  }
 },
 "nbformat": 4,
 "nbformat_minor": 2
}
