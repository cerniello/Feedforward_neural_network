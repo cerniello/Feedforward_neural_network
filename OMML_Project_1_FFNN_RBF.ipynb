{
 "cells": [
  {
   "cell_type": "code",
   "execution_count": 1,
   "metadata": {},
   "outputs": [],
   "source": [
    "import pandas as pd\n",
    "import numpy as np"
   ]
  },
  {
   "cell_type": "code",
   "execution_count": 2,
   "metadata": {},
   "outputs": [
    {
     "data": {
      "text/html": [
       "<div>\n",
       "<style scoped>\n",
       "    .dataframe tbody tr th:only-of-type {\n",
       "        vertical-align: middle;\n",
       "    }\n",
       "\n",
       "    .dataframe tbody tr th {\n",
       "        vertical-align: top;\n",
       "    }\n",
       "\n",
       "    .dataframe thead th {\n",
       "        text-align: right;\n",
       "    }\n",
       "</style>\n",
       "<table border=\"1\" class=\"dataframe\">\n",
       "  <thead>\n",
       "    <tr style=\"text-align: right;\">\n",
       "      <th></th>\n",
       "      <th>x1</th>\n",
       "      <th>x2</th>\n",
       "      <th>y</th>\n",
       "    </tr>\n",
       "  </thead>\n",
       "  <tbody>\n",
       "    <tr>\n",
       "      <td>0</td>\n",
       "      <td>-1.262271</td>\n",
       "      <td>0.746859</td>\n",
       "      <td>0.461002</td>\n",
       "    </tr>\n",
       "    <tr>\n",
       "      <td>1</td>\n",
       "      <td>-0.804355</td>\n",
       "      <td>0.937081</td>\n",
       "      <td>0.617336</td>\n",
       "    </tr>\n",
       "    <tr>\n",
       "      <td>2</td>\n",
       "      <td>-1.805674</td>\n",
       "      <td>0.738389</td>\n",
       "      <td>-0.053984</td>\n",
       "    </tr>\n",
       "    <tr>\n",
       "      <td>3</td>\n",
       "      <td>-0.888805</td>\n",
       "      <td>0.061711</td>\n",
       "      <td>1.943678</td>\n",
       "    </tr>\n",
       "    <tr>\n",
       "      <td>4</td>\n",
       "      <td>-1.667562</td>\n",
       "      <td>-0.534543</td>\n",
       "      <td>2.127070</td>\n",
       "    </tr>\n",
       "  </tbody>\n",
       "</table>\n",
       "</div>"
      ],
      "text/plain": [
       "         x1        x2         y\n",
       "0 -1.262271  0.746859  0.461002\n",
       "1 -0.804355  0.937081  0.617336\n",
       "2 -1.805674  0.738389 -0.053984\n",
       "3 -0.888805  0.061711  1.943678\n",
       "4 -1.667562 -0.534543  2.127070"
      ]
     },
     "execution_count": 2,
     "metadata": {},
     "output_type": "execute_result"
    }
   ],
   "source": [
    "file = pd.ExcelFile('dataPoints.xlsx')\n",
    "df = file.parse('Foglio1')\n",
    "df.head()"
   ]
  },
  {
   "cell_type": "code",
   "execution_count": 3,
   "metadata": {},
   "outputs": [],
   "source": [
    "from sklearn.model_selection import train_test_split\n",
    "\n",
    "# split in target and test set\n",
    "def split_dataset(X, y):\n",
    "    X_target, X_test, y_target, y_test = train_test_split(X, y_true.reshape(-1,1), test_size=0.15)\n",
    "    X_train, X_validation, y_train, y_validation = train_test_split(X_target, y_target, test_size=0.17647)\n",
    "    \n",
    "    y_train = y_train.reshape(1,-1)\n",
    "    y_validation = y_validation.reshape(1,-1)\n",
    "    y_test = y_test.reshape(1,-1)\n",
    "    \n",
    "    return X_train, X_validation, X_test, y_train, y_validation, y_test"
   ]
  },
  {
   "cell_type": "code",
   "execution_count": 4,
   "metadata": {},
   "outputs": [],
   "source": [
    "X = df[['x1', 'x2']].to_numpy()\n",
    "y_true = df[['y']].to_numpy().reshape(1,-1)\n",
    "\n",
    "#X_train, X_validation, X_test, y_train, y_validation, y_test = split_dataset(X, y_true)"
   ]
  },
  {
   "cell_type": "code",
   "execution_count": 5,
   "metadata": {},
   "outputs": [],
   "source": [
    "def fun_RBF(X, omega):\n",
    "    \n",
    "    v = omega[0:N].reshape(N, 1)\n",
    "    c = omega[N: ].reshape(N, n)\n",
    "    \n",
    "    mat = (c-X)*(c-X)\n",
    "    col = mat[:,0] + mat[:,1]\n",
    "    col = np.exp(-col/(sigma**2))\n",
    "\n",
    "    return np.dot(col, v)"
   ]
  },
  {
   "cell_type": "code",
   "execution_count": null,
   "metadata": {},
   "outputs": [],
   "source": []
  },
  {
   "cell_type": "code",
   "execution_count": 6,
   "metadata": {},
   "outputs": [],
   "source": [
    "N = 5\n",
    "n = X.shape[1]\n",
    "omega = np.random.randn(N + N*n)\n",
    "\n",
    "sigma = 1\n",
    "rho = 0.00001"
   ]
  },
  {
   "cell_type": "code",
   "execution_count": 7,
   "metadata": {},
   "outputs": [],
   "source": [
    "#np.apply_along_axis(fun_RBF, 1, X, omega)"
   ]
  },
  {
   "cell_type": "code",
   "execution_count": 8,
   "metadata": {},
   "outputs": [],
   "source": [
    "def loss(omega, X, y_true):\n",
    "    y_pred = np.apply_along_axis(fun_RBF, 1, X, omega).reshape(1,-1)\n",
    "    l = np.sum((y_pred - y_true)**2)/(2 * X.shape[0]) + rho * np.linalg.norm(omega)**2\n",
    "    return l"
   ]
  },
  {
   "cell_type": "code",
   "execution_count": 9,
   "metadata": {},
   "outputs": [
    {
     "data": {
      "text/plain": [
       "1.4022735109601343"
      ]
     },
     "execution_count": 9,
     "metadata": {},
     "output_type": "execute_result"
    }
   ],
   "source": [
    "loss(omega, X, y_true)"
   ]
  },
  {
   "cell_type": "code",
   "execution_count": 10,
   "metadata": {},
   "outputs": [],
   "source": [
    "from scipy.optimize import minimize\n",
    "from time import time \n",
    "\n",
    "t1 = time()\n",
    "res = minimize(loss, omega, args=(X, y_true))\n",
    "t1 = time()-t1"
   ]
  },
  {
   "cell_type": "code",
   "execution_count": 11,
   "metadata": {},
   "outputs": [
    {
     "data": {
      "text/plain": [
       "29.773724794387817"
      ]
     },
     "execution_count": 11,
     "metadata": {},
     "output_type": "execute_result"
    }
   ],
   "source": [
    "t1"
   ]
  },
  {
   "cell_type": "code",
   "execution_count": 12,
   "metadata": {},
   "outputs": [
    {
     "data": {
      "text/plain": [
       "      fun: 0.13246949440292322\n",
       " hess_inv: array([[ 4.57836108e+03, -6.99822238e+02,  3.90624439e+00,\n",
       "         1.95553757e+02, -4.41909701e+03, -1.70740487e+02,\n",
       "        -3.57845428e+01,  5.90047460e+01,  1.36169030e+01,\n",
       "        -4.08521140e-01, -6.91222375e-01, -2.18491207e+01,\n",
       "         1.45018861e+00,  1.48111119e+02,  1.92973647e+01],\n",
       "       [-6.99822238e+02,  9.29336400e+03,  1.05812536e+00,\n",
       "        -3.78129431e+03, -4.75962964e+03, -4.94625519e+01,\n",
       "        -1.03031950e+02,  1.68668908e+01, -8.75260593e+01,\n",
       "         1.62765469e+01,  7.63754529e-01,  1.87764416e+02,\n",
       "         7.86468061e+01, -2.40085676e+02, -1.14668702e+02],\n",
       "       [ 3.90624439e+00,  1.05812536e+00,  1.56920088e+01,\n",
       "        -1.07578697e-01, -3.61558372e+00,  4.20183181e-01,\n",
       "        -3.02245937e-01,  2.28128831e-01, -1.72544458e-01,\n",
       "        -2.26670673e+00, -2.48709967e+00,  1.40572057e-01,\n",
       "        -7.54115988e-03,  3.40600207e-01, -2.04323856e-01],\n",
       "       [ 1.95553757e+02, -3.78129431e+03, -1.07578697e-01,\n",
       "         1.47714501e+04,  6.67624204e+02,  4.82969107e+01,\n",
       "         1.29316565e+02,  2.43200182e+02,  1.05580020e+02,\n",
       "        -2.02547947e+01,  3.75795899e-01,  2.53051611e+02,\n",
       "        -3.21338920e+01,  1.03516731e+02,  1.07400371e+02],\n",
       "       [-4.41909701e+03, -4.75962964e+03, -3.61558372e+00,\n",
       "         6.67624204e+02,  9.37710805e+03,  2.21665747e+02,\n",
       "         8.61870349e+01, -2.65522577e+02, -1.87185532e+01,\n",
       "        -1.00493294e+01, -6.54509549e-01, -2.64242569e+00,\n",
       "        -2.78161165e+01,  3.35949718e+01,  3.95840920e+01],\n",
       "       [-1.70740487e+02, -4.94625519e+01,  4.20183181e-01,\n",
       "         4.82969107e+01,  2.21665747e+02,  9.36808327e+00,\n",
       "         2.03957673e+00, -1.93088121e+00, -2.76142901e-01,\n",
       "        -1.07402743e+00, -3.52020490e-01,  1.41312791e+00,\n",
       "        -5.83861900e-01, -2.14837069e+00,  4.10494361e-02],\n",
       "       [-3.57845428e+01, -1.03031950e+02, -3.02245937e-01,\n",
       "         1.29316565e+02,  8.61870349e+01,  2.03957673e+00,\n",
       "         2.59984927e+01,  1.00978137e+00,  2.01278058e+01,\n",
       "        -3.01218760e+00,  4.21164294e-01, -1.69908732e+00,\n",
       "         9.66110904e+00,  4.72873340e-01,  1.97167318e+01],\n",
       "       [ 5.90047460e+01,  1.68668908e+01,  2.28128831e-01,\n",
       "         2.43200182e+02, -2.65522577e+02, -1.93088121e+00,\n",
       "         1.00978137e+00,  2.30838015e+01,  4.93001958e+00,\n",
       "        -4.86074572e-01, -9.35068995e-02, -3.94850445e+00,\n",
       "        -2.92110765e+00, -2.20599494e+00,  8.70330119e-01],\n",
       "       [ 1.36169031e+01, -8.75260593e+01, -1.72544458e-01,\n",
       "         1.05580020e+02, -1.87185532e+01, -2.76142901e-01,\n",
       "         2.01278058e+01,  4.93001958e+00,  2.23744541e+01,\n",
       "        -2.24264678e+00,  2.71910008e-01, -6.20564557e+00,\n",
       "         1.42012197e+01,  1.94518753e-01,  1.72509351e+01],\n",
       "       [-4.08521140e-01,  1.62765469e+01, -2.26670673e+00,\n",
       "        -2.02547947e+01, -1.00493294e+01, -1.07402743e+00,\n",
       "        -3.01218760e+00, -4.86074572e-01, -2.24264678e+00,\n",
       "         2.17844862e+00,  3.57876879e-01, -9.20704257e-02,\n",
       "        -1.02243549e+00, -7.58466663e-01, -2.27891421e+00],\n",
       "       [-6.91222375e-01,  7.63754529e-01, -2.48709967e+00,\n",
       "         3.75795899e-01, -6.54509549e-01, -3.52020490e-01,\n",
       "         4.21164294e-01, -9.35068995e-02,  2.71910008e-01,\n",
       "         3.57876879e-01,  1.47255561e+00, -6.82190938e-02,\n",
       "         8.90139373e-02, -2.21499801e-01,  3.00980952e-01],\n",
       "       [-2.18491207e+01,  1.87764416e+02,  1.40572057e-01,\n",
       "         2.53051611e+02, -2.64242569e+00,  1.41312791e+00,\n",
       "        -1.69908732e+00, -3.94850445e+00, -6.20564557e+00,\n",
       "        -9.20704257e-02, -6.82190938e-02,  2.13028892e+01,\n",
       "        -3.38626820e-01, -9.68051186e-01, -2.54476019e+00],\n",
       "       [ 1.45018861e+00,  7.86468061e+01, -7.54115988e-03,\n",
       "        -3.21338920e+01, -2.78161165e+01, -5.83861900e-01,\n",
       "         9.66110904e+00, -2.92110765e+00,  1.42012197e+01,\n",
       "        -1.02243549e+00,  8.90139373e-02, -3.38626820e-01,\n",
       "         1.74851230e+01, -1.89474019e+00,  9.02681545e+00],\n",
       "       [ 1.48111119e+02, -2.40085676e+02,  3.40600207e-01,\n",
       "         1.03516731e+02,  3.35949718e+01, -2.14837069e+00,\n",
       "         4.72873340e-01, -2.20599494e+00,  1.94518753e-01,\n",
       "        -7.58466663e-01, -2.21499801e-01, -9.68051186e-01,\n",
       "        -1.89474019e+00,  1.21250487e+01,  2.49807165e+00],\n",
       "       [ 1.92973647e+01, -1.14668702e+02, -2.04323856e-01,\n",
       "         1.07400371e+02,  3.95840920e+01,  4.10494361e-02,\n",
       "         1.97167318e+01,  8.70330119e-01,  1.72509351e+01,\n",
       "        -2.27891421e+00,  3.00980952e-01, -2.54476019e+00,\n",
       "         9.02681545e+00,  2.49807165e+00,  1.61354550e+01]])\n",
       "      jac: array([ 6.16535544e-07,  2.51457095e-07,  9.31322575e-09,  2.60770321e-08,\n",
       "        5.53205609e-07, -5.40167093e-08,  9.76026058e-07,  3.60421836e-06,\n",
       "        2.25752592e-06,  1.04308128e-07, -7.45058060e-09, -1.18464231e-06,\n",
       "       -6.92903996e-07, -3.39746475e-06, -3.21306288e-06])\n",
       "  message: 'Optimization terminated successfully.'\n",
       "     nfev: 4335\n",
       "      nit: 227\n",
       "     njev: 255\n",
       "   status: 0\n",
       "  success: True\n",
       "        x: array([-4.7276329 , -8.48927921,  3.37874852, 16.95261522, 10.64965389,\n",
       "        0.80818134,  0.23484829,  1.91591899,  0.4014391 , -1.64732285,\n",
       "       -0.54607578,  2.85748879,  0.66338056,  1.26397566,  0.30612864])"
      ]
     },
     "execution_count": 12,
     "metadata": {},
     "output_type": "execute_result"
    }
   ],
   "source": [
    "res"
   ]
  },
  {
   "cell_type": "markdown",
   "metadata": {},
   "source": [
    "# VECTORIZE IT"
   ]
  },
  {
   "cell_type": "markdown",
   "metadata": {},
   "source": [
    "## Let's see the SIMPLE case (1 obs) and how we've done in our fun_RBF:\n",
    "- 1 observation: X = [1,3]\n",
    "- N = 2"
   ]
  },
  {
   "cell_type": "code",
   "execution_count": 13,
   "metadata": {},
   "outputs": [
    {
     "name": "stdout",
     "output_type": "stream",
     "text": [
      "(1, 2)\n"
     ]
    },
    {
     "data": {
      "text/plain": [
       "array([[1, 5]])"
      ]
     },
     "execution_count": 13,
     "metadata": {},
     "output_type": "execute_result"
    }
   ],
   "source": [
    "N = 2\n",
    "\n",
    "#X = np.array([1,3,1,3,1,3]).reshape(3,2)\n",
    "X = np.array([1,5]).reshape(1,2)\n",
    "omega = np.array([1, 2, 3, 2, 4, 1 ])\n",
    "omega\n",
    "#X = X.reshape(1,3,2)\n",
    "print(X.shape)\n",
    "X"
   ]
  },
  {
   "cell_type": "code",
   "execution_count": 14,
   "metadata": {},
   "outputs": [
    {
     "data": {
      "text/plain": [
       "array([[3, 2],\n",
       "       [4, 1]])"
      ]
     },
     "execution_count": 14,
     "metadata": {},
     "output_type": "execute_result"
    }
   ],
   "source": [
    "\n",
    "v = omega[0:N].reshape(N, 1)\n",
    "c = omega[N: ].reshape(N, n)\n",
    "c"
   ]
  },
  {
   "cell_type": "code",
   "execution_count": 15,
   "metadata": {},
   "outputs": [
    {
     "data": {
      "text/plain": [
       "array([[ 2, -3],\n",
       "       [ 3, -4]])"
      ]
     },
     "execution_count": 15,
     "metadata": {},
     "output_type": "execute_result"
    }
   ],
   "source": [
    "# 3-1, 2-3\n",
    "# 4-1, 1-3\n",
    "(c-X)"
   ]
  },
  {
   "cell_type": "code",
   "execution_count": 16,
   "metadata": {},
   "outputs": [
    {
     "data": {
      "text/plain": [
       "array([[ 4,  9],\n",
       "       [ 9, 16]])"
      ]
     },
     "execution_count": 16,
     "metadata": {},
     "output_type": "execute_result"
    }
   ],
   "source": [
    "mat = (c-X)*(c-X)\n",
    "mat"
   ]
  },
  {
   "cell_type": "code",
   "execution_count": 17,
   "metadata": {},
   "outputs": [
    {
     "data": {
      "text/plain": [
       "array([4, 9])"
      ]
     },
     "execution_count": 17,
     "metadata": {},
     "output_type": "execute_result"
    }
   ],
   "source": [
    "mat[:,0]"
   ]
  },
  {
   "cell_type": "code",
   "execution_count": 18,
   "metadata": {},
   "outputs": [
    {
     "data": {
      "text/plain": [
       "array([13, 25])"
      ]
     },
     "execution_count": 18,
     "metadata": {},
     "output_type": "execute_result"
    }
   ],
   "source": [
    "col = mat[:,0] + mat[:,1]\n",
    "col"
   ]
  },
  {
   "cell_type": "code",
   "execution_count": 19,
   "metadata": {},
   "outputs": [
    {
     "data": {
      "text/plain": [
       "array([2.26032941e-06, 1.38879439e-11])"
      ]
     },
     "execution_count": 19,
     "metadata": {},
     "output_type": "execute_result"
    }
   ],
   "source": [
    "np.exp(-col)"
   ]
  },
  {
   "cell_type": "code",
   "execution_count": 20,
   "metadata": {},
   "outputs": [
    {
     "data": {
      "text/plain": [
       "array([2.26032941e-06, 1.38879439e-11])"
      ]
     },
     "execution_count": 20,
     "metadata": {},
     "output_type": "execute_result"
    }
   ],
   "source": [
    "col = np.exp(-col/(sigma**2))\n",
    "col"
   ]
  },
  {
   "cell_type": "code",
   "execution_count": 21,
   "metadata": {},
   "outputs": [
    {
     "data": {
      "text/plain": [
       "array([2.26035718e-06])"
      ]
     },
     "execution_count": 21,
     "metadata": {},
     "output_type": "execute_result"
    }
   ],
   "source": [
    "np.dot(col,v)"
   ]
  },
  {
   "cell_type": "code",
   "execution_count": 22,
   "metadata": {},
   "outputs": [
    {
     "data": {
      "text/plain": [
       "array([2.26035718e-06])"
      ]
     },
     "execution_count": 22,
     "metadata": {},
     "output_type": "execute_result"
    }
   ],
   "source": [
    "fun_RBF(X, omega)"
   ]
  },
  {
   "cell_type": "markdown",
   "metadata": {},
   "source": [
    "#### ok. that's the result. Let's try to vectorize it\n",
    "- suppose three observations: \n",
    "X = \n",
    "    \n",
    "    [[1, 2],\n",
    "\n",
    "    [1, 4],\n",
    "    \n",
    "    [1, 5]]"
   ]
  },
  {
   "cell_type": "code",
   "execution_count": 23,
   "metadata": {},
   "outputs": [
    {
     "name": "stdout",
     "output_type": "stream",
     "text": [
      "(3, 2)\n"
     ]
    },
    {
     "data": {
      "text/plain": [
       "array([[1, 3],\n",
       "       [1, 4],\n",
       "       [1, 5]])"
      ]
     },
     "execution_count": 23,
     "metadata": {},
     "output_type": "execute_result"
    }
   ],
   "source": [
    "N = 2\n",
    "\n",
    "X = np.array([1,3,1,4,1,5]).reshape(3,2)\n",
    "#X = np.array([1,3]).reshape(1,2)\n",
    "omega = np.array([1, 2, 3, 2, 4, 1 ])\n",
    "omega\n",
    "#X = X.reshape(1,3,2)\n",
    "print(X.shape)\n",
    "X"
   ]
  },
  {
   "cell_type": "code",
   "execution_count": 24,
   "metadata": {},
   "outputs": [
    {
     "data": {
      "text/plain": [
       "(3, 2)"
      ]
     },
     "execution_count": 24,
     "metadata": {},
     "output_type": "execute_result"
    }
   ],
   "source": [
    "X.shape"
   ]
  },
  {
   "cell_type": "code",
   "execution_count": 25,
   "metadata": {},
   "outputs": [
    {
     "data": {
      "text/plain": [
       "array([[3, 2],\n",
       "       [4, 1]])"
      ]
     },
     "execution_count": 25,
     "metadata": {},
     "output_type": "execute_result"
    }
   ],
   "source": [
    "v = omega[0:N].reshape(N, 1)\n",
    "c = omega[N: ].reshape(N, n)\n",
    "c"
   ]
  },
  {
   "cell_type": "code",
   "execution_count": 26,
   "metadata": {},
   "outputs": [],
   "source": [
    "## let's concatenate all the matrices (c and x) and then \"slice\" them in one entire vector "
   ]
  },
  {
   "cell_type": "code",
   "execution_count": null,
   "metadata": {},
   "outputs": [],
   "source": []
  },
  {
   "cell_type": "code",
   "execution_count": 27,
   "metadata": {},
   "outputs": [
    {
     "name": "stdout",
     "output_type": "stream",
     "text": [
      "(12,)\n"
     ]
    },
    {
     "data": {
      "text/plain": [
       "array([3, 2, 4, 1, 3, 2, 4, 1, 3, 2, 4, 1])"
      ]
     },
     "execution_count": 27,
     "metadata": {},
     "output_type": "execute_result"
    }
   ],
   "source": [
    "c_array = np.tile(c.reshape(-1),X.shape[0])\n",
    "print(c_array.shape)\n",
    "c_array\n",
    "\n"
   ]
  },
  {
   "cell_type": "code",
   "execution_count": 28,
   "metadata": {},
   "outputs": [
    {
     "data": {
      "text/plain": [
       "array([[1, 3, 1, 3],\n",
       "       [1, 4, 1, 4],\n",
       "       [1, 5, 1, 5]])"
      ]
     },
     "execution_count": 28,
     "metadata": {},
     "output_type": "execute_result"
    }
   ],
   "source": [
    "np.tile(X,N)"
   ]
  },
  {
   "cell_type": "code",
   "execution_count": 29,
   "metadata": {},
   "outputs": [
    {
     "name": "stdout",
     "output_type": "stream",
     "text": [
      "(12,)\n"
     ]
    },
    {
     "data": {
      "text/plain": [
       "array([1, 3, 1, 3, 1, 4, 1, 4, 1, 5, 1, 5])"
      ]
     },
     "execution_count": 29,
     "metadata": {},
     "output_type": "execute_result"
    }
   ],
   "source": [
    "X_array = np.tile(X,N).reshape(-1)\n",
    "print(X_array.shape)\n",
    "X_array"
   ]
  },
  {
   "cell_type": "code",
   "execution_count": 30,
   "metadata": {},
   "outputs": [],
   "source": [
    "# now:\n",
    "# let's subtract the values of c_array and X_array\n",
    "# let's obtain 1 tensor of P(=3) NX2 matrices (matrix for each observation)\n",
    "# let's power the result in order compute later the norm "
   ]
  },
  {
   "cell_type": "code",
   "execution_count": 31,
   "metadata": {},
   "outputs": [
    {
     "name": "stdout",
     "output_type": "stream",
     "text": [
      "[[ 2 -1]\n",
      " [ 3 -2]]\n",
      "\n",
      "\n",
      "[[ 2 -2]\n",
      " [ 3 -3]]\n",
      "\n",
      "\n",
      "[[ 2 -3]\n",
      " [ 3 -4]]\n"
     ]
    }
   ],
   "source": [
    "print(c-np.array([1,3]).reshape(1,2))\n",
    "print('\\n')\n",
    "print(c-np.array([1,4]).reshape(1,2))\n",
    "print('\\n')\n",
    "print((c-np.array([1,5]).reshape(1,2)))"
   ]
  },
  {
   "cell_type": "code",
   "execution_count": 32,
   "metadata": {},
   "outputs": [
    {
     "data": {
      "text/plain": [
       "array([[[ 2, -1],\n",
       "        [ 3, -2]],\n",
       "\n",
       "       [[ 2, -2],\n",
       "        [ 3, -3]],\n",
       "\n",
       "       [[ 2, -3],\n",
       "        [ 3, -4]]])"
      ]
     },
     "execution_count": 32,
     "metadata": {},
     "output_type": "execute_result"
    }
   ],
   "source": [
    "(c_array-X_array).reshape(X.shape[0],N,2)"
   ]
  },
  {
   "cell_type": "code",
   "execution_count": 33,
   "metadata": {},
   "outputs": [
    {
     "name": "stdout",
     "output_type": "stream",
     "text": [
      "[[4 1]\n",
      " [9 4]]\n",
      "\n",
      "\n",
      "[[4 4]\n",
      " [9 9]]\n",
      "\n",
      "\n",
      "[[ 4  9]\n",
      " [ 9 16]]\n"
     ]
    }
   ],
   "source": [
    "print((c-np.array([1,3]).reshape(1,2))*(c-np.array([1,3]).reshape(1,2)))\n",
    "print('\\n')\n",
    "print((c-np.array([1,4]).reshape(1,2))*(c-np.array([1,4]).reshape(1,2)))\n",
    "print('\\n')\n",
    "print((c-np.array([1,5]).reshape(1,2))*(c-np.array([1,5]).reshape(1,2)))"
   ]
  },
  {
   "cell_type": "code",
   "execution_count": 34,
   "metadata": {},
   "outputs": [
    {
     "data": {
      "text/plain": [
       "array([[[ 4,  1],\n",
       "        [ 9,  4]],\n",
       "\n",
       "       [[ 4,  4],\n",
       "        [ 9,  9]],\n",
       "\n",
       "       [[ 4,  9],\n",
       "        [ 9, 16]]])"
      ]
     },
     "execution_count": 34,
     "metadata": {},
     "output_type": "execute_result"
    }
   ],
   "source": [
    "mat = ((c_array-X_array).reshape(X.shape[0],N,2))**2\n",
    "mat"
   ]
  },
  {
   "cell_type": "code",
   "execution_count": 35,
   "metadata": {},
   "outputs": [
    {
     "data": {
      "text/plain": [
       "array([[ 5, 13],\n",
       "       [ 8, 18],\n",
       "       [13, 25]])"
      ]
     },
     "execution_count": 35,
     "metadata": {},
     "output_type": "execute_result"
    }
   ],
   "source": [
    "# sum the values of each matrix\n",
    "col = mat[:,:,0] + mat[:,:,1]\n",
    "col"
   ]
  },
  {
   "cell_type": "code",
   "execution_count": 36,
   "metadata": {},
   "outputs": [
    {
     "data": {
      "text/plain": [
       "array([[6.73794700e-03, 2.26032941e-06],\n",
       "       [3.35462628e-04, 1.52299797e-08],\n",
       "       [2.26032941e-06, 1.38879439e-11]])"
      ]
     },
     "execution_count": 36,
     "metadata": {},
     "output_type": "execute_result"
    }
   ],
   "source": [
    "col = np.exp(-col/(sigma**2))\n",
    "col"
   ]
  },
  {
   "cell_type": "code",
   "execution_count": 37,
   "metadata": {},
   "outputs": [
    {
     "data": {
      "text/plain": [
       "array([[6.74246766e-03],\n",
       "       [3.35493088e-04],\n",
       "       [2.26035718e-06]])"
      ]
     },
     "execution_count": 37,
     "metadata": {},
     "output_type": "execute_result"
    }
   ],
   "source": [
    "np.dot(col, v)"
   ]
  },
  {
   "cell_type": "code",
   "execution_count": 38,
   "metadata": {},
   "outputs": [
    {
     "data": {
      "text/plain": [
       "array([[6.74246766e-03],\n",
       "       [3.35493088e-04],\n",
       "       [2.26035718e-06]])"
      ]
     },
     "execution_count": 38,
     "metadata": {},
     "output_type": "execute_result"
    }
   ],
   "source": [
    "# which is the right result\n",
    "np.apply_along_axis(fun_RBF, 1, X, omega)"
   ]
  },
  {
   "cell_type": "markdown",
   "metadata": {},
   "source": [
    "#### implementing now the function"
   ]
  },
  {
   "cell_type": "code",
   "execution_count": 39,
   "metadata": {},
   "outputs": [],
   "source": [
    "def fun_RBF_new(X, omega):\n",
    "    \n",
    "    v = omega[0:N].reshape(N, 1)\n",
    "    c = omega[N: ].reshape(N, n)\n",
    "\n",
    "    c_array = np.tile(c.reshape(-1), X.shape[0])\n",
    "    X_array = np.tile(X, N).reshape(-1)\n",
    "\n",
    "    mat = ((c_array-X_array).reshape(X.shape[0],N,2))**2\n",
    "\n",
    "    col = mat[:,:,0] + mat[:,:,1]\n",
    "    col = np.exp(-col/(sigma**2))\n",
    "\n",
    "\n",
    "    return np.dot(col,v)"
   ]
  },
  {
   "cell_type": "code",
   "execution_count": 40,
   "metadata": {},
   "outputs": [],
   "source": [
    "N = 5\n",
    "X = np.array([1,2,3,4,5,6]).reshape(3,2)\n",
    "n = X.shape[1]\n",
    "omega = np.random.randn(N + N*n)"
   ]
  },
  {
   "cell_type": "code",
   "execution_count": 41,
   "metadata": {},
   "outputs": [
    {
     "data": {
      "text/plain": [
       "array([[-2.00309342e-01],\n",
       "       [-1.13197357e-08],\n",
       "       [-7.22472931e-23]])"
      ]
     },
     "execution_count": 41,
     "metadata": {},
     "output_type": "execute_result"
    }
   ],
   "source": [
    "np.apply_along_axis(fun_RBF, 1, X, omega)"
   ]
  },
  {
   "cell_type": "code",
   "execution_count": 42,
   "metadata": {},
   "outputs": [
    {
     "data": {
      "text/plain": [
       "array([[-2.00309342e-01],\n",
       "       [-1.13197357e-08],\n",
       "       [-7.22472931e-23]])"
      ]
     },
     "execution_count": 42,
     "metadata": {},
     "output_type": "execute_result"
    }
   ],
   "source": [
    "fun_RBF_new(X,omega)"
   ]
  },
  {
   "cell_type": "markdown",
   "metadata": {},
   "source": [
    "# ok, now try to minimize using the real dataset"
   ]
  },
  {
   "cell_type": "code",
   "execution_count": 222,
   "metadata": {},
   "outputs": [],
   "source": [
    "X = df[['x1', 'x2']].to_numpy()\n",
    "y_true = df[['y']].to_numpy().reshape(1,-1)\n",
    "\n",
    "#X_train, X_validation, X_test, y_train, y_validation, y_test = split_dataset(X, y_true)"
   ]
  },
  {
   "cell_type": "code",
   "execution_count": 240,
   "metadata": {},
   "outputs": [],
   "source": [
    "N = 20\n",
    "n = X.shape[1]\n",
    "omega = np.random.randn(N + N*n)\n",
    "\n",
    "sigma = 1\n",
    "rho = 0.00001"
   ]
  },
  {
   "cell_type": "code",
   "execution_count": 241,
   "metadata": {},
   "outputs": [],
   "source": [
    "def loss(omega, X, y_true):\n",
    "    y_pred = fun_RBF_new(X,omega).reshape(1,-1)\n",
    "    l = np.sum((y_pred - y_true)**2)/(2 * X.shape[0]) + rho * np.linalg.norm(omega)**2\n",
    "    return l"
   ]
  },
  {
   "cell_type": "code",
   "execution_count": 242,
   "metadata": {},
   "outputs": [
    {
     "data": {
      "text/plain": [
       "1.8007078170776367"
      ]
     },
     "execution_count": 242,
     "metadata": {},
     "output_type": "execute_result"
    }
   ],
   "source": [
    "t1 = time()\n",
    "res = minimize(loss, omega,jac=fun_grad_RBF, args=(X, y_true))\n",
    "t1 = time()-t1\n",
    "t1"
   ]
  },
  {
   "cell_type": "code",
   "execution_count": 243,
   "metadata": {},
   "outputs": [
    {
     "data": {
      "text/plain": [
       "      fun: 0.01895112255653295\n",
       " hess_inv: array([[ 6.46218068e+03, -1.05025016e+03, -8.73764199e+02, ...,\n",
       "         9.43528189e+00, -1.83636110e+01,  4.79563185e+01],\n",
       "       [-1.05025016e+03,  8.08967689e+03,  2.65277981e+03, ...,\n",
       "         6.36805254e+01,  1.34673809e+02,  9.75654468e-02],\n",
       "       [-8.73764199e+02,  2.65277981e+03,  3.39349684e+03, ...,\n",
       "        -6.55015797e+01,  3.65649272e+01, -3.14121142e+01],\n",
       "       ...,\n",
       "       [ 9.43528189e+00,  6.36805254e+01, -6.55015797e+01, ...,\n",
       "         9.27894704e+01, -1.46245792e-01,  2.68491059e+00],\n",
       "       [-1.83636110e+01,  1.34673809e+02,  3.65649272e+01, ...,\n",
       "        -1.46245792e-01,  8.95130131e+01,  4.69244231e+01],\n",
       "       [ 4.79563185e+01,  9.75654467e-02, -3.14121142e+01, ...,\n",
       "         2.68491059e+00,  4.69244231e+01,  1.54367698e+02]])\n",
       "      jac: array([ 1.57126952e-07, -7.48347278e-07,  1.30030240e-06,  1.00529518e-06,\n",
       "       -1.97142075e-06, -6.25631717e-07, -1.29378993e-06,  1.41140412e-06,\n",
       "       -1.17069204e-06, -2.86747182e-06, -6.20163987e-07,  2.18338780e-06,\n",
       "       -7.33503334e-07,  9.16001438e-07,  2.61573470e-07,  2.12632745e-06,\n",
       "       -7.07413230e-07,  3.59161224e-07, -5.00521355e-07,  6.25341754e-08,\n",
       "       -1.22102090e-07, -5.94939176e-06, -5.19367500e-07, -2.22563575e-07,\n",
       "       -1.34399929e-06, -5.06451717e-06, -1.10729439e-06, -4.51219093e-06,\n",
       "        2.45922658e-06,  5.48194635e-06,  1.47010654e-06,  1.41675929e-06,\n",
       "       -4.07089256e-07, -1.74441279e-07,  3.46174215e-06, -3.15355795e-06,\n",
       "       -7.48067963e-06,  7.91504621e-07,  4.84730211e-06,  5.01213844e-07,\n",
       "        1.03736625e-06, -8.88921962e-07, -4.89423004e-06,  7.56187255e-07,\n",
       "        1.69058766e-07,  6.62660821e-06, -3.66764399e-06,  3.91377272e-06,\n",
       "       -3.02630556e-06,  7.38842897e-07,  7.24764912e-06,  1.06310173e-06,\n",
       "       -2.22954416e-06,  2.33199094e-06, -2.94408391e-06, -4.99647490e-07,\n",
       "        4.64877807e-06,  6.54387502e-07, -2.38803523e-06, -1.02748109e-06])\n",
       "  message: 'Optimization terminated successfully.'\n",
       "     nfev: 1172\n",
       "      nit: 1153\n",
       "     njev: 1172\n",
       "   status: 0\n",
       "  success: True\n",
       "        x: array([ 3.23875167e+00,  9.67447898e+00,  4.31455828e+00,  7.85719759e+00,\n",
       "        4.31948152e+00,  9.16466403e+00,  8.57394517e+00,  6.73450565e+00,\n",
       "       -6.49726974e+00, -5.55710295e+00,  8.71794163e+00, -4.70980514e+00,\n",
       "        4.39518147e+00, -3.47998934e+00, -5.04528586e+00, -3.42159666e+00,\n",
       "        5.65643657e+00,  7.40395422e+00,  7.78563441e+00,  7.38909188e+00,\n",
       "       -2.92449727e-01,  6.49143917e-03, -2.43861400e+00, -1.92299740e+00,\n",
       "       -1.08882563e+00,  3.37997806e-01, -5.86092918e-01, -1.90287907e+00,\n",
       "       -2.99506767e-01,  1.93570144e+00,  2.83180514e+00,  1.05107501e+00,\n",
       "        1.41089281e+00,  1.82504213e+00,  1.36257263e+00, -4.24814201e-02,\n",
       "       -3.07252901e-01,  8.58286933e-01, -1.93280067e+00,  8.30055748e-01,\n",
       "        2.92044800e+00, -4.12167374e-01, -1.05168060e-01, -7.90024773e-01,\n",
       "       -4.17622485e-01,  1.94494722e+00,  1.73963379e+00, -7.48601676e-01,\n",
       "        1.76656013e+00,  7.61315787e-01,  1.74498906e+00, -7.46862053e-01,\n",
       "       -1.72586259e+00,  1.98085239e+00, -3.08149063e+00,  3.25155634e-01,\n",
       "        1.43479767e+00, -1.83531004e+00, -3.08142603e+00,  3.25048930e-01])"
      ]
     },
     "execution_count": 243,
     "metadata": {},
     "output_type": "execute_result"
    }
   ],
   "source": [
    "res"
   ]
  },
  {
   "cell_type": "markdown",
   "metadata": {},
   "source": [
    "## gradientone pane e vone"
   ]
  },
  {
   "cell_type": "code",
   "execution_count": 212,
   "metadata": {},
   "outputs": [],
   "source": [
    "def fun_grad_RBF(omega, X, y_true):\n",
    "    \n",
    "    v = omega[0:N].reshape(N, 1)\n",
    "    c = omega[N: ].reshape(N, n)\n",
    "\n",
    "    ### dE_dv\n",
    "    c_array = np.tile(c.reshape(-1), X.shape[0])\n",
    "    X_array = np.tile(X, N).reshape(-1)\n",
    "\n",
    "    # ||X-c||**2 matrix \n",
    "    mat = ((c_array-X_array).reshape(X.shape[0],N,2))**2\n",
    "    col = mat[:,:,0] + mat[:,:,1]\n",
    "    \n",
    "    # activation function\n",
    "    col = np.exp(-col/(sigma**2))\n",
    "\n",
    "    # dE_dv\n",
    "    dE_dv = np.dot((fun_RBF_new(X,omega).T - y_true), col)/X.shape[0] + 2 * rho * v.T\n",
    "    dE_dv = dE_dv.reshape(-1,1)\n",
    "    \n",
    "    ### dE_dc\n",
    "    mat1 = (-(c_array-X_array)).reshape(X.shape[0],N,2)\n",
    "    mat1 = mat1[:,:,0]\n",
    "    mat1 = 2 * (col*v.T*mat1) / (sigma**2)\n",
    "    mat1 = np.dot((fun_RBF_new(X,omega).T - y_true), mat1)/X.shape[0]\n",
    "\n",
    "    mat2 = (-(c_array-X_array)).reshape(X.shape[0],N,2)\n",
    "    mat2 = mat2[:,:,1]\n",
    "    mat2 = 2 * (col*v.T*mat2) / (sigma**2)\n",
    "    mat2 = np.dot((fun_RBF_new(X,omega).T - y_true), mat2)/X.shape[0]\n",
    "\n",
    "    fusion = np.append(mat1.T, mat2.T, axis = 1)\n",
    "    \n",
    "    # dE_dc\n",
    "    dE_dc = fusion + 2 * rho * c\n",
    "    \n",
    "    return np.concatenate((dE_dv.reshape(1,-1), dE_dc.reshape(1,-1)), axis = 1).reshape(-1)"
   ]
  },
  {
   "cell_type": "code",
   "execution_count": 213,
   "metadata": {},
   "outputs": [
    {
     "data": {
      "text/plain": [
       "(30,)"
      ]
     },
     "execution_count": 213,
     "metadata": {},
     "output_type": "execute_result"
    }
   ],
   "source": [
    "fun_grad_RBF(omega, X, y_true).shape"
   ]
  },
  {
   "cell_type": "code",
   "execution_count": 221,
   "metadata": {},
   "outputs": [
    {
     "name": "stdout",
     "output_type": "stream",
     "text": [
      "Time: 0.3963179588317871\n",
      "Minimized error: 0.03965382544934101\n",
      "Success: True\n"
     ]
    }
   ],
   "source": [
    "t1 = time()\n",
    "res = minimize(loss, omega,jac=fun_grad_RBF, args=(X, y_true))\n",
    "print(\"Time:\", time()-t1)\n",
    "print(\"Minimized error:\", res.fun)\n",
    "print(\"Success:\", res.success)"
   ]
  },
  {
   "cell_type": "code",
   "execution_count": null,
   "metadata": {},
   "outputs": [],
   "source": []
  },
  {
   "cell_type": "code",
   "execution_count": null,
   "metadata": {},
   "outputs": [],
   "source": []
  },
  {
   "cell_type": "code",
   "execution_count": 143,
   "metadata": {},
   "outputs": [
    {
     "data": {
      "text/plain": [
       "(30,)"
      ]
     },
     "execution_count": 143,
     "metadata": {},
     "output_type": "execute_result"
    }
   ],
   "source": [
    "omega.shape"
   ]
  },
  {
   "cell_type": "code",
   "execution_count": 153,
   "metadata": {},
   "outputs": [],
   "source": [
    "v = omega[0:N].reshape(N, 1)\n",
    "c = omega[N: ].reshape(N, n)"
   ]
  },
  {
   "cell_type": "code",
   "execution_count": 154,
   "metadata": {},
   "outputs": [],
   "source": [
    "### dE_dv\n",
    "c_array = np.tile(c.reshape(-1), X.shape[0])\n",
    "X_array = np.tile(X, N).reshape(-1)\n",
    "\n",
    "# ||X-c||**2 matrix \n",
    "mat = ((c_array-X_array).reshape(X.shape[0],N,2))**2\n",
    "col = mat[:,:,0] + mat[:,:,1]\n",
    "\n",
    "# activation function\n",
    "col = np.exp(-col/(sigma**2))"
   ]
  },
  {
   "cell_type": "code",
   "execution_count": 157,
   "metadata": {},
   "outputs": [
    {
     "data": {
      "text/plain": [
       "(300, 10)"
      ]
     },
     "execution_count": 157,
     "metadata": {},
     "output_type": "execute_result"
    }
   ],
   "source": [
    "col.shape"
   ]
  },
  {
   "cell_type": "code",
   "execution_count": 184,
   "metadata": {},
   "outputs": [],
   "source": [
    "# dE_dv\n",
    "dE_dv = np.dot((fun_RBF_new(X,omega).T - y_true), col)/X.shape[0] + 2 * rho * v.T\n",
    "dE_dv = dE_dv.reshape(-1,1)"
   ]
  },
  {
   "cell_type": "code",
   "execution_count": 185,
   "metadata": {},
   "outputs": [],
   "source": [
    "### dE_dc\n",
    "mat1 = ((c_array-X_array)).reshape(X.shape[0],N,2)\n",
    "mat1 = mat1[:,:,0]\n",
    "mat1 = 2 * (col*v.T*mat1) / (sigma**2)\n",
    "mat1 = np.dot((fun_RBF_new(X,omega).T - y_true), mat1)/X.shape[0]"
   ]
  },
  {
   "cell_type": "code",
   "execution_count": 186,
   "metadata": {},
   "outputs": [],
   "source": [
    "mat2 = ((c_array-X_array)).reshape(X.shape[0],N,2)\n",
    "mat2 = mat2[:,:,1]\n",
    "mat2 = 2 * (col*v.T*mat2) / (sigma**2)\n",
    "mat2 = np.dot((fun_RBF_new(X,omega).T - y_true), mat2)/X.shape[0]"
   ]
  },
  {
   "cell_type": "code",
   "execution_count": 189,
   "metadata": {},
   "outputs": [],
   "source": [
    "fusion = np.append(mat1.T, mat2.T, axis = 1)\n",
    "\n",
    "# dE_dc\n",
    "dE_dc = fusion + 2 * rho * c"
   ]
  },
  {
   "cell_type": "code",
   "execution_count": 191,
   "metadata": {},
   "outputs": [
    {
     "data": {
      "text/plain": [
       "(10, 2)"
      ]
     },
     "execution_count": 191,
     "metadata": {},
     "output_type": "execute_result"
    }
   ],
   "source": [
    "c.shape"
   ]
  },
  {
   "cell_type": "code",
   "execution_count": 158,
   "metadata": {},
   "outputs": [
    {
     "data": {
      "text/plain": [
       "(1, 300)"
      ]
     },
     "execution_count": 158,
     "metadata": {},
     "output_type": "execute_result"
    }
   ],
   "source": [
    "fun_RBF_new(X,omega).T.shape"
   ]
  },
  {
   "cell_type": "code",
   "execution_count": 168,
   "metadata": {},
   "outputs": [
    {
     "data": {
      "text/plain": [
       "array([[ 1,  2,  3,  4,  5],\n",
       "       [ 4,  8, 12, 16, 20]])"
      ]
     },
     "execution_count": 168,
     "metadata": {},
     "output_type": "execute_result"
    }
   ],
   "source": [
    "np.array([1,1,1,1,1,2,2,2,2,2]).reshape(2,5)*np.array([1,2,3,4,5])*np.array([1,1,1,1,1,2,2,2,2,2]).reshape(2,5)"
   ]
  },
  {
   "cell_type": "code",
   "execution_count": 164,
   "metadata": {},
   "outputs": [
    {
     "data": {
      "text/plain": [
       "(1, 10)"
      ]
     },
     "execution_count": 164,
     "metadata": {},
     "output_type": "execute_result"
    }
   ],
   "source": [
    "mat2.shape"
   ]
  },
  {
   "cell_type": "code",
   "execution_count": 166,
   "metadata": {},
   "outputs": [
    {
     "data": {
      "text/plain": [
       "array([[1, 1, 1, 1, 1],\n",
       "       [2, 2, 2, 2, 2]])"
      ]
     },
     "execution_count": 166,
     "metadata": {},
     "output_type": "execute_result"
    }
   ],
   "source": [
    "np.array([1,1,1,1,1,2,2,2,2,2]).reshape(2,5)"
   ]
  },
  {
   "cell_type": "code",
   "execution_count": null,
   "metadata": {},
   "outputs": [],
   "source": []
  }
 ],
 "metadata": {
  "kernelspec": {
   "display_name": "Python 3",
   "language": "python",
   "name": "python3"
  },
  "language_info": {
   "codemirror_mode": {
    "name": "ipython",
    "version": 3
   },
   "file_extension": ".py",
   "mimetype": "text/x-python",
   "name": "python",
   "nbconvert_exporter": "python",
   "pygments_lexer": "ipython3",
   "version": "3.7.3"
  }
 },
 "nbformat": 4,
 "nbformat_minor": 2
}
